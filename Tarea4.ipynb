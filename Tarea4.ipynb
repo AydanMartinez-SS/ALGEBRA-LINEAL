{
  "nbformat": 4,
  "nbformat_minor": 0,
  "metadata": {
    "colab": {
      "provenance": [],
      "include_colab_link": true
    },
    "kernelspec": {
      "name": "python3",
      "display_name": "Python 3"
    },
    "language_info": {
      "name": "python"
    }
  },
  "cells": [
    {
      "cell_type": "markdown",
      "metadata": {
        "id": "view-in-github",
        "colab_type": "text"
      },
      "source": [
        "<a href=\"https://colab.research.google.com/github/AydanMartinez-SS/ALGEBRA-LINEAL/blob/main/Tarea4.ipynb\" target=\"_parent\"><img src=\"https://colab.research.google.com/assets/colab-badge.svg\" alt=\"Open In Colab\"/></a>"
      ]
    },
    {
      "cell_type": "code",
      "execution_count": 1,
      "metadata": {
        "id": "uisCXUFKkJE-",
        "outputId": "dda88982-35b2-43d6-9817-9005a79744ad",
        "colab": {
          "base_uri": "https://localhost:8080/"
        }
      },
      "outputs": [
        {
          "output_type": "stream",
          "name": "stdout",
          "text": [
            "Collecting nacal\n",
            "  Downloading nacal-0.1.30-py3-none-any.whl (33 kB)\n",
            "Requirement already satisfied: sympy>=1.1.0 in /usr/local/lib/python3.10/dist-packages (from nacal) (1.12)\n",
            "Requirement already satisfied: mpmath>=0.19 in /usr/local/lib/python3.10/dist-packages (from sympy>=1.1.0->nacal) (1.3.0)\n",
            "Installing collected packages: nacal\n",
            "Successfully installed nacal-0.1.30\n"
          ]
        }
      ],
      "source": [
        "!pip install --target=$nb_path nacal\n",
        "from nacal import *"
      ]
    },
    {
      "cell_type": "markdown",
      "metadata": {
        "id": "LiJ1aW_Nj1X5"
      },
      "source": [
        "### Primer ejercicio\n",
        "\n"
      ]
    },
    {
      "cell_type": "markdown",
      "metadata": {
        "id": "roLWrzwXj1X6"
      },
      "source": [
        "Cree la matriz\n",
        "$${A}=\\begin{bmatrix}1&0&0&0\\\\2&0&0&0\\\\0&3&3&0\\\\0&3&4&1\\\\0&1&2&1\\end{bmatrix}$$\n",
        "\n"
      ]
    },
    {
      "cell_type": "code",
      "source": [
        "a = Vector([1,2,0,0,0])\n",
        "b = Vector([0,0,3,3,1])\n",
        "f = Vector([0,0,3,4,2])\n",
        "d = Vector([0,0,0,1,1])\n",
        "A = [a,b,f,d]\n",
        "\n",
        "AB = Matrix([([1,0,0,0]),\n",
        "             ([2,0,0,0]),\n",
        "             ([0,3,3,0]),\n",
        "             ([0,1,2,1])])\n",
        "AB"
      ],
      "metadata": {
        "id": "aptVBvt0ks39",
        "outputId": "0e8aabb9-58b1-4cd8-bee7-124579322169",
        "colab": {
          "base_uri": "https://localhost:8080/",
          "height": 46
        }
      },
      "execution_count": 2,
      "outputs": [
        {
          "output_type": "execute_result",
          "data": {
            "text/plain": [
              "Matrix([Vector([1, 2, 0, 0]), Vector([0, 0, 3, 1]), Vector([0, 0, 3, 2]), Vector([0, 0, 0, 1])])"
            ],
            "text/html": [
              "<p style=\"text-align:center;\">$\\left[ \\begin{array}{cccc}1&0&0&0\\\\2&0&0&0\\\\0&3&3&0\\\\0&1&2&1\\\\ \\end{array} \\right]$</p>"
            ],
            "image/png": "$\\left[ \\begin{array}{cccc}1&0&0&0\\\\2&0&0&0\\\\0&3&3&0\\\\0&1&2&1\\\\ \\end{array} \\right]$",
            "text/latex": "$\\left[ \\begin{array}{cccc}1&0&0&0\\\\2&0&0&0\\\\0&3&3&0\\\\0&1&2&1\\\\ \\end{array} \\right]$"
          },
          "metadata": {},
          "execution_count": 2
        }
      ]
    },
    {
      "cell_type": "markdown",
      "source": [
        "$\\left[ \\begin{array}{cccc}1&0&0&0\\\\2&0&0&0\\\\0&3&3&0\\\\0&1&2&1\\\\ \\end{array} \\right]$"
      ],
      "metadata": {
        "id": "QTRI9NdlYAac"
      }
    },
    {
      "cell_type": "markdown",
      "metadata": {
        "id": "uXXsQDPtj1X6"
      },
      "source": [
        "\n",
        "Cree a partir de ${A}$ una matriz cuya única columna sea la\n",
        "primera columna de ${A}$\n",
        "\n"
      ]
    },
    {
      "cell_type": "code",
      "source": [
        "Q = (AB|1)\n",
        "Q"
      ],
      "metadata": {
        "id": "4ks9WtQ2k1zI",
        "outputId": "462b03d1-42f6-4746-c580-67641debe753",
        "colab": {
          "base_uri": "https://localhost:8080/",
          "height": 46
        }
      },
      "execution_count": 39,
      "outputs": [
        {
          "output_type": "execute_result",
          "data": {
            "text/plain": [
              "Vector([1, 2, 0, 0])"
            ],
            "text/html": [
              "<p style=\"text-align:center;\">$\\begin{pmatrix}1\\\\ 2\\\\ 0\\\\ 0\\end{pmatrix}$</p>"
            ],
            "image/png": "$\\begin{pmatrix}1\\\\ 2\\\\ 0\\\\ 0\\end{pmatrix}$",
            "text/latex": "$\\begin{pmatrix}1\\\\ 2\\\\ 0\\\\ 0\\end{pmatrix}$"
          },
          "metadata": {},
          "execution_count": 39
        }
      ]
    },
    {
      "cell_type": "markdown",
      "source": [
        "$\\begin{pmatrix}1\\\\ 2\\\\ 0\\\\ 0\\end{pmatrix}$"
      ],
      "metadata": {
        "id": "xnjbn-xDm-Wk"
      }
    },
    {
      "cell_type": "markdown",
      "metadata": {
        "id": "M8GNqqerj1X7"
      },
      "source": [
        "Cree a partir de ${A}$ una matriz cuya única columna sea la segunda\n",
        "fila de ${A}$\n",
        "\n"
      ]
    },
    {
      "cell_type": "code",
      "source": [
        "O = 2|AB\n",
        "O"
      ],
      "metadata": {
        "id": "G13H5wEAlBM-",
        "outputId": "951fc08c-4eab-48ac-907c-132281683f02",
        "colab": {
          "base_uri": "https://localhost:8080/",
          "height": 46
        }
      },
      "execution_count": 40,
      "outputs": [
        {
          "output_type": "execute_result",
          "data": {
            "text/plain": [
              "Vector([2, 0, 0, 0])"
            ],
            "text/html": [
              "<p style=\"text-align:center;\">$\\begin{pmatrix}2,& 0,& 0,& 0,\\end{pmatrix}$</p>"
            ],
            "image/png": "$\\begin{pmatrix}2,& 0,& 0,& 0,\\end{pmatrix}$",
            "text/latex": "$\\begin{pmatrix}2,& 0,& 0,& 0,\\end{pmatrix}$"
          },
          "metadata": {},
          "execution_count": 40
        }
      ]
    },
    {
      "cell_type": "markdown",
      "source": [
        "$\\begin{pmatrix}2,& 0,& 0,& 0,\\end{pmatrix}$"
      ],
      "metadata": {
        "id": "MrYkTFGzmvE9"
      }
    },
    {
      "cell_type": "markdown",
      "metadata": {
        "id": "AKjPfZxaj1X8"
      },
      "source": [
        "<div class=\"EXERCISE\">\n",
        "Cree a partir de $A$ una matriz cuya única fila sea la primera\n",
        "fila de $A$\n",
        "\n",
        "</div>\n",
        "\n"
      ]
    },
    {
      "cell_type": "code",
      "source": [
        "T = 1|AB\n",
        "T"
      ],
      "metadata": {
        "id": "d0omQE0rlGMW",
        "outputId": "4027ab44-8a3c-41ea-9e81-3ecc2dd5657b",
        "colab": {
          "base_uri": "https://localhost:8080/",
          "height": 46
        }
      },
      "execution_count": 41,
      "outputs": [
        {
          "output_type": "execute_result",
          "data": {
            "text/plain": [
              "Vector([1, 0, 0, 0])"
            ],
            "text/html": [
              "<p style=\"text-align:center;\">$\\begin{pmatrix}1,& 0,& 0,& 0,\\end{pmatrix}$</p>"
            ],
            "image/png": "$\\begin{pmatrix}1,& 0,& 0,& 0,\\end{pmatrix}$",
            "text/latex": "$\\begin{pmatrix}1,& 0,& 0,& 0,\\end{pmatrix}$"
          },
          "metadata": {},
          "execution_count": 41
        }
      ]
    },
    {
      "cell_type": "markdown",
      "source": [
        "$\\begin{pmatrix}1,& 0,& 0,& 0,\\end{pmatrix}$\n"
      ],
      "metadata": {
        "id": "DDOUme02nMqG"
      }
    },
    {
      "cell_type": "markdown",
      "metadata": {
        "id": "BaPPzRJjj1X9"
      },
      "source": [
        "### Segundo ejercicio\n",
        "\n"
      ]
    },
    {
      "cell_type": "markdown",
      "metadata": {
        "id": "96CPH5a_j1X9"
      },
      "source": [
        "Calcule el siguiente vector: 3 veces la primera columna de $A$\n",
        "menos la segunda columna de $A$ mas 2 veces la tercera columna\n",
        "menos 3 veces la última columna de $A$\n",
        "\n"
      ]
    },
    {
      "cell_type": "code",
      "source": [
        "op1 = 3*(AB|1)-(AB|2)+(2*(AB|3)-(3*(AB|4)))\n",
        "print(op1)"
      ],
      "metadata": {
        "id": "frH6ZOYnmErd",
        "outputId": "8085da61-cb22-4d62-ddd9-a8467d2cf0b4",
        "colab": {
          "base_uri": "https://localhost:8080/"
        }
      },
      "execution_count": 8,
      "outputs": [
        {
          "output_type": "stream",
          "name": "stdout",
          "text": [
            "Vector([3, 6, 3, 0])\n"
          ]
        }
      ]
    },
    {
      "cell_type": "markdown",
      "source": [],
      "metadata": {
        "id": "wKe07DO9Zs0B"
      }
    },
    {
      "cell_type": "markdown",
      "metadata": {
        "id": "MxEQJrEKj1X-"
      },
      "source": [
        "### Tercer ejercicio\n",
        "\n"
      ]
    },
    {
      "cell_type": "markdown",
      "metadata": {
        "id": "dsc0wXPHj1YA"
      },
      "source": [
        "Proporcione ejemplos de matrices 3 por 3 no nulas de los siguientes\n",
        "tipos de matrices:\n",
        "\n",
        "-   Una matriz diagonal\n",
        "\n"
      ]
    },
    {
      "cell_type": "code",
      "source": [
        "H = Matrix([[3,0,0],\n",
        "            [0,6,0],\n",
        "            [0,0,9]])\n",
        "H"
      ],
      "metadata": {
        "id": "T6blJI3YmQt1",
        "outputId": "54f29431-e8ee-4f1b-e28d-c6cc3e5f40b3",
        "colab": {
          "base_uri": "https://localhost:8080/",
          "height": 46
        }
      },
      "execution_count": 42,
      "outputs": [
        {
          "output_type": "execute_result",
          "data": {
            "text/plain": [
              "Matrix([Vector([3, 0, 0]), Vector([0, 6, 0]), Vector([0, 0, 9])])"
            ],
            "text/html": [
              "<p style=\"text-align:center;\">$\\left[ \\begin{array}{ccc}3&0&0\\\\0&6&0\\\\0&0&9\\\\ \\end{array} \\right]$</p>"
            ],
            "image/png": "$\\left[ \\begin{array}{ccc}3&0&0\\\\0&6&0\\\\0&0&9\\\\ \\end{array} \\right]$",
            "text/latex": "$\\left[ \\begin{array}{ccc}3&0&0\\\\0&6&0\\\\0&0&9\\\\ \\end{array} \\right]$"
          },
          "metadata": {},
          "execution_count": 42
        }
      ]
    },
    {
      "cell_type": "markdown",
      "source": [
        "$\\left[ \\begin{array}{ccc}3&0&0\\\\0&6&0\\\\0&0&9\\\\ \\end{array} \\right]$"
      ],
      "metadata": {
        "id": "4SgIWFYknjMz"
      }
    },
    {
      "cell_type": "markdown",
      "metadata": {
        "id": "j5rXy3Waj1YA"
      },
      "source": [
        "-   Una matriz simétrica\n",
        "\n"
      ]
    },
    {
      "cell_type": "code",
      "source": [
        "Y = Matrix([[5,9,6],\n",
        "            [7,2,0],\n",
        "            [1,4,9]])\n",
        "Y"
      ],
      "metadata": {
        "id": "zDghbArCmQ-v",
        "outputId": "a294d539-1101-41e3-95f2-19e8c835aa8b",
        "colab": {
          "base_uri": "https://localhost:8080/",
          "height": 46
        }
      },
      "execution_count": 36,
      "outputs": [
        {
          "output_type": "execute_result",
          "data": {
            "text/plain": [
              "Matrix([Vector([5, 7, 1]), Vector([9, 2, 4]), Vector([6, 0, 9])])"
            ],
            "text/html": [
              "<p style=\"text-align:center;\">$\\left[ \\begin{array}{ccc}5&9&6\\\\7&2&0\\\\1&4&9\\\\ \\end{array} \\right]$</p>"
            ],
            "image/png": "$\\left[ \\begin{array}{ccc}5&9&6\\\\7&2&0\\\\1&4&9\\\\ \\end{array} \\right]$",
            "text/latex": "$\\left[ \\begin{array}{ccc}5&9&6\\\\7&2&0\\\\1&4&9\\\\ \\end{array} \\right]$"
          },
          "metadata": {},
          "execution_count": 36
        }
      ]
    },
    {
      "cell_type": "markdown",
      "source": [
        "$\\left[ \\begin{array}{ccc}5&9&6\\\\7&2&0\\\\1&4&9\\\\ \\end{array} \\right]$"
      ],
      "metadata": {
        "id": "XXusnA21n1I2"
      }
    },
    {
      "cell_type": "markdown",
      "metadata": {
        "id": "UHEAMjHQj1YB"
      },
      "source": [
        "-   Una matriz triangular superior (es decir, que todos los elementos\n",
        "    por *debajo* de la diagonal son nulos).\n",
        "\n"
      ]
    },
    {
      "cell_type": "code",
      "source": [
        "J = Matrix([[2,4,3],\n",
        "            [0,8,0],\n",
        "            [0,0,5]])\n",
        "J"
      ],
      "metadata": {
        "id": "WIJVEVe2mV0E",
        "outputId": "21084c82-83a9-45e5-b0f6-df14522c31dc",
        "colab": {
          "base_uri": "https://localhost:8080/",
          "height": 46
        }
      },
      "execution_count": 37,
      "outputs": [
        {
          "output_type": "execute_result",
          "data": {
            "text/plain": [
              "Matrix([Vector([2, 0, 0]), Vector([4, 8, 0]), Vector([3, 0, 5])])"
            ],
            "text/html": [
              "<p style=\"text-align:center;\">$\\left[ \\begin{array}{ccc}2&4&3\\\\0&8&0\\\\0&0&5\\\\ \\end{array} \\right]$</p>"
            ],
            "image/png": "$\\left[ \\begin{array}{ccc}2&4&3\\\\0&8&0\\\\0&0&5\\\\ \\end{array} \\right]$",
            "text/latex": "$\\left[ \\begin{array}{ccc}2&4&3\\\\0&8&0\\\\0&0&5\\\\ \\end{array} \\right]$"
          },
          "metadata": {},
          "execution_count": 37
        }
      ]
    },
    {
      "cell_type": "markdown",
      "source": [
        "$\\left[ \\begin{array}{ccc}2&4&3\\\\0&8&0\\\\0&0&5\\\\ \\end{array} \\right]$"
      ],
      "metadata": {
        "id": "dRbibeDLoQfV"
      }
    },
    {
      "cell_type": "markdown",
      "metadata": {
        "id": "3y1hiNo_j1YC"
      },
      "source": [
        "-   Una matriz antisimétrica (es decir, que su transpuesta es igual a su opuesta: $ {A}^{T}=-A $ ).\n",
        "\n"
      ]
    },
    {
      "cell_type": "code",
      "source": [
        "U = Matrix([[1,-9,4],\n",
        "            [9,7,-6],\n",
        "            [-4,6,2]])\n",
        "U"
      ],
      "metadata": {
        "id": "1BRg_ZT5cPCo",
        "outputId": "69c1e062-20d5-4576-d57b-3c21a6e4a944",
        "colab": {
          "base_uri": "https://localhost:8080/",
          "height": 46
        }
      },
      "execution_count": 43,
      "outputs": [
        {
          "output_type": "execute_result",
          "data": {
            "text/plain": [
              "Matrix([Vector([1, 9, -4]), Vector([-9, 7, 6]), Vector([4, -6, 2])])"
            ],
            "text/html": [
              "<p style=\"text-align:center;\">$\\left[ \\begin{array}{ccc}1&-9&4\\\\9&7&-6\\\\-4&6&2\\\\ \\end{array} \\right]$</p>"
            ],
            "image/png": "$\\left[ \\begin{array}{ccc}1&-9&4\\\\9&7&-6\\\\-4&6&2\\\\ \\end{array} \\right]$",
            "text/latex": "$\\left[ \\begin{array}{ccc}1&-9&4\\\\9&7&-6\\\\-4&6&2\\\\ \\end{array} \\right]$"
          },
          "metadata": {},
          "execution_count": 43
        }
      ]
    },
    {
      "cell_type": "markdown",
      "source": [
        "$\\left[ \\begin{array}{ccc}1&-9&4\\\\9&7&-6\\\\-4&6&2\\\\ \\end{array} \\right]$"
      ],
      "metadata": {
        "id": "68pgHkgVpLMw"
      }
    },
    {
      "cell_type": "markdown",
      "source": [
        "### Cuarto ejercicio"
      ],
      "metadata": {
        "id": "Y-n7DWXJn7Zk"
      }
    },
    {
      "cell_type": "markdown",
      "metadata": {
        "ein.tags": "worksheet-0",
        "id": "053nn7kNnOXz"
      },
      "source": [
        "# Propiedades del producto Matriz por vector\n",
        "\n",
        "Genere una matriz $A$ (con el número de filas y columnas que\n",
        "desee) y dos vectores ${b}$ y ${c}$ con tantos componentes\n",
        "como columnas tenga $A$."
      ]
    },
    {
      "cell_type": "code",
      "execution_count": 16,
      "metadata": {
        "autoscroll": false,
        "ein.hycell": false,
        "ein.tags": "worksheet-0",
        "id": "MU-2x1n8Vpzq",
        "outputId": "49f3072f-1bfc-49f4-e1c4-581af0a0e0a5",
        "colab": {
          "base_uri": "https://localhost:8080/",
          "height": 46
        }
      },
      "outputs": [
        {
          "output_type": "execute_result",
          "data": {
            "text/plain": [
              "Matrix([Vector([8, 7, 4]), Vector([3, 2, 7]), Vector([6, 9, 1])])"
            ],
            "text/html": [
              "<p style=\"text-align:center;\">$\\left[ \\begin{array}{ccc}8&3&6\\\\7&2&9\\\\4&7&1\\\\ \\end{array} \\right]$</p>"
            ],
            "image/png": "$\\left[ \\begin{array}{ccc}8&3&6\\\\7&2&9\\\\4&7&1\\\\ \\end{array} \\right]$",
            "text/latex": "$\\left[ \\begin{array}{ccc}8&3&6\\\\7&2&9\\\\4&7&1\\\\ \\end{array} \\right]$"
          },
          "metadata": {},
          "execution_count": 16
        }
      ],
      "source": [
        "# Defina una matriz A\n",
        "\n",
        "#Nombre de la matriz Z\n",
        "Z = Matrix([[8,3,6],\n",
        "            [7,2,9],\n",
        "            [4,7,1]])\n",
        "Z\n"
      ]
    },
    {
      "cell_type": "code",
      "execution_count": 17,
      "metadata": {
        "autoscroll": false,
        "ein.hycell": false,
        "ein.tags": "worksheet-0",
        "id": "uoVFYfjqVpzq"
      },
      "outputs": [],
      "source": [
        "# Defina el vector b con tantos componentes como columnas tenga la matriz A\n",
        "b = Vector([4,1,6])"
      ]
    },
    {
      "cell_type": "code",
      "execution_count": 18,
      "metadata": {
        "autoscroll": false,
        "ein.hycell": false,
        "ein.tags": "worksheet-0",
        "id": "5HbLkf1LVpzr"
      },
      "outputs": [],
      "source": [
        "# Defina el vector c con tantos componentes como el vector b\n",
        "c = Vector([3,9,5])"
      ]
    },
    {
      "cell_type": "markdown",
      "metadata": {
        "ein.tags": "worksheet-0",
        "id": "HQu3l79dVpzr"
      },
      "source": [
        "Y ahora verifique las propiedades vistas en el curso (en todos los\n",
        "casos, verifique sus ejemplos también con lapiz y papel... recuerde\n",
        "que primero se realizan las operaciones encerradas entre paréntesis).\n",
        "\n",
        "$$ A({b}+{c}) = A{b} + A{c} $$"
      ]
    },
    {
      "cell_type": "code",
      "execution_count": 20,
      "metadata": {
        "autoscroll": false,
        "ein.hycell": false,
        "ein.tags": "worksheet-0",
        "id": "hOUqYCBHVpzr",
        "outputId": "552f1b55-543a-481b-cb06-7086ea0c1f56",
        "colab": {
          "base_uri": "https://localhost:8080/"
        }
      },
      "outputs": [
        {
          "output_type": "stream",
          "name": "stdout",
          "text": [
            "Vector([152, 168, 109])\n"
          ]
        }
      ],
      "source": [
        "# escriba aquí la parte izquierda de la ecuación: A*(b+c)\n",
        "op2 = Z*(b+c)\n",
        "print(op2)"
      ]
    },
    {
      "cell_type": "code",
      "execution_count": 21,
      "metadata": {
        "autoscroll": false,
        "ein.hycell": false,
        "ein.tags": "worksheet-0",
        "id": "86RAGkgoVpzs",
        "outputId": "870be770-efdc-4ef8-e9b6-83abc21cea2d",
        "colab": {
          "base_uri": "https://localhost:8080/"
        }
      },
      "outputs": [
        {
          "output_type": "stream",
          "name": "stdout",
          "text": [
            "Vector([152, 168, 109])\n"
          ]
        }
      ],
      "source": [
        "# escriba aquí la parte derecha de la ecuación\n",
        "op3 = Z*b+Z*c\n",
        "print(op3)"
      ]
    },
    {
      "cell_type": "markdown",
      "source": [
        "### Quinto ejercicio"
      ],
      "metadata": {
        "id": "u0ri5khNnCKl"
      }
    },
    {
      "cell_type": "markdown",
      "metadata": {
        "ein.tags": "worksheet-0",
        "id": "9pvYQ32mVpzs"
      },
      "source": [
        "Decida un valor para el escalar $\\lambda$ y verifique que\n",
        "$$ A(\\lambda{b}) = \\lambda(A{b})$$"
      ]
    },
    {
      "cell_type": "code",
      "execution_count": 22,
      "metadata": {
        "autoscroll": false,
        "ein.hycell": false,
        "ein.tags": "worksheet-0",
        "id": "E4IN_Yy2Vpzs",
        "outputId": "d0e5555d-e8ff-4e97-f1b8-7faebc955c73",
        "colab": {
          "base_uri": "https://localhost:8080/"
        }
      },
      "outputs": [
        {
          "output_type": "stream",
          "name": "stdout",
          "text": [
            "Vector([355, 420, 145])\n"
          ]
        }
      ],
      "source": [
        "# escriba aquí la parte izquierda de la ecuación\n",
        "esc_lambda = 5\n",
        "op4 = Z*(5*b)\n",
        "print(op4)"
      ]
    },
    {
      "cell_type": "code",
      "execution_count": 23,
      "metadata": {
        "autoscroll": false,
        "ein.hycell": false,
        "ein.tags": "worksheet-0",
        "id": "Ceudy6FmVpzt",
        "outputId": "377fad7b-f710-4ee9-b484-d61420f1443f",
        "colab": {
          "base_uri": "https://localhost:8080/"
        }
      },
      "outputs": [
        {
          "output_type": "stream",
          "name": "stdout",
          "text": [
            "Vector([355, 420, 145])\n"
          ]
        }
      ],
      "source": [
        "# escriba aquí la parte derecha de la ecuación\n",
        "op5 = 5*(Z*b)\n",
        "print(op5)"
      ]
    },
    {
      "cell_type": "markdown",
      "metadata": {
        "ein.tags": "worksheet-0",
        "id": "OWAfF_SgVpzt"
      },
      "source": [
        "Verifique que\n",
        "$$ A(\\lambda{b}) = (\\lambda A){b}$$\n"
      ]
    },
    {
      "cell_type": "code",
      "execution_count": 24,
      "metadata": {
        "autoscroll": false,
        "ein.hycell": false,
        "ein.tags": "worksheet-0",
        "id": "ZRimSgGCVpzu",
        "outputId": "a3d7e26d-b25d-475b-ffb6-9b852e3c41ec",
        "colab": {
          "base_uri": "https://localhost:8080/"
        }
      },
      "outputs": [
        {
          "output_type": "stream",
          "name": "stdout",
          "text": [
            "Vector([355, 420, 145])\n"
          ]
        }
      ],
      "source": [
        "# escriba aquí la parte derecha de la ecuación\n",
        "op6 = (5*Z)*b\n",
        "print(op6)"
      ]
    },
    {
      "cell_type": "markdown",
      "metadata": {
        "ein.tags": "worksheet-0",
        "id": "YlRYLashVpzu"
      },
      "source": [
        "Compuebe que en este caso no son necesarios los paréntesis:\n",
        "$$\\lambda A{b}\\;$$ (aunque en Python siempre necesite\n",
        "escribir los símbolos de producto `*`). Pruebe a colocar el escalar en\n",
        "cualquier posición, pero mantenga la matriz a la izquierda del vector."
      ]
    },
    {
      "cell_type": "code",
      "execution_count": 25,
      "metadata": {
        "autoscroll": false,
        "ein.hycell": false,
        "ein.tags": "worksheet-0",
        "id": "8mmZwTxMVpzv",
        "outputId": "62a35aae-16bf-4957-a364-5d7f7d36d3d6",
        "colab": {
          "base_uri": "https://localhost:8080/"
        }
      },
      "outputs": [
        {
          "output_type": "stream",
          "name": "stdout",
          "text": [
            "Vector([213, 252, 87])\n",
            "Vector([213, 252, 87])\n"
          ]
        }
      ],
      "source": [
        "# Por ejemplo 3*A*b, o A*3*b, o A*b*3\n",
        "op7 = Z*3*b\n",
        "print(op7)\n",
        "op8 = Z*b*3\n",
        "print(op8)"
      ]
    },
    {
      "cell_type": "markdown",
      "source": [
        "### Sexto ejercicio"
      ],
      "metadata": {
        "id": "nRqO8LxBoNSI"
      }
    },
    {
      "cell_type": "markdown",
      "metadata": {
        "ein.tags": "worksheet-0",
        "id": "VSZ8vItpVpzv"
      },
      "source": [
        "Genere una matriz ${B}$ del mismo orden que $A$"
      ]
    },
    {
      "cell_type": "code",
      "execution_count": 26,
      "metadata": {
        "autoscroll": false,
        "ein.hycell": false,
        "ein.tags": "worksheet-0",
        "id": "NkFmEED_Vpzw",
        "outputId": "c5de1144-7e89-40d3-ebcc-415604112ee5",
        "colab": {
          "base_uri": "https://localhost:8080/",
          "height": 46
        }
      },
      "outputs": [
        {
          "output_type": "execute_result",
          "data": {
            "text/plain": [
              "Matrix([Vector([3, 6, 7]), Vector([6, 9, 3]), Vector([4, 0, 5])])"
            ],
            "text/html": [
              "<p style=\"text-align:center;\">$\\left[ \\begin{array}{ccc}3&6&4\\\\6&9&0\\\\7&3&5\\\\ \\end{array} \\right]$</p>"
            ],
            "image/png": "$\\left[ \\begin{array}{ccc}3&6&4\\\\6&9&0\\\\7&3&5\\\\ \\end{array} \\right]$",
            "text/latex": "$\\left[ \\begin{array}{ccc}3&6&4\\\\6&9&0\\\\7&3&5\\\\ \\end{array} \\right]$"
          },
          "metadata": {},
          "execution_count": 26
        }
      ],
      "source": [
        "B = Matrix([[3,6,4],\n",
        "            [6,9,0],\n",
        "            [7,3,5]])\n",
        "B"
      ]
    },
    {
      "cell_type": "markdown",
      "metadata": {
        "ein.tags": "worksheet-0",
        "id": "nqSTOOY0Vpzw"
      },
      "source": [
        "Verifique que\n",
        "\n",
        "$$ (A+B){c} = A{c} + B{c}$$"
      ]
    },
    {
      "cell_type": "code",
      "execution_count": 28,
      "metadata": {
        "autoscroll": false,
        "ein.hycell": false,
        "ein.tags": "worksheet-0",
        "id": "c1YZo_1NVpzx",
        "outputId": "5a0ecc9b-19cc-4a5c-9535-ea454d29439f",
        "colab": {
          "base_uri": "https://localhost:8080/",
          "height": 349
        }
      },
      "outputs": [
        {
          "output_type": "stream",
          "name": "stdout",
          "text": [
            "Vector([164, 183, 153])\n"
          ]
        },
        {
          "output_type": "error",
          "ename": "ValueError",
          "evalue": "Solo se suman Sistemas del mismo tipo y misma longitud",
          "traceback": [
            "\u001b[0;31m---------------------------------------------------------------------------\u001b[0m",
            "\u001b[0;31mValueError\u001b[0m                                Traceback (most recent call last)",
            "\u001b[0;32m<ipython-input-28-89fa92cf3255>\u001b[0m in \u001b[0;36m<cell line: 5>\u001b[0;34m()\u001b[0m\n\u001b[1;32m      3\u001b[0m \u001b[0mprint\u001b[0m\u001b[0;34m(\u001b[0m\u001b[0mop9\u001b[0m\u001b[0;34m)\u001b[0m\u001b[0;34m\u001b[0m\u001b[0;34m\u001b[0m\u001b[0m\n\u001b[1;32m      4\u001b[0m \u001b[0;31m#sin parentesis\u001b[0m\u001b[0;34m\u001b[0m\u001b[0;34m\u001b[0m\u001b[0m\n\u001b[0;32m----> 5\u001b[0;31m \u001b[0mop10\u001b[0m \u001b[0;34m=\u001b[0m \u001b[0mZ\u001b[0m\u001b[0;34m+\u001b[0m\u001b[0mB\u001b[0m\u001b[0;34m*\u001b[0m\u001b[0mc\u001b[0m\u001b[0;34m\u001b[0m\u001b[0;34m\u001b[0m\u001b[0m\n\u001b[0m\u001b[1;32m      6\u001b[0m \u001b[0mprint\u001b[0m\u001b[0;34m(\u001b[0m\u001b[0mop10\u001b[0m\u001b[0;34m)\u001b[0m\u001b[0;34m\u001b[0m\u001b[0;34m\u001b[0m\u001b[0m\n\u001b[1;32m      7\u001b[0m \u001b[0;31m#marca error\u001b[0m\u001b[0;34m\u001b[0m\u001b[0;34m\u001b[0m\u001b[0m\n",
            "\u001b[0;32m/usr/local/lib/python3.10/dist-packages/nacal/nacal.py\u001b[0m in \u001b[0;36m__add__\u001b[0;34m(self, other)\u001b[0m\n\u001b[1;32m    203\u001b[0m         Matrix([Vector([2, 5]); Vector([5, 2])]) \"\"\"\n\u001b[1;32m    204\u001b[0m         \u001b[0;32mif\u001b[0m \u001b[0;32mnot\u001b[0m \u001b[0mtype\u001b[0m\u001b[0;34m(\u001b[0m\u001b[0mself\u001b[0m\u001b[0;34m)\u001b[0m\u001b[0;34m==\u001b[0m\u001b[0mtype\u001b[0m\u001b[0;34m(\u001b[0m\u001b[0mother\u001b[0m\u001b[0;34m)\u001b[0m \u001b[0;32mor\u001b[0m \u001b[0;32mnot\u001b[0m \u001b[0mlen\u001b[0m\u001b[0;34m(\u001b[0m\u001b[0mself\u001b[0m\u001b[0;34m)\u001b[0m\u001b[0;34m==\u001b[0m\u001b[0mlen\u001b[0m\u001b[0;34m(\u001b[0m\u001b[0mother\u001b[0m\u001b[0;34m)\u001b[0m\u001b[0;34m:\u001b[0m\u001b[0;34m\u001b[0m\u001b[0;34m\u001b[0m\u001b[0m\n\u001b[0;32m--> 205\u001b[0;31m             \u001b[0;32mraise\u001b[0m \u001b[0mValueError\u001b[0m \u001b[0;34m(\u001b[0m\u001b[0;34m'Solo se suman Sistemas del mismo tipo y misma longitud'\u001b[0m\u001b[0;34m)\u001b[0m\u001b[0;34m\u001b[0m\u001b[0;34m\u001b[0m\u001b[0m\n\u001b[0m\u001b[1;32m    206\u001b[0m \u001b[0;34m\u001b[0m\u001b[0m\n\u001b[1;32m    207\u001b[0m         \u001b[0;32mreturn\u001b[0m \u001b[0mtype\u001b[0m\u001b[0;34m(\u001b[0m\u001b[0mself\u001b[0m\u001b[0;34m)\u001b[0m \u001b[0;34m(\u001b[0m\u001b[0;34m[\u001b[0m \u001b[0;34m(\u001b[0m\u001b[0mself\u001b[0m\u001b[0;34m|\u001b[0m\u001b[0mi\u001b[0m\u001b[0;34m)\u001b[0m \u001b[0;34m+\u001b[0m \u001b[0;34m(\u001b[0m\u001b[0mother\u001b[0m\u001b[0;34m|\u001b[0m\u001b[0mi\u001b[0m\u001b[0;34m)\u001b[0m \u001b[0;32mfor\u001b[0m \u001b[0mi\u001b[0m \u001b[0;32min\u001b[0m \u001b[0mrange\u001b[0m\u001b[0;34m(\u001b[0m\u001b[0;36m1\u001b[0m\u001b[0;34m,\u001b[0m\u001b[0mlen\u001b[0m\u001b[0;34m(\u001b[0m\u001b[0mself\u001b[0m\u001b[0;34m)\u001b[0m\u001b[0;34m+\u001b[0m\u001b[0;36m1\u001b[0m\u001b[0;34m)\u001b[0m \u001b[0;34m]\u001b[0m\u001b[0;34m)\u001b[0m\u001b[0;34m\u001b[0m\u001b[0;34m\u001b[0m\u001b[0m\n",
            "\u001b[0;31mValueError\u001b[0m: Solo se suman Sistemas del mismo tipo y misma longitud"
          ]
        }
      ],
      "source": [
        "# escriba aquí la parte izquierda de la ecuación (¿funciona sin paréntesis?)\n",
        "op9 = (Z+B)*c\n",
        "print(op9)\n",
        "#sin parentesis\n",
        "op10 = Z+B*c\n",
        "print(op10)\n",
        "#marca error"
      ]
    },
    {
      "cell_type": "code",
      "execution_count": 29,
      "metadata": {
        "autoscroll": false,
        "ein.hycell": false,
        "ein.tags": "worksheet-0",
        "id": "2utRvpmSVpzx",
        "outputId": "19307647-1c72-47bb-c2d9-23c58fdf6923",
        "colab": {
          "base_uri": "https://localhost:8080/"
        }
      },
      "outputs": [
        {
          "output_type": "stream",
          "name": "stdout",
          "text": [
            "Vector([164, 183, 153])\n"
          ]
        }
      ],
      "source": [
        "# escriba aquí la parte derecha de la ecuación\n",
        "op11 = Z*c+B*c\n",
        "print(op11)"
      ]
    },
    {
      "cell_type": "code",
      "source": [],
      "metadata": {
        "id": "hcm-tMzWnkEd"
      },
      "execution_count": null,
      "outputs": []
    },
    {
      "cell_type": "markdown",
      "metadata": {
        "ein.tags": "worksheet-0",
        "id": "545Y5L3qVpz4"
      },
      "source": [
        "# Dos propiedades de la transposición\n",
        "\n",
        "Recuerde que `~A` es la transpuesta de `A`.\n",
        "\n",
        "Verfique que\n",
        "$$\n",
        "(A+B)^T=A^{T}+B^{T}\n",
        "$$"
      ]
    },
    {
      "cell_type": "code",
      "execution_count": 30,
      "metadata": {
        "autoscroll": false,
        "ein.hycell": false,
        "ein.tags": "worksheet-0",
        "id": "cQKD0ad-Vpz5",
        "outputId": "cd3da70a-54c3-4c26-80f3-d8f45c8c648c",
        "colab": {
          "base_uri": "https://localhost:8080/",
          "height": 64
        }
      },
      "outputs": [
        {
          "output_type": "stream",
          "name": "stdout",
          "text": [
            "Matrix([Vector([11, 9, 10]), Vector([13, 11, 9]), Vector([11, 10, 6])])\n"
          ]
        },
        {
          "output_type": "execute_result",
          "data": {
            "text/plain": [
              "Matrix([Vector([11, 9, 10]), Vector([13, 11, 9]), Vector([11, 10, 6])])"
            ],
            "text/html": [
              "<p style=\"text-align:center;\">$\\left[ \\begin{array}{ccc}11&13&11\\\\9&11&10\\\\10&9&6\\\\ \\end{array} \\right]$</p>"
            ],
            "image/png": "$\\left[ \\begin{array}{ccc}11&13&11\\\\9&11&10\\\\10&9&6\\\\ \\end{array} \\right]$",
            "text/latex": "$\\left[ \\begin{array}{ccc}11&13&11\\\\9&11&10\\\\10&9&6\\\\ \\end{array} \\right]$"
          },
          "metadata": {},
          "execution_count": 30
        }
      ],
      "source": [
        "# escriba aquí la parte izquierda de la ecuación: ~(A + B)\n",
        "op12 = ~(Z+B)\n",
        "print(op12)\n",
        "op12"
      ]
    },
    {
      "cell_type": "markdown",
      "source": [
        "$\\left[ \\begin{array}{ccc}11&13&11\\\\9&11&10\\\\10&9&6\\\\ \\end{array} \\right]$"
      ],
      "metadata": {
        "id": "qoyynnYqmhi6"
      }
    },
    {
      "cell_type": "code",
      "execution_count": 31,
      "metadata": {
        "autoscroll": false,
        "ein.hycell": false,
        "ein.tags": "worksheet-0",
        "id": "P8MSW33aVpz6",
        "outputId": "e7e33f6d-e88e-4830-da70-50565b08c960",
        "colab": {
          "base_uri": "https://localhost:8080/",
          "height": 64
        }
      },
      "outputs": [
        {
          "output_type": "stream",
          "name": "stdout",
          "text": [
            "Matrix([Vector([11, 9, 10]), Vector([13, 11, 9]), Vector([11, 10, 6])])\n"
          ]
        },
        {
          "output_type": "execute_result",
          "data": {
            "text/plain": [
              "Matrix([Vector([11, 9, 10]), Vector([13, 11, 9]), Vector([11, 10, 6])])"
            ],
            "text/html": [
              "<p style=\"text-align:center;\">$\\left[ \\begin{array}{ccc}11&13&11\\\\9&11&10\\\\10&9&6\\\\ \\end{array} \\right]$</p>"
            ],
            "image/png": "$\\left[ \\begin{array}{ccc}11&13&11\\\\9&11&10\\\\10&9&6\\\\ \\end{array} \\right]$",
            "text/latex": "$\\left[ \\begin{array}{ccc}11&13&11\\\\9&11&10\\\\10&9&6\\\\ \\end{array} \\right]$"
          },
          "metadata": {},
          "execution_count": 31
        }
      ],
      "source": [
        "# escriba aquí la parte derecha de la ecuación\n",
        "op13 = ~(Z)+~(B)\n",
        "print(op13)\n",
        "op13"
      ]
    },
    {
      "cell_type": "markdown",
      "source": [
        "$\\left[ \\begin{array}{ccc}11&13&11\\\\9&11&10\\\\10&9&6\\\\ \\end{array} \\right]$"
      ],
      "metadata": {
        "id": "hHRF0gAQmm65"
      }
    },
    {
      "cell_type": "markdown",
      "metadata": {
        "ein.tags": "worksheet-0",
        "id": "g2A04WcFVpz6"
      },
      "source": [
        "¿Necesitamos usar paréntesis para el lado izquierdo? ¿Y para el derecho?"
      ]
    },
    {
      "cell_type": "code",
      "source": [
        "#lado izquierdo sin parentesis\n",
        "op16 = ~Z+B\n",
        "print(op16)\n",
        "#en el lado izquierno si es necesario\n",
        "\n",
        "#lado derecho\n",
        "op17 =~Z+~B\n",
        "print(op17)\n",
        "#no es necesario en el lado izquierdo"
      ],
      "metadata": {
        "id": "Q2sW1StUjZBq",
        "outputId": "d9f2bbf0-65e1-4d21-fb0d-dfd2994aaf4d",
        "colab": {
          "base_uri": "https://localhost:8080/"
        }
      },
      "execution_count": 34,
      "outputs": [
        {
          "output_type": "stream",
          "name": "stdout",
          "text": [
            "Matrix([Vector([11, 9, 13]), Vector([13, 11, 12]), Vector([8, 7, 6])])\n",
            "Matrix([Vector([11, 9, 10]), Vector([13, 11, 9]), Vector([11, 10, 6])])\n"
          ]
        }
      ]
    },
    {
      "cell_type": "markdown",
      "metadata": {
        "ein.tags": "worksheet-0",
        "id": "ZcOfdLECVpz7"
      },
      "source": [
        "Decida un valor para $\\lambda$ y verfique que\n",
        "$$\n",
        "(\\lambda A)^T=\\lambda(A^{T})\n",
        "$$"
      ]
    },
    {
      "cell_type": "code",
      "execution_count": 32,
      "metadata": {
        "autoscroll": false,
        "ein.hycell": false,
        "ein.tags": "worksheet-0",
        "id": "SVar9B-6Vpz7",
        "outputId": "f8a3c476-3dba-4115-c28e-c61a68fdfb4a",
        "colab": {
          "base_uri": "https://localhost:8080/",
          "height": 64
        }
      },
      "outputs": [
        {
          "output_type": "stream",
          "name": "stdout",
          "text": [
            "Matrix([Vector([16, 6, 12]), Vector([14, 4, 18]), Vector([8, 14, 2])])\n"
          ]
        },
        {
          "output_type": "execute_result",
          "data": {
            "text/plain": [
              "Matrix([Vector([16, 6, 12]), Vector([14, 4, 18]), Vector([8, 14, 2])])"
            ],
            "text/html": [
              "<p style=\"text-align:center;\">$\\left[ \\begin{array}{ccc}16&14&8\\\\6&4&14\\\\12&18&2\\\\ \\end{array} \\right]$</p>"
            ],
            "image/png": "$\\left[ \\begin{array}{ccc}16&14&8\\\\6&4&14\\\\12&18&2\\\\ \\end{array} \\right]$",
            "text/latex": "$\\left[ \\begin{array}{ccc}16&14&8\\\\6&4&14\\\\12&18&2\\\\ \\end{array} \\right]$"
          },
          "metadata": {},
          "execution_count": 32
        }
      ],
      "source": [
        "# escriba aquí la parte izquierda de la ecuación:\n",
        "esc_lambda = 2\n",
        "op14 = ~(esc_lambda*Z)\n",
        "print(op14)\n",
        "op14"
      ]
    },
    {
      "cell_type": "markdown",
      "source": [
        "$\\left[ \\begin{array}{ccc}16&14&8\\\\6&4&14\\\\12&18&2\\\\ \\end{array} \\right]$"
      ],
      "metadata": {
        "id": "a-3JO8pLmNVw"
      }
    },
    {
      "cell_type": "code",
      "execution_count": 33,
      "metadata": {
        "autoscroll": false,
        "ein.hycell": false,
        "ein.tags": "worksheet-0",
        "id": "06Eys9o2Vpz8",
        "outputId": "6386c9d6-4d4a-4d7c-ac00-c64ed1303b52",
        "colab": {
          "base_uri": "https://localhost:8080/",
          "height": 64
        }
      },
      "outputs": [
        {
          "output_type": "stream",
          "name": "stdout",
          "text": [
            "Matrix([Vector([16, 6, 12]), Vector([14, 4, 18]), Vector([8, 14, 2])])\n"
          ]
        },
        {
          "output_type": "execute_result",
          "data": {
            "text/plain": [
              "Matrix([Vector([16, 6, 12]), Vector([14, 4, 18]), Vector([8, 14, 2])])"
            ],
            "text/html": [
              "<p style=\"text-align:center;\">$\\left[ \\begin{array}{ccc}16&14&8\\\\6&4&14\\\\12&18&2\\\\ \\end{array} \\right]$</p>"
            ],
            "image/png": "$\\left[ \\begin{array}{ccc}16&14&8\\\\6&4&14\\\\12&18&2\\\\ \\end{array} \\right]$",
            "text/latex": "$\\left[ \\begin{array}{ccc}16&14&8\\\\6&4&14\\\\12&18&2\\\\ \\end{array} \\right]$"
          },
          "metadata": {},
          "execution_count": 33
        }
      ],
      "source": [
        "# escriba aquí la parte derecha de la ecuación\n",
        "op15 = esc_lambda*(~Z)\n",
        "print(op15)\n",
        "op15"
      ]
    },
    {
      "cell_type": "markdown",
      "source": [
        "$\\left[ \\begin{array}{ccc}16&14&8\\\\6&4&14\\\\12&18&2\\\\ \\end{array} \\right]$\n"
      ],
      "metadata": {
        "id": "fQKgr6FKmDkA"
      }
    }
  ]
}