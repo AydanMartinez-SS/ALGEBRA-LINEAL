{
  "nbformat": 4,
  "nbformat_minor": 0,
  "metadata": {
    "colab": {
      "provenance": [],
      "authorship_tag": "ABX9TyOwy1v5S0hqa+gZMbyG+/Ns",
      "include_colab_link": true
    },
    "kernelspec": {
      "name": "python3",
      "display_name": "Python 3"
    },
    "language_info": {
      "name": "python"
    }
  },
  "cells": [
    {
      "cell_type": "markdown",
      "metadata": {
        "id": "view-in-github",
        "colab_type": "text"
      },
      "source": [
        "<a href=\"https://colab.research.google.com/github/AydanMartinez-SS/ALGEBRA-LINEAL/blob/main/EXAMEN1.ipynb\" target=\"_parent\"><img src=\"https://colab.research.google.com/assets/colab-badge.svg\" alt=\"Open In Colab\"/></a>"
      ]
    },
    {
      "cell_type": "code",
      "execution_count": 1,
      "metadata": {
        "colab": {
          "base_uri": "https://localhost:8080/"
        },
        "id": "iipBfgcJLhOq",
        "outputId": "41c5e14e-798b-4394-fa87-24828ba6de05"
      },
      "outputs": [
        {
          "output_type": "stream",
          "name": "stdout",
          "text": [
            "Collecting nacal\n",
            "  Downloading nacal-0.2.1-py3-none-any.whl (40 kB)\n",
            "\u001b[2K     \u001b[90m━━━━━━━━━━━━━━━━━━━━━━━━━━━━━━━━━━━━━━━━\u001b[0m \u001b[32m40.0/40.0 kB\u001b[0m \u001b[31m737.3 kB/s\u001b[0m eta \u001b[36m0:00:00\u001b[0m\n",
            "\u001b[?25hRequirement already satisfied: sympy>=1.1.0 in /usr/local/lib/python3.10/dist-packages (from nacal) (1.12.1)\n",
            "Requirement already satisfied: mpmath<1.4.0,>=1.1.0 in /usr/local/lib/python3.10/dist-packages (from sympy>=1.1.0->nacal) (1.3.0)\n",
            "Installing collected packages: nacal\n",
            "Successfully installed nacal-0.2.1\n"
          ]
        }
      ],
      "source": [
        "!pip install --target=$nb_path nacal\n",
        "from nacal import *\n",
        ""
      ]
    },
    {
      "cell_type": "markdown",
      "source": [
        "1. Genere los vectores $a$ y $ {b}$:\n",
        "\n",
        "-   el vector ${a}$ está formado por la lista de números: 1, 4, 9, 2, -5, π\n",
        "-   el vector ${b}$ está formado por la lista de números: 1, 2, 1, 0, 0.01,  $\\sqrt 2$\n",
        "-   súmelos"
      ],
      "metadata": {
        "id": "uFcqUvgAMHE6"
      }
    },
    {
      "cell_type": "code",
      "source": [
        "a = Vector([1,4,9,2,-5,3.1416])\n",
        "b = Vector([1,2,1,0,0.01,2**0.5])\n",
        "suma = a+b\n",
        "print(suma)"
      ],
      "metadata": {
        "colab": {
          "base_uri": "https://localhost:8080/"
        },
        "id": "wgWEp_q6MMOE",
        "outputId": "aad561a6-31ed-4257-cca9-45ef9bdbd3b7"
      },
      "execution_count": 4,
      "outputs": [
        {
          "output_type": "stream",
          "name": "stdout",
          "text": [
            "(2, 6, 10, 2, -4.99000000000000, 4.55581356237310,)\n"
          ]
        }
      ]
    },
    {
      "cell_type": "markdown",
      "source": [
        "2. Proporcione ejemplos de matrices 3 por 3 no nulas de los siguientes\n",
        "tipos de matrices:\n",
        "\n",
        "-   Una matriz diagonal\n",
        "\n",
        "\n"
      ],
      "metadata": {
        "id": "55yEGoRuMaFc"
      }
    },
    {
      "cell_type": "code",
      "source": [
        "H = Matrix([[3,0,0],\n",
        "            [0,6,0],\n",
        "            [0,0,9]])\n",
        "H"
      ],
      "metadata": {
        "colab": {
          "base_uri": "https://localhost:8080/",
          "height": 46
        },
        "id": "aW3kmlYQOOcK",
        "outputId": "62c98ab1-1a8b-4003-96be-99d3d39eaf68"
      },
      "execution_count": 11,
      "outputs": [
        {
          "output_type": "execute_result",
          "data": {
            "text/plain": [
              "Matrix([Vector([3, 0, 0]), Vector([0, 6, 0]), Vector([0, 0, 9])])"
            ],
            "text/html": [
              "<p style=\"text-align:center;\">$\\left[ \\begin{array}{ccc}3&0&0\\\\0&6&0\\\\0&0&9\\\\ \\end{array} \\right]$</p>"
            ],
            "image/png": "$\\left[ \\begin{array}{ccc}3&0&0\\\\0&6&0\\\\0&0&9\\\\ \\end{array} \\right]$",
            "text/latex": "$\\left[ \\begin{array}{ccc}3&0&0\\\\0&6&0\\\\0&0&9\\\\ \\end{array} \\right]$"
          },
          "metadata": {},
          "execution_count": 11
        }
      ]
    },
    {
      "cell_type": "markdown",
      "source": [
        "$\\left[ \\begin{array}{ccc}3&0&0\\\\0&6&0\\\\0&0&9\\\\ \\end{array} \\right]$"
      ],
      "metadata": {
        "id": "nSjWF7lvOS3r"
      }
    },
    {
      "cell_type": "markdown",
      "source": [
        "-   Una matriz simétrica"
      ],
      "metadata": {
        "id": "PO0lWr2jOL0T"
      }
    },
    {
      "cell_type": "code",
      "source": [
        "Y = Matrix([[5,9,6],\n",
        "            [7,2,0],\n",
        "            [1,4,9]])\n",
        "Y"
      ],
      "metadata": {
        "colab": {
          "base_uri": "https://localhost:8080/",
          "height": 46
        },
        "id": "s1FWc4M2MooO",
        "outputId": "854ddcf0-5819-4acc-930b-775686e0bbee"
      },
      "execution_count": 3,
      "outputs": [
        {
          "output_type": "execute_result",
          "data": {
            "text/plain": [
              "Matrix([Vector([5, 7, 1]), Vector([9, 2, 4]), Vector([6, 0, 9])])"
            ],
            "text/html": [
              "<p style=\"text-align:center;\">$\\left[ \\begin{array}{ccc}5&9&6\\\\7&2&0\\\\1&4&9\\\\ \\end{array} \\right]$</p>"
            ],
            "image/png": "$\\left[ \\begin{array}{ccc}5&9&6\\\\7&2&0\\\\1&4&9\\\\ \\end{array} \\right]$",
            "text/latex": "$\\left[ \\begin{array}{ccc}5&9&6\\\\7&2&0\\\\1&4&9\\\\ \\end{array} \\right]$"
          },
          "metadata": {},
          "execution_count": 3
        }
      ]
    },
    {
      "cell_type": "markdown",
      "source": [
        "$\\left[ \\begin{array}{ccc}5&9&6\\\\7&2&0\\\\1&4&9\\\\ \\end{array} \\right]$"
      ],
      "metadata": {
        "id": "33IE-dSgOd5V"
      }
    },
    {
      "cell_type": "markdown",
      "source": [
        "3. Cree la matriz\n",
        "$${A}=\\begin{bmatrix}1&0&0&-1\\\\2&0&7&0\\\\-4&3&3&0\\\\0&3&4&1\\\\7&1&2&1\\end{bmatrix}$$\n"
      ],
      "metadata": {
        "id": "JxZKX7JPMo_q"
      }
    },
    {
      "cell_type": "code",
      "source": [
        "t = Vector([1,2,-4,0,7])\n",
        "p = Vector([0,0,3,3,1])\n",
        "l = Vector([0,7,3,4,2])\n",
        "v = Vector([-1,0,0,1,1])\n",
        "A = Matrix([t,p,l,v])\n",
        "A"
      ],
      "metadata": {
        "colab": {
          "base_uri": "https://localhost:8080/",
          "height": 46
        },
        "id": "NFJIVzRRMwrD",
        "outputId": "a66a34af-7288-4049-c05f-55bd999315fe"
      },
      "execution_count": 5,
      "outputs": [
        {
          "output_type": "execute_result",
          "data": {
            "text/plain": [
              "Matrix([Vector([1, 2, -4, 0, 7]), Vector([0, 0, 3, 3, 1]), Vector([0, 7, 3, 4, 2]), Vector([-1, 0, 0, 1, 1])])"
            ],
            "text/html": [
              "<p style=\"text-align:center;\">$\\left[ \\begin{array}{cccc}1&0&0&-1\\\\2&0&7&0\\\\-4&3&3&0\\\\0&3&4&1\\\\7&1&2&1\\\\ \\end{array} \\right]$</p>"
            ],
            "image/png": "$\\left[ \\begin{array}{cccc}1&0&0&-1\\\\2&0&7&0\\\\-4&3&3&0\\\\0&3&4&1\\\\7&1&2&1\\\\ \\end{array} \\right]$",
            "text/latex": "$\\left[ \\begin{array}{cccc}1&0&0&-1\\\\2&0&7&0\\\\-4&3&3&0\\\\0&3&4&1\\\\7&1&2&1\\\\ \\end{array} \\right]$"
          },
          "metadata": {},
          "execution_count": 5
        }
      ]
    },
    {
      "cell_type": "markdown",
      "source": [
        "$\\left[ \\begin{array}{cccc}1&0&0&-1\\\\2&0&7&0\\\\-4&3&3&0\\\\0&3&4&1\\\\7&1&2&1\\\\ \\end{array} \\right]$"
      ],
      "metadata": {
        "id": "PtAC3hk9Pno6"
      }
    },
    {
      "cell_type": "markdown",
      "source": [
        "Calcule el siguiente vector: 3 veces la primera columna de $A$\n",
        "mas la segunda columna de $A$ menos 2 veces la tercera columna\n",
        "menos 3 veces la última columna de $A$"
      ],
      "metadata": {
        "id": "FSmy323CP77U"
      }
    },
    {
      "cell_type": "code",
      "source": [
        "op1 = 3*(A|1)\n",
        "print(op1)\n",
        "op2 = op1 + (A|2)\n",
        "print(op2)\n",
        "op3 = op2-(2*(A|3))\n",
        "print(op3)\n",
        "#Op4 es el resultado.\n",
        "op4 = op3-(3*(A|4))\n",
        "print(op4)\n",
        "op4"
      ],
      "metadata": {
        "colab": {
          "base_uri": "https://localhost:8080/",
          "height": 116
        },
        "id": "1qJBDk-5QFZS",
        "outputId": "34448bbf-44e8-4ecf-dcac-fdc44e856d2c"
      },
      "execution_count": 6,
      "outputs": [
        {
          "output_type": "stream",
          "name": "stdout",
          "text": [
            "(3, 6, -12, 0, 21,)\n",
            "(3, 6, -9, 3, 22,)\n",
            "(3, -8, -15, -5, 18,)\n",
            "(6, -8, -15, -8, 15,)\n"
          ]
        },
        {
          "output_type": "execute_result",
          "data": {
            "text/plain": [
              "Vector([6, -8, -15, -8, 15])"
            ],
            "text/html": [
              "<p style=\"text-align:center;\">$\\begin{pmatrix}6\\\\ -8\\\\ -15\\\\ -8\\\\ 15\\end{pmatrix}$</p>"
            ],
            "image/png": "$\\begin{pmatrix}6\\\\ -8\\\\ -15\\\\ -8\\\\ 15\\end{pmatrix}$",
            "text/latex": "$\\begin{pmatrix}6\\\\ -8\\\\ -15\\\\ -8\\\\ 15\\end{pmatrix}$"
          },
          "metadata": {},
          "execution_count": 6
        }
      ]
    },
    {
      "cell_type": "markdown",
      "source": [
        "$\\begin{pmatrix}6\\\\ -8\\\\ -15\\\\ -8\\\\ 15\\end{pmatrix}$"
      ],
      "metadata": {
        "id": "nHhE6-zwQJzT"
      }
    },
    {
      "cell_type": "markdown",
      "source": [
        "4. Matriz por vector (combinaciones lineales de las columnas de una matriz)\n",
        "\n",
        "Considere los vectores ${x}=(1, 1, -2)$, ${y}=(1, -2, 1)$\n",
        "\n",
        "y\n",
        "${z}=(-2, 1, 1)$ y verifique que\n",
        "$2{x}+2{y}+2{z}={0}$\n",
        "\n",
        "que resultado da : $4x+4y+4z$\n",
        "\n",
        "y que resultado da:  $-3x-3y-3z$"
      ],
      "metadata": {
        "id": "7sesLJrxMxOb"
      }
    },
    {
      "cell_type": "code",
      "source": [
        "x = Vector([1,1,-2])\n",
        "y = Vector([1,-2,1])\n",
        "z = Vector([-2,1,1])\n",
        "op5 = 2*x+2*y+2*z\n",
        "print(op5)\n",
        "#El resultado es 0\n",
        "\n",
        "op6 = 4*x+4*y+4*z\n",
        "print(op6)\n",
        "\n",
        "op7 = -3*x+-3*y+-3*z\n",
        "print(op7)"
      ],
      "metadata": {
        "colab": {
          "base_uri": "https://localhost:8080/"
        },
        "id": "l8_AHoFVM1wa",
        "outputId": "02934c48-ae32-475b-8e18-96a35bcdc5ec"
      },
      "execution_count": 7,
      "outputs": [
        {
          "output_type": "stream",
          "name": "stdout",
          "text": [
            "(0, 0, 0,)\n",
            "(0, 0, 0,)\n",
            "(0, 0, 0,)\n"
          ]
        }
      ]
    },
    {
      "cell_type": "markdown",
      "source": [
        "5. Escribe una matriz C del mismo orden que A y verifica que\n",
        "$$\n",
        "({A}{C})^T={C}^T{A}^T\n",
        "$$"
      ],
      "metadata": {
        "id": "ljDkt1RbM2KK"
      }
    },
    {
      "cell_type": "code",
      "source": [
        "a = Vector([1,2,3])\n",
        "b = Vector([4,6,5])\n",
        "c = Vector([7,9,0])\n",
        "B = Matrix([a,b,c])\n",
        "\n",
        "y = Vector([1,2,3])\n",
        "j = Vector([4,6,5])\n",
        "k = Vector([7,9,0])\n",
        "C = Matrix([y,j,k])\n",
        "~(B+C)\n",
        "\n"
      ],
      "metadata": {
        "colab": {
          "base_uri": "https://localhost:8080/",
          "height": 46
        },
        "id": "mKGaXO3oTlnx",
        "outputId": "959d8778-80ba-4fc7-ee64-81d3239e00fe"
      },
      "execution_count": 16,
      "outputs": [
        {
          "output_type": "execute_result",
          "data": {
            "text/plain": [
              "Matrix([Vector([2, 8, 14]), Vector([4, 12, 18]), Vector([6, 10, 0])])"
            ],
            "text/html": [
              "<p style=\"text-align:center;\">$\\left[ \\begin{array}{ccc}2&4&6\\\\8&12&10\\\\14&18&0\\\\ \\end{array} \\right]$</p>"
            ],
            "image/png": "$\\left[ \\begin{array}{ccc}2&4&6\\\\8&12&10\\\\14&18&0\\\\ \\end{array} \\right]$",
            "text/latex": "$\\left[ \\begin{array}{ccc}2&4&6\\\\8&12&10\\\\14&18&0\\\\ \\end{array} \\right]$"
          },
          "metadata": {},
          "execution_count": 16
        }
      ]
    },
    {
      "cell_type": "markdown",
      "source": [
        "$\\left[ \\begin{array}{ccc}2&4&6\\\\8&12&10\\\\14&18&0\\\\ \\end{array} \\right]$"
      ],
      "metadata": {
        "id": "ayqR9kwZYLf-"
      }
    },
    {
      "cell_type": "code",
      "source": [
        "(~B+~C)"
      ],
      "metadata": {
        "colab": {
          "base_uri": "https://localhost:8080/",
          "height": 46
        },
        "id": "058dyFrkYBF9",
        "outputId": "3e0235f6-68a2-4d84-cde6-ba4f1352881b"
      },
      "execution_count": 17,
      "outputs": [
        {
          "output_type": "execute_result",
          "data": {
            "text/plain": [
              "Matrix([Vector([2, 8, 14]), Vector([4, 12, 18]), Vector([6, 10, 0])])"
            ],
            "text/html": [
              "<p style=\"text-align:center;\">$\\left[ \\begin{array}{ccc}2&4&6\\\\8&12&10\\\\14&18&0\\\\ \\end{array} \\right]$</p>"
            ],
            "image/png": "$\\left[ \\begin{array}{ccc}2&4&6\\\\8&12&10\\\\14&18&0\\\\ \\end{array} \\right]$",
            "text/latex": "$\\left[ \\begin{array}{ccc}2&4&6\\\\8&12&10\\\\14&18&0\\\\ \\end{array} \\right]$"
          },
          "metadata": {},
          "execution_count": 17
        }
      ]
    },
    {
      "cell_type": "markdown",
      "source": [
        "$\\left[ \\begin{array}{ccc}2&4&6\\\\8&12&10\\\\14&18&0\\\\ \\end{array} \\right]$"
      ],
      "metadata": {
        "id": "svKp-XAaYNpN"
      }
    },
    {
      "cell_type": "markdown",
      "source": [
        "6. Verifique que\n",
        "$\n",
        "{A}{I}={A}\n",
        "$\n",
        "y que\n",
        "$\n",
        "{I}{A}={A}\n",
        "$"
      ],
      "metadata": {
        "id": "tXYlkUpQM6Qz"
      }
    },
    {
      "cell_type": "code",
      "source": [
        "a = Vector([1,2,3])\n",
        "b = Vector([4,6,5])\n",
        "c = Vector([7,9,0])\n",
        "A = Matrix([a,b,c])\n",
        "A*I (3)"
      ],
      "metadata": {
        "colab": {
          "base_uri": "https://localhost:8080/",
          "height": 46
        },
        "id": "BsliLGnqM_Bc",
        "outputId": "0623d1d5-1b9c-4160-c905-f57229e97b6b"
      },
      "execution_count": 18,
      "outputs": [
        {
          "output_type": "execute_result",
          "data": {
            "text/plain": [
              "Matrix([Vector([1, 2, 3]), Vector([4, 6, 5]), Vector([7, 9, 0])])"
            ],
            "text/html": [
              "<p style=\"text-align:center;\">$\\left[ \\begin{array}{ccc}1&4&7\\\\2&6&9\\\\3&5&0\\\\ \\end{array} \\right]$</p>"
            ],
            "image/png": "$\\left[ \\begin{array}{ccc}1&4&7\\\\2&6&9\\\\3&5&0\\\\ \\end{array} \\right]$",
            "text/latex": "$\\left[ \\begin{array}{ccc}1&4&7\\\\2&6&9\\\\3&5&0\\\\ \\end{array} \\right]$"
          },
          "metadata": {},
          "execution_count": 18
        }
      ]
    },
    {
      "cell_type": "markdown",
      "source": [
        "$\\left[ \\begin{array}{ccc}1&4&7\\\\2&6&9\\\\3&5&0\\\\ \\end{array} \\right]$"
      ],
      "metadata": {
        "id": "f7R2ICLwYnqW"
      }
    },
    {
      "cell_type": "code",
      "source": [
        "(I(3)*A)"
      ],
      "metadata": {
        "colab": {
          "base_uri": "https://localhost:8080/",
          "height": 46
        },
        "id": "5O3vd1TmYtft",
        "outputId": "310ddf01-4f78-406a-b23d-0360861a14f0"
      },
      "execution_count": 20,
      "outputs": [
        {
          "output_type": "execute_result",
          "data": {
            "text/plain": [
              "Matrix([Vector([1, 2, 3]), Vector([4, 6, 5]), Vector([7, 9, 0])])"
            ],
            "text/html": [
              "<p style=\"text-align:center;\">$\\left[ \\begin{array}{ccc}1&4&7\\\\2&6&9\\\\3&5&0\\\\ \\end{array} \\right]$</p>"
            ],
            "image/png": "$\\left[ \\begin{array}{ccc}1&4&7\\\\2&6&9\\\\3&5&0\\\\ \\end{array} \\right]$",
            "text/latex": "$\\left[ \\begin{array}{ccc}1&4&7\\\\2&6&9\\\\3&5&0\\\\ \\end{array} \\right]$"
          },
          "metadata": {},
          "execution_count": 20
        }
      ]
    },
    {
      "cell_type": "markdown",
      "source": [
        "$\\left[ \\begin{array}{ccc}1&4&7\\\\2&6&9\\\\3&5&0\\\\ \\end{array} \\right]$"
      ],
      "metadata": {
        "id": "S_Pb6exOZA13"
      }
    },
    {
      "cell_type": "markdown",
      "source": [
        "7. Producto punto\n",
        "Considere los vectores ${x}=(1, 1, -2)$, ${y}=(1, -2, 1)$\n",
        "calcula el producto punto"
      ],
      "metadata": {
        "id": "xni7pPXSM_Yb"
      }
    },
    {
      "cell_type": "code",
      "source": [
        "opx = x*y\n",
        "print(opx)"
      ],
      "metadata": {
        "colab": {
          "base_uri": "https://localhost:8080/"
        },
        "id": "ziPkWs9FNCe6",
        "outputId": "48abe2cf-2cdb-4f2e-8e46-4ce8029c6eb5"
      },
      "execution_count": 10,
      "outputs": [
        {
          "output_type": "stream",
          "name": "stdout",
          "text": [
            "-3\n"
          ]
        }
      ]
    }
  ]
}