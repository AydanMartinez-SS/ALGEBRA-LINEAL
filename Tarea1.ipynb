{
  "nbformat": 4,
  "nbformat_minor": 0,
  "metadata": {
    "colab": {
      "provenance": [],
      "authorship_tag": "ABX9TyOcI0COvCQpvQZrcLWvuo7f",
      "include_colab_link": true
    },
    "kernelspec": {
      "name": "python3",
      "display_name": "Python 3"
    },
    "language_info": {
      "name": "python"
    }
  },
  "cells": [
    {
      "cell_type": "markdown",
      "metadata": {
        "id": "view-in-github",
        "colab_type": "text"
      },
      "source": [
        "<a href=\"https://colab.research.google.com/github/AydanMartinez-SS/ALGEBRA-LINEAL/blob/main/Tarea1.ipynb\" target=\"_parent\"><img src=\"https://colab.research.google.com/assets/colab-badge.svg\" alt=\"Open In Colab\"/></a>"
      ]
    },
    {
      "cell_type": "code",
      "execution_count": null,
      "metadata": {
        "colab": {
          "base_uri": "https://localhost:8080/"
        },
        "id": "GAU0YaaeHm2-",
        "outputId": "f2662ed8-3e73-4e6a-848a-309703b1efa0"
      },
      "outputs": [
        {
          "output_type": "stream",
          "name": "stdout",
          "text": [
            "Collecting nacal\n",
            "  Downloading nacal-0.2.1-py3-none-any.whl (40 kB)\n",
            "\u001b[2K     \u001b[90m━━━━━━━━━━━━━━━━━━━━━━━━━━━━━━━━━━━━━━━━\u001b[0m \u001b[32m40.0/40.0 kB\u001b[0m \u001b[31m1.4 MB/s\u001b[0m eta \u001b[36m0:00:00\u001b[0m\n",
            "\u001b[?25hRequirement already satisfied: sympy>=1.1.0 in /usr/local/lib/python3.10/dist-packages (from nacal) (1.12.1)\n",
            "Requirement already satisfied: mpmath<1.4.0,>=1.1.0 in /usr/local/lib/python3.10/dist-packages (from sympy>=1.1.0->nacal) (1.3.0)\n",
            "Installing collected packages: nacal\n",
            "Successfully installed nacal-0.2.1\n"
          ]
        }
      ],
      "source": [
        "!pip install --target=$nb_path nacal\n",
        "from nacal import *"
      ]
    },
    {
      "cell_type": "markdown",
      "source": [
        "**TAREA 1 - RESUELVE LAS PREGUNTAS DEL LIBRO 8 Y 9**"
      ],
      "metadata": {
        "id": "4V2M60q8LKUq"
      }
    },
    {
      "cell_type": "code",
      "source": [
        "from nacal import *\n",
        "from IPython.display import display, Math, Latex\n",
        "b = Vector( [0, 4, 6] )\n",
        "print(2*b)\n",
        "latex(2*b)"
      ],
      "metadata": {
        "colab": {
          "base_uri": "https://localhost:8080/",
          "height": 53
        },
        "id": "c76QLFf5Jehc",
        "outputId": "fa8b03b9-6394-4c97-9bed-ca5192c16f0b"
      },
      "execution_count": null,
      "outputs": [
        {
          "output_type": "stream",
          "name": "stdout",
          "text": [
            "(0, 8, 12,)\n"
          ]
        },
        {
          "output_type": "execute_result",
          "data": {
            "text/plain": [
              "'\\\\begin{pmatrix}0\\\\\\\\ 8\\\\\\\\ 12\\\\end{pmatrix}'"
            ],
            "application/vnd.google.colaboratory.intrinsic+json": {
              "type": "string"
            }
          },
          "metadata": {},
          "execution_count": 3
        }
      ]
    },
    {
      "cell_type": "markdown",
      "source": [
        "**1**"
      ],
      "metadata": {
        "id": "5coe1HLmLNXg"
      }
    },
    {
      "cell_type": "code",
      "source": [
        "a = Vector( [1, 2, 3] )\n",
        "b = Vector( [4, 5, 6] )\n",
        "latex(a=b)\n",
        "latex(b+a)\n"
      ],
      "metadata": {
        "colab": {
          "base_uri": "https://localhost:8080/",
          "height": 35
        },
        "id": "Tf2yhvH5LOTj",
        "outputId": "7039827e-d104-48f0-a262-d0214f5c3c47"
      },
      "execution_count": null,
      "outputs": [
        {
          "output_type": "execute_result",
          "data": {
            "text/plain": [
              "'\\\\begin{pmatrix}5\\\\\\\\ 7\\\\\\\\ 9\\\\end{pmatrix}'"
            ],
            "application/vnd.google.colaboratory.intrinsic+json": {
              "type": "string"
            }
          },
          "metadata": {},
          "execution_count": 4
        }
      ]
    },
    {
      "cell_type": "markdown",
      "source": [
        "**2**"
      ],
      "metadata": {
        "id": "RmVe5lRy0vQm"
      }
    },
    {
      "cell_type": "code",
      "source": [
        "a=Vector([1,2])\n",
        "b=Vector([4,5])\n",
        "c=Vector([1,0])\n",
        "latex(a+(b+c))\n",
        "latex((a+b)+c)"
      ],
      "metadata": {
        "colab": {
          "base_uri": "https://localhost:8080/",
          "height": 35
        },
        "id": "mhQQcsU4zkLk",
        "outputId": "00f3ab74-231c-44ae-fc10-f6d7a371318b"
      },
      "execution_count": null,
      "outputs": [
        {
          "output_type": "execute_result",
          "data": {
            "text/plain": [
              "'\\\\begin{pmatrix}6\\\\\\\\ 7\\\\end{pmatrix}'"
            ],
            "application/vnd.google.colaboratory.intrinsic+json": {
              "type": "string"
            }
          },
          "metadata": {},
          "execution_count": 5
        }
      ]
    },
    {
      "cell_type": "markdown",
      "source": [
        "**3**\n",
        "\n"
      ],
      "metadata": {
        "id": "5I_fVHzd0tjy"
      }
    },
    {
      "cell_type": "code",
      "source": [
        "a=Vector([4,5,6])\n",
        "b=Vector([7,8,9])\n",
        "c=Vector([0,0,0])\n",
        "latex(a+b)\n",
        "latex(b+c)"
      ],
      "metadata": {
        "colab": {
          "base_uri": "https://localhost:8080/",
          "height": 35
        },
        "id": "6Xfr_TBm10Y6",
        "outputId": "9ad94f33-e9f7-4f94-bb71-b43bde7b60f5"
      },
      "execution_count": null,
      "outputs": [
        {
          "output_type": "execute_result",
          "data": {
            "text/plain": [
              "'\\\\begin{pmatrix}7\\\\\\\\ 8\\\\\\\\ 9\\\\end{pmatrix}'"
            ],
            "application/vnd.google.colaboratory.intrinsic+json": {
              "type": "string"
            }
          },
          "metadata": {},
          "execution_count": 6
        }
      ]
    },
    {
      "cell_type": "markdown",
      "source": [
        "**4**"
      ],
      "metadata": {
        "id": "PZyWDxuY2RdR"
      }
    },
    {
      "cell_type": "code",
      "source": [
        "a=Vector([4,5,6])\n",
        "b=Vector([-4,-5,-6])\n",
        "latex(a+b)\n"
      ],
      "metadata": {
        "colab": {
          "base_uri": "https://localhost:8080/",
          "height": 35
        },
        "id": "LF4oCNfK2TQj",
        "outputId": "a03fbbd6-b935-4856-ba75-4a8e4c757d2b"
      },
      "execution_count": null,
      "outputs": [
        {
          "output_type": "execute_result",
          "data": {
            "text/plain": [
              "'\\\\begin{pmatrix}0\\\\\\\\ 0\\\\\\\\ 0\\\\end{pmatrix}'"
            ],
            "application/vnd.google.colaboratory.intrinsic+json": {
              "type": "string"
            }
          },
          "metadata": {},
          "execution_count": 7
        }
      ]
    },
    {
      "cell_type": "markdown",
      "source": [
        "**5**"
      ],
      "metadata": {
        "id": "0p7H9ZPt2rFa"
      }
    },
    {
      "cell_type": "code",
      "source": [
        "a=Vector([1,-1])\n",
        "b=Vector([4,5])\n",
        "latex(2*(a+b))\n",
        "latex((2*a)+(2*b))"
      ],
      "metadata": {
        "colab": {
          "base_uri": "https://localhost:8080/",
          "height": 35
        },
        "id": "1oghpSZ92ugV",
        "outputId": "0442ecf1-e79e-4016-91c9-4f3a361c95a9"
      },
      "execution_count": null,
      "outputs": [
        {
          "output_type": "execute_result",
          "data": {
            "text/plain": [
              "'\\\\begin{pmatrix}10\\\\\\\\ 8\\\\end{pmatrix}'"
            ],
            "application/vnd.google.colaboratory.intrinsic+json": {
              "type": "string"
            }
          },
          "metadata": {},
          "execution_count": 8
        }
      ]
    },
    {
      "cell_type": "markdown",
      "source": [
        "**6**"
      ],
      "metadata": {
        "id": "fmp-U6oT3O3W"
      }
    },
    {
      "cell_type": "code",
      "source": [
        "a=Vector([1,2,])\n",
        "latex((2+3)*a)\n",
        "latex((2*a)+(3*a))\n"
      ],
      "metadata": {
        "colab": {
          "base_uri": "https://localhost:8080/",
          "height": 35
        },
        "id": "RQh5SuM_3OLW",
        "outputId": "26ad0d9c-7425-4b74-b6bf-de760afebffb"
      },
      "execution_count": null,
      "outputs": [
        {
          "output_type": "execute_result",
          "data": {
            "text/plain": [
              "'\\\\begin{pmatrix}5\\\\\\\\ 10\\\\end{pmatrix}'"
            ],
            "application/vnd.google.colaboratory.intrinsic+json": {
              "type": "string"
            }
          },
          "metadata": {},
          "execution_count": 9
        }
      ]
    },
    {
      "cell_type": "markdown",
      "source": [
        "**7**"
      ],
      "metadata": {
        "id": "HNPNuZWb32C_"
      }
    },
    {
      "cell_type": "code",
      "source": [
        "a=Vector([1,2])\n",
        "latex((2*(3*a)))\n",
        "latex((2*3)*a)"
      ],
      "metadata": {
        "colab": {
          "base_uri": "https://localhost:8080/",
          "height": 35
        },
        "id": "OrKAE2Rc33vG",
        "outputId": "ff0cf7f6-eb5f-4949-b039-f4fa49c1c13b"
      },
      "execution_count": null,
      "outputs": [
        {
          "output_type": "execute_result",
          "data": {
            "text/plain": [
              "'\\\\begin{pmatrix}6\\\\\\\\ 12\\\\end{pmatrix}'"
            ],
            "application/vnd.google.colaboratory.intrinsic+json": {
              "type": "string"
            }
          },
          "metadata": {},
          "execution_count": 10
        }
      ]
    },
    {
      "cell_type": "markdown",
      "source": [
        "**8**"
      ],
      "metadata": {
        "id": "DDE5cCWP4Yv_"
      }
    },
    {
      "cell_type": "code",
      "source": [
        "a=Vector([1,2,3])\n",
        "latex(1*a)"
      ],
      "metadata": {
        "colab": {
          "base_uri": "https://localhost:8080/",
          "height": 35
        },
        "id": "H6TIv2nt4bgK",
        "outputId": "d5d00132-1630-443d-bc7c-53c83e779fd5"
      },
      "execution_count": null,
      "outputs": [
        {
          "output_type": "execute_result",
          "data": {
            "text/plain": [
              "'\\\\begin{pmatrix}1\\\\\\\\ 2\\\\\\\\ 3\\\\end{pmatrix}'"
            ],
            "application/vnd.google.colaboratory.intrinsic+json": {
              "type": "string"
            }
          },
          "metadata": {},
          "execution_count": 11
        }
      ]
    }
  ]
}