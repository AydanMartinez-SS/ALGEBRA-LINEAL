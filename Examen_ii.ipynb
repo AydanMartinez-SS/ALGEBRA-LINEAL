{
  "nbformat": 4,
  "nbformat_minor": 0,
  "metadata": {
    "colab": {
      "provenance": [],
      "include_colab_link": true
    },
    "kernelspec": {
      "name": "python3",
      "display_name": "Python 3"
    },
    "language_info": {
      "name": "python"
    }
  },
  "cells": [
    {
      "cell_type": "markdown",
      "metadata": {
        "id": "view-in-github",
        "colab_type": "text"
      },
      "source": [
        "<a href=\"https://colab.research.google.com/github/AydanMartinez-SS/ALGEBRA-LINEAL/blob/main/Examen_ii.ipynb\" target=\"_parent\"><img src=\"https://colab.research.google.com/assets/colab-badge.svg\" alt=\"Open In Colab\"/></a>"
      ]
    },
    {
      "cell_type": "code",
      "execution_count": 1,
      "metadata": {
        "colab": {
          "base_uri": "https://localhost:8080/"
        },
        "id": "T9mcRMDLVpzh",
        "outputId": "2d04a84e-72b3-4bf6-92bf-b5e83df5cfb5"
      },
      "outputs": [
        {
          "output_type": "stream",
          "name": "stdout",
          "text": [
            "Collecting nacal\n",
            "  Downloading nacal-0.2.1-py3-none-any.whl (40 kB)\n",
            "\u001b[2K     \u001b[90m━━━━━━━━━━━━━━━━━━━━━━━━━━━━━━━━━━━━━━━━\u001b[0m \u001b[32m40.0/40.0 kB\u001b[0m \u001b[31m826.9 kB/s\u001b[0m eta \u001b[36m0:00:00\u001b[0m\n",
            "\u001b[?25hRequirement already satisfied: sympy>=1.1.0 in /usr/local/lib/python3.10/dist-packages (from nacal) (1.12.1)\n",
            "Requirement already satisfied: mpmath<1.4.0,>=1.1.0 in /usr/local/lib/python3.10/dist-packages (from sympy>=1.1.0->nacal) (1.3.0)\n",
            "Installing collected packages: nacal\n",
            "Successfully installed nacal-0.2.1\n"
          ]
        }
      ],
      "source": [
        "!pip install --target=$nb_path nacal\n",
        "from nacal import *"
      ]
    },
    {
      "cell_type": "markdown",
      "source": [
        "1. Para la siguiente matriz $$\\left[ \\begin{array}{cccc}3&-2&2&1\\\\1&-1&-1&-3\\\\2&1&2&4\\\\4&-4&1&2\\\\ \\end{array} \\right]$$ lleva a cabo el algoritmo de eliminación paso a paso.\n",
        "\n",
        "Escribe en una celda separada cada operacion elemental."
      ],
      "metadata": {
        "id": "hBXBxw0VcrAh"
      }
    },
    {
      "cell_type": "code",
      "source": [
        "f = Vector([3,1,2,4])\n",
        "h = Vector([-2,-1,1,-4])\n",
        "t = Vector([2,-1,2,1])\n",
        "r = Vector([1,-3,4,2])\n",
        "A = Matrix([f,h,t,r])\n",
        "A"
      ],
      "metadata": {
        "id": "vfD_dE0zR22V",
        "outputId": "c734ab01-cd88-4680-c8e3-d56ce1795e63",
        "colab": {
          "base_uri": "https://localhost:8080/",
          "height": 46
        }
      },
      "execution_count": 2,
      "outputs": [
        {
          "output_type": "execute_result",
          "data": {
            "text/plain": [
              "Matrix([Vector([3, 1, 2, 4]), Vector([-2, -1, 1, -4]), Vector([2, -1, 2, 1]), Vector([1, -3, 4, 2])])"
            ],
            "text/html": [
              "<p style=\"text-align:center;\">$\\left[ \\begin{array}{cccc}3&-2&2&1\\\\1&-1&-1&-3\\\\2&1&2&4\\\\4&-4&1&2\\\\ \\end{array} \\right]$</p>"
            ],
            "image/png": "$\\left[ \\begin{array}{cccc}3&-2&2&1\\\\1&-1&-1&-3\\\\2&1&2&4\\\\4&-4&1&2\\\\ \\end{array} \\right]$",
            "text/latex": "$\\left[ \\begin{array}{cccc}3&-2&2&1\\\\1&-1&-1&-3\\\\2&1&2&4\\\\4&-4&1&2\\\\ \\end{array} \\right]$"
          },
          "metadata": {},
          "execution_count": 2
        }
      ]
    },
    {
      "cell_type": "markdown",
      "source": [
        "$\\left[ \\begin{array}{cccc}3&-2&2&1\\\\1&-1&-1&-3\\\\2&1&2&4\\\\4&-4&1&2\\\\ \\end{array} \\right]$"
      ],
      "metadata": {
        "id": "K--yT266SFaQ"
      }
    },
    {
      "cell_type": "code",
      "source": [
        "A&T((fracc(1,3),1))"
      ],
      "metadata": {
        "id": "zBO2IgcxSRBB",
        "outputId": "00ce2059-7b99-4ee2-98ee-b98e0c00f620",
        "colab": {
          "base_uri": "https://localhost:8080/",
          "height": 46
        }
      },
      "execution_count": 3,
      "outputs": [
        {
          "output_type": "execute_result",
          "data": {
            "text/plain": [
              "Matrix([Vector([1, 1/3, 2/3, 4/3]), Vector([-2, -1, 1, -4]), Vector([2, -1, 2, 1]), Vector([1, -3, 4, 2])])"
            ],
            "text/html": [
              "<p style=\"text-align:center;\">$\\left[ \\begin{array}{cccc}1&-2&2&1\\\\\\frac{1}{3}&-1&-1&-3\\\\\\frac{2}{3}&1&2&4\\\\\\frac{4}{3}&-4&1&2\\\\ \\end{array} \\right]$</p>"
            ],
            "image/png": "$\\left[ \\begin{array}{cccc}1&-2&2&1\\\\\\frac{1}{3}&-1&-1&-3\\\\\\frac{2}{3}&1&2&4\\\\\\frac{4}{3}&-4&1&2\\\\ \\end{array} \\right]$",
            "text/latex": "$\\left[ \\begin{array}{cccc}1&-2&2&1\\\\\\frac{1}{3}&-1&-1&-3\\\\\\frac{2}{3}&1&2&4\\\\\\frac{4}{3}&-4&1&2\\\\ \\end{array} \\right]$"
          },
          "metadata": {},
          "execution_count": 3
        }
      ]
    },
    {
      "cell_type": "markdown",
      "source": [
        "$\\left[ \\begin{array}{cccc}1&-2&2&1\\\\\\frac{1}{3}&-1&-1&-3\\\\\\frac{2}{3}&1&2&4\\\\\\frac{4}{3}&-4&1&2\\\\ \\end{array} \\right]$"
      ],
      "metadata": {
        "id": "5t8Bp__vgaQ6"
      }
    },
    {
      "cell_type": "code",
      "source": [
        "A&T((fracc(1,3),2,1))"
      ],
      "metadata": {
        "id": "_mJ_6dhMSSHM",
        "outputId": "35d1998a-a228-4ff3-9ad8-e55231d42f75",
        "colab": {
          "base_uri": "https://localhost:8080/",
          "height": 46
        }
      },
      "execution_count": 4,
      "outputs": [
        {
          "output_type": "execute_result",
          "data": {
            "text/plain": [
              "Matrix([Vector([1/3, 0, 1, 0]), Vector([-2, -1, 1, -4]), Vector([2, -1, 2, 1]), Vector([1, -3, 4, 2])])"
            ],
            "text/html": [
              "<p style=\"text-align:center;\">$\\left[ \\begin{array}{cccc}\\frac{1}{3}&-2&2&1\\\\0&-1&-1&-3\\\\1&1&2&4\\\\0&-4&1&2\\\\ \\end{array} \\right]$</p>"
            ],
            "image/png": "$\\left[ \\begin{array}{cccc}\\frac{1}{3}&-2&2&1\\\\0&-1&-1&-3\\\\1&1&2&4\\\\0&-4&1&2\\\\ \\end{array} \\right]$",
            "text/latex": "$\\left[ \\begin{array}{cccc}\\frac{1}{3}&-2&2&1\\\\0&-1&-1&-3\\\\1&1&2&4\\\\0&-4&1&2\\\\ \\end{array} \\right]$"
          },
          "metadata": {},
          "execution_count": 4
        }
      ]
    },
    {
      "cell_type": "markdown",
      "source": [
        "$\\left[ \\begin{array}{cccc}\\frac{1}{3}&-2&2&1\\\\0&-1&-1&-3\\\\1&1&2&4\\\\0&-4&1&2\\\\ \\end{array} \\right]$"
      ],
      "metadata": {
        "id": "JTrD9Pp4gVNZ"
      }
    },
    {
      "cell_type": "code",
      "source": [
        "A&T((-1,2))"
      ],
      "metadata": {
        "id": "UfumWBQDSR2Y",
        "outputId": "74e7a809-e338-46fd-db29-821edadf7ab6",
        "colab": {
          "base_uri": "https://localhost:8080/",
          "height": 46
        }
      },
      "execution_count": 5,
      "outputs": [
        {
          "output_type": "execute_result",
          "data": {
            "text/plain": [
              "Matrix([Vector([1/3, 0, 1, 0]), Vector([2, 1, -1, 4]), Vector([2, -1, 2, 1]), Vector([1, -3, 4, 2])])"
            ],
            "text/html": [
              "<p style=\"text-align:center;\">$\\left[ \\begin{array}{cccc}\\frac{1}{3}&2&2&1\\\\0&1&-1&-3\\\\1&-1&2&4\\\\0&4&1&2\\\\ \\end{array} \\right]$</p>"
            ],
            "image/png": "$\\left[ \\begin{array}{cccc}\\frac{1}{3}&2&2&1\\\\0&1&-1&-3\\\\1&-1&2&4\\\\0&4&1&2\\\\ \\end{array} \\right]$",
            "text/latex": "$\\left[ \\begin{array}{cccc}\\frac{1}{3}&2&2&1\\\\0&1&-1&-3\\\\1&-1&2&4\\\\0&4&1&2\\\\ \\end{array} \\right]$"
          },
          "metadata": {},
          "execution_count": 5
        }
      ]
    },
    {
      "cell_type": "markdown",
      "source": [
        "$\\left[ \\begin{array}{cccc}\\frac{1}{3}&2&2&1\\\\0&1&-1&-3\\\\1&-1&2&4\\\\0&4&1&2\\\\ \\end{array} \\right]$"
      ],
      "metadata": {
        "id": "XOdUgTmUgSFy"
      }
    },
    {
      "cell_type": "code",
      "source": [
        "A&T((2,2,3))"
      ],
      "metadata": {
        "id": "JoIadOgpSRh2",
        "outputId": "531d5d84-3247-4028-c070-85a7eb457e11",
        "colab": {
          "base_uri": "https://localhost:8080/",
          "height": 46
        }
      },
      "execution_count": 6,
      "outputs": [
        {
          "output_type": "execute_result",
          "data": {
            "text/plain": [
              "Matrix([Vector([1/3, 0, 1, 0]), Vector([2, 1, -1, 4]), Vector([6, 1, 0, 9]), Vector([1, -3, 4, 2])])"
            ],
            "text/html": [
              "<p style=\"text-align:center;\">$\\left[ \\begin{array}{cccc}\\frac{1}{3}&2&6&1\\\\0&1&1&-3\\\\1&-1&0&4\\\\0&4&9&2\\\\ \\end{array} \\right]$</p>"
            ],
            "image/png": "$\\left[ \\begin{array}{cccc}\\frac{1}{3}&2&6&1\\\\0&1&1&-3\\\\1&-1&0&4\\\\0&4&9&2\\\\ \\end{array} \\right]$",
            "text/latex": "$\\left[ \\begin{array}{cccc}\\frac{1}{3}&2&6&1\\\\0&1&1&-3\\\\1&-1&0&4\\\\0&4&9&2\\\\ \\end{array} \\right]$"
          },
          "metadata": {},
          "execution_count": 6
        }
      ]
    },
    {
      "cell_type": "markdown",
      "source": [
        "$\\left[ \\begin{array}{cccc}\\frac{1}{3}&2&6&1\\\\0&1&1&-3\\\\1&-1&0&4\\\\0&4&9&2\\\\ \\end{array} \\right]$"
      ],
      "metadata": {
        "id": "zl876fMAgPJh"
      }
    },
    {
      "cell_type": "code",
      "source": [
        "A&T((-1,2,3))"
      ],
      "metadata": {
        "id": "_kinYOQwSovf",
        "outputId": "24c43b32-21ab-46ad-da16-02f0f5764476",
        "colab": {
          "base_uri": "https://localhost:8080/",
          "height": 46
        }
      },
      "execution_count": 7,
      "outputs": [
        {
          "output_type": "execute_result",
          "data": {
            "text/plain": [
              "Matrix([Vector([1/3, 0, 1, 0]), Vector([2, 1, -1, 4]), Vector([4, 0, 1, 5]), Vector([1, -3, 4, 2])])"
            ],
            "text/html": [
              "<p style=\"text-align:center;\">$\\left[ \\begin{array}{cccc}\\frac{1}{3}&2&4&1\\\\0&1&0&-3\\\\1&-1&1&4\\\\0&4&5&2\\\\ \\end{array} \\right]$</p>"
            ],
            "image/png": "$\\left[ \\begin{array}{cccc}\\frac{1}{3}&2&4&1\\\\0&1&0&-3\\\\1&-1&1&4\\\\0&4&5&2\\\\ \\end{array} \\right]$",
            "text/latex": "$\\left[ \\begin{array}{cccc}\\frac{1}{3}&2&4&1\\\\0&1&0&-3\\\\1&-1&1&4\\\\0&4&5&2\\\\ \\end{array} \\right]$"
          },
          "metadata": {},
          "execution_count": 7
        }
      ]
    },
    {
      "cell_type": "markdown",
      "source": [
        "$\\left[ \\begin{array}{cccc}\\frac{1}{3}&2&4&1\\\\0&1&0&-3\\\\1&-1&1&4\\\\0&4&5&2\\\\ \\end{array} \\right]$"
      ],
      "metadata": {
        "id": "-xbsMsvcgLaA"
      }
    },
    {
      "cell_type": "code",
      "source": [
        "A&T((1,3,2))"
      ],
      "metadata": {
        "id": "CqORIG6ySt0v",
        "outputId": "f28ac9aa-f927-4196-856c-4341426caa56",
        "colab": {
          "base_uri": "https://localhost:8080/",
          "height": 46
        }
      },
      "execution_count": 8,
      "outputs": [
        {
          "output_type": "execute_result",
          "data": {
            "text/plain": [
              "Matrix([Vector([1/3, 0, 1, 0]), Vector([6, 1, 0, 9]), Vector([4, 0, 1, 5]), Vector([1, -3, 4, 2])])"
            ],
            "text/html": [
              "<p style=\"text-align:center;\">$\\left[ \\begin{array}{cccc}\\frac{1}{3}&6&4&1\\\\0&1&0&-3\\\\1&0&1&4\\\\0&9&5&2\\\\ \\end{array} \\right]$</p>"
            ],
            "image/png": "$\\left[ \\begin{array}{cccc}\\frac{1}{3}&6&4&1\\\\0&1&0&-3\\\\1&0&1&4\\\\0&9&5&2\\\\ \\end{array} \\right]$",
            "text/latex": "$\\left[ \\begin{array}{cccc}\\frac{1}{3}&6&4&1\\\\0&1&0&-3\\\\1&0&1&4\\\\0&9&5&2\\\\ \\end{array} \\right]$"
          },
          "metadata": {},
          "execution_count": 8
        }
      ]
    },
    {
      "cell_type": "markdown",
      "source": [
        "$\\left[ \\begin{array}{cccc}\\frac{1}{3}&6&4&1\\\\0&1&0&-3\\\\1&0&1&4\\\\0&9&5&2\\\\ \\end{array} \\right]$"
      ],
      "metadata": {
        "id": "Gk6hV6V3gIpy"
      }
    },
    {
      "cell_type": "code",
      "source": [
        "A&T((-4,3,4))"
      ],
      "metadata": {
        "id": "2FM6fi_ISyf9",
        "outputId": "1da7e14f-5e69-487f-bbd4-b423e1d0e21a",
        "colab": {
          "base_uri": "https://localhost:8080/",
          "height": 46
        }
      },
      "execution_count": 9,
      "outputs": [
        {
          "output_type": "execute_result",
          "data": {
            "text/plain": [
              "Matrix([Vector([1/3, 0, 1, 0]), Vector([6, 1, 0, 9]), Vector([4, 0, 1, 5]), Vector([-15, -3, 0, -18])])"
            ],
            "text/html": [
              "<p style=\"text-align:center;\">$\\left[ \\begin{array}{cccc}\\frac{1}{3}&6&4&-15\\\\0&1&0&-3\\\\1&0&1&0\\\\0&9&5&-18\\\\ \\end{array} \\right]$</p>"
            ],
            "image/png": "$\\left[ \\begin{array}{cccc}\\frac{1}{3}&6&4&-15\\\\0&1&0&-3\\\\1&0&1&0\\\\0&9&5&-18\\\\ \\end{array} \\right]$",
            "text/latex": "$\\left[ \\begin{array}{cccc}\\frac{1}{3}&6&4&-15\\\\0&1&0&-3\\\\1&0&1&0\\\\0&9&5&-18\\\\ \\end{array} \\right]$"
          },
          "metadata": {},
          "execution_count": 9
        }
      ]
    },
    {
      "cell_type": "markdown",
      "source": [
        "$\\left[ \\begin{array}{cccc}\\frac{1}{3}&6&4&-15\\\\0&1&0&-3\\\\1&0&1&0\\\\0&9&5&-18\\\\ \\end{array} \\right]$"
      ],
      "metadata": {
        "id": "3aJU0SJfgGNY"
      }
    },
    {
      "cell_type": "code",
      "source": [
        "A&T((-1,3,1))"
      ],
      "metadata": {
        "id": "5oE8nCdzS25O",
        "outputId": "45e02245-466c-41b9-a75a-dbb94cc9f771",
        "colab": {
          "base_uri": "https://localhost:8080/",
          "height": 46
        }
      },
      "execution_count": 10,
      "outputs": [
        {
          "output_type": "execute_result",
          "data": {
            "text/plain": [
              "Matrix([Vector([-11/3, 0, 0, -5]), Vector([6, 1, 0, 9]), Vector([4, 0, 1, 5]), Vector([-15, -3, 0, -18])])"
            ],
            "text/html": [
              "<p style=\"text-align:center;\">$\\left[ \\begin{array}{cccc}- \\frac{11}{3}&6&4&-15\\\\0&1&0&-3\\\\0&0&1&0\\\\-5&9&5&-18\\\\ \\end{array} \\right]$</p>"
            ],
            "image/png": "$\\left[ \\begin{array}{cccc}- \\frac{11}{3}&6&4&-15\\\\0&1&0&-3\\\\0&0&1&0\\\\-5&9&5&-18\\\\ \\end{array} \\right]$",
            "text/latex": "$\\left[ \\begin{array}{cccc}- \\frac{11}{3}&6&4&-15\\\\0&1&0&-3\\\\0&0&1&0\\\\-5&9&5&-18\\\\ \\end{array} \\right]$"
          },
          "metadata": {},
          "execution_count": 10
        }
      ]
    },
    {
      "cell_type": "markdown",
      "source": [
        "$\\left[ \\begin{array}{cccc}- \\frac{11}{3}&6&4&-15\\\\0&1&0&-3\\\\0&0&1&0\\\\-5&9&5&-18\\\\ \\end{array} \\right]$"
      ],
      "metadata": {
        "id": "kWZXwauEgA9Z"
      }
    },
    {
      "cell_type": "code",
      "source": [
        "A&T((fracc(-1,18),4))"
      ],
      "metadata": {
        "id": "qIl8O26tS7rv",
        "outputId": "10d1b69e-ebad-4f53-bdad-dbf966fb34d8",
        "colab": {
          "base_uri": "https://localhost:8080/",
          "height": 46
        }
      },
      "execution_count": 11,
      "outputs": [
        {
          "output_type": "execute_result",
          "data": {
            "text/plain": [
              "Matrix([Vector([-11/3, 0, 0, -5]), Vector([6, 1, 0, 9]), Vector([4, 0, 1, 5]), Vector([5/6, 1/6, 0, 1])])"
            ],
            "text/html": [
              "<p style=\"text-align:center;\">$\\left[ \\begin{array}{cccc}- \\frac{11}{3}&6&4&\\frac{5}{6}\\\\0&1&0&\\frac{1}{6}\\\\0&0&1&0\\\\-5&9&5&1\\\\ \\end{array} \\right]$</p>"
            ],
            "image/png": "$\\left[ \\begin{array}{cccc}- \\frac{11}{3}&6&4&\\frac{5}{6}\\\\0&1&0&\\frac{1}{6}\\\\0&0&1&0\\\\-5&9&5&1\\\\ \\end{array} \\right]$",
            "text/latex": "$\\left[ \\begin{array}{cccc}- \\frac{11}{3}&6&4&\\frac{5}{6}\\\\0&1&0&\\frac{1}{6}\\\\0&0&1&0\\\\-5&9&5&1\\\\ \\end{array} \\right]$"
          },
          "metadata": {},
          "execution_count": 11
        }
      ]
    },
    {
      "cell_type": "markdown",
      "source": [
        "$\\left[ \\begin{array}{cccc}- \\frac{11}{3}&6&4&\\frac{5}{6}\\\\0&1&0&\\frac{1}{6}\\\\0&0&1&0\\\\-5&9&5&1\\\\ \\end{array} \\right]$"
      ],
      "metadata": {
        "id": "TO4G9GKZf-OK"
      }
    },
    {
      "cell_type": "code",
      "source": [
        "A&T((-5,4,3))\n",
        "A&T((-9,4,2))\n",
        "A&T((5,4,1))"
      ],
      "metadata": {
        "id": "QH3bvXRRTABr",
        "outputId": "cef77078-7e46-458b-9505-72aec956fcba",
        "colab": {
          "base_uri": "https://localhost:8080/",
          "height": 46
        }
      },
      "execution_count": 12,
      "outputs": [
        {
          "output_type": "execute_result",
          "data": {
            "text/plain": [
              "Matrix([Vector([1/2, 5/6, 0, 0]), Vector([-3/2, -1/2, 0, 0]), Vector([-1/6, -5/6, 1, 0]), Vector([5/6, 1/6, 0, 1])])"
            ],
            "text/html": [
              "<p style=\"text-align:center;\">$\\left[ \\begin{array}{cccc}\\frac{1}{2}&- \\frac{3}{2}&- \\frac{1}{6}&\\frac{5}{6}\\\\\\frac{5}{6}&- \\frac{1}{2}&- \\frac{5}{6}&\\frac{1}{6}\\\\0&0&1&0\\\\0&0&0&1\\\\ \\end{array} \\right]$</p>"
            ],
            "image/png": "$\\left[ \\begin{array}{cccc}\\frac{1}{2}&- \\frac{3}{2}&- \\frac{1}{6}&\\frac{5}{6}\\\\\\frac{5}{6}&- \\frac{1}{2}&- \\frac{5}{6}&\\frac{1}{6}\\\\0&0&1&0\\\\0&0&0&1\\\\ \\end{array} \\right]$",
            "text/latex": "$\\left[ \\begin{array}{cccc}\\frac{1}{2}&- \\frac{3}{2}&- \\frac{1}{6}&\\frac{5}{6}\\\\\\frac{5}{6}&- \\frac{1}{2}&- \\frac{5}{6}&\\frac{1}{6}\\\\0&0&1&0\\\\0&0&0&1\\\\ \\end{array} \\right]$"
          },
          "metadata": {},
          "execution_count": 12
        }
      ]
    },
    {
      "cell_type": "markdown",
      "source": [
        "$\\left[ \\begin{array}{cccc}\\frac{1}{2}&- \\frac{3}{2}&- \\frac{1}{6}&\\frac{5}{6}\\\\\\frac{5}{6}&- \\frac{1}{2}&- \\frac{5}{6}&\\frac{1}{6}\\\\0&0&1&0\\\\0&0&0&1\\\\ \\end{array} \\right]$"
      ],
      "metadata": {
        "id": "2XO31ulwf79G"
      }
    },
    {
      "cell_type": "code",
      "source": [
        "A&T((fracc(-2,1),2))\n",
        "A&T((fracc(2,1),1))\n",
        "A&T((fracc(-5,3),2,1))"
      ],
      "metadata": {
        "id": "m0Zj3QlvTFh-",
        "outputId": "81c005ad-e224-413e-cf19-fecdb0228285",
        "colab": {
          "base_uri": "https://localhost:8080/",
          "height": 46
        }
      },
      "execution_count": 13,
      "outputs": [
        {
          "output_type": "execute_result",
          "data": {
            "text/plain": [
              "Matrix([Vector([-4, 0, 0, 0]), Vector([3, 1, 0, 0]), Vector([-1/6, -5/6, 1, 0]), Vector([5/6, 1/6, 0, 1])])"
            ],
            "text/html": [
              "<p style=\"text-align:center;\">$\\left[ \\begin{array}{cccc}-4&3&- \\frac{1}{6}&\\frac{5}{6}\\\\0&1&- \\frac{5}{6}&\\frac{1}{6}\\\\0&0&1&0\\\\0&0&0&1\\\\ \\end{array} \\right]$</p>"
            ],
            "image/png": "$\\left[ \\begin{array}{cccc}-4&3&- \\frac{1}{6}&\\frac{5}{6}\\\\0&1&- \\frac{5}{6}&\\frac{1}{6}\\\\0&0&1&0\\\\0&0&0&1\\\\ \\end{array} \\right]$",
            "text/latex": "$\\left[ \\begin{array}{cccc}-4&3&- \\frac{1}{6}&\\frac{5}{6}\\\\0&1&- \\frac{5}{6}&\\frac{1}{6}\\\\0&0&1&0\\\\0&0&0&1\\\\ \\end{array} \\right]$"
          },
          "metadata": {},
          "execution_count": 13
        }
      ]
    },
    {
      "cell_type": "markdown",
      "source": [
        "$\\left[ \\begin{array}{cccc}-4&3&- \\frac{1}{6}&\\frac{5}{6}\\\\0&1&- \\frac{5}{6}&\\frac{1}{6}\\\\0&0&1&0\\\\0&0&0&1\\\\ \\end{array} \\right]$"
      ],
      "metadata": {
        "id": "OxuMRLs2f4b4"
      }
    },
    {
      "cell_type": "code",
      "source": [
        "A&T((fracc(-1,4),1))"
      ],
      "metadata": {
        "id": "yKGDpQ49TKlt",
        "outputId": "46acc547-a025-4b75-a9dc-f149903de77a",
        "colab": {
          "base_uri": "https://localhost:8080/",
          "height": 46
        }
      },
      "execution_count": 14,
      "outputs": [
        {
          "output_type": "execute_result",
          "data": {
            "text/plain": [
              "Matrix([Vector([1, 0, 0, 0]), Vector([3, 1, 0, 0]), Vector([-1/6, -5/6, 1, 0]), Vector([5/6, 1/6, 0, 1])])"
            ],
            "text/html": [
              "<p style=\"text-align:center;\">$\\left[ \\begin{array}{cccc}1&3&- \\frac{1}{6}&\\frac{5}{6}\\\\0&1&- \\frac{5}{6}&\\frac{1}{6}\\\\0&0&1&0\\\\0&0&0&1\\\\ \\end{array} \\right]$</p>"
            ],
            "image/png": "$\\left[ \\begin{array}{cccc}1&3&- \\frac{1}{6}&\\frac{5}{6}\\\\0&1&- \\frac{5}{6}&\\frac{1}{6}\\\\0&0&1&0\\\\0&0&0&1\\\\ \\end{array} \\right]$",
            "text/latex": "$\\left[ \\begin{array}{cccc}1&3&- \\frac{1}{6}&\\frac{5}{6}\\\\0&1&- \\frac{5}{6}&\\frac{1}{6}\\\\0&0&1&0\\\\0&0&0&1\\\\ \\end{array} \\right]$"
          },
          "metadata": {},
          "execution_count": 14
        }
      ]
    },
    {
      "cell_type": "markdown",
      "source": [
        "$\\left[ \\begin{array}{cccc}1&3&- \\frac{1}{6}&\\frac{5}{6}\\\\0&1&- \\frac{5}{6}&\\frac{1}{6}\\\\0&0&1&0\\\\0&0&0&1\\\\ \\end{array} \\right]$"
      ],
      "metadata": {
        "id": "10aAVCO-f2Oa"
      }
    },
    {
      "cell_type": "markdown",
      "source": [
        "2. Escriba las siguientes matrices elementales de orden 4.\n",
        "\n",
        "\n",
        "(a) I τ\n",
        "[(−7)1+3]\n",
        "\n",
        "(b) I τ\n",
        "[(1)1+4]\n",
        "\n",
        "(c) I τ\n",
        "[(3)2+1]\n",
        "\n",
        "(d) I τ\n",
        "[(−10)3]"
      ],
      "metadata": {
        "id": "2wXEkEH9hXGe"
      }
    },
    {
      "cell_type": "markdown",
      "source": [
        "a"
      ],
      "metadata": {
        "id": "RXA5vnhaTaov"
      }
    },
    {
      "cell_type": "code",
      "source": [
        "B = I(4)\n",
        "B"
      ],
      "metadata": {
        "id": "CN83fJ6bTX_k",
        "outputId": "67f23b23-2131-42c2-d400-81b9d1767e0b",
        "colab": {
          "base_uri": "https://localhost:8080/",
          "height": 46
        }
      },
      "execution_count": 15,
      "outputs": [
        {
          "output_type": "execute_result",
          "data": {
            "text/plain": [
              "Matrix([Vector([1, 0, 0, 0]), Vector([0, 1, 0, 0]), Vector([0, 0, 1, 0]), Vector([0, 0, 0, 1])])"
            ],
            "text/html": [
              "<p style=\"text-align:center;\">$\\left[ \\begin{array}{cccc}1&0&0&0\\\\0&1&0&0\\\\0&0&1&0\\\\0&0&0&1\\\\ \\end{array} \\right]$</p>"
            ],
            "image/png": "$\\left[ \\begin{array}{cccc}1&0&0&0\\\\0&1&0&0\\\\0&0&1&0\\\\0&0&0&1\\\\ \\end{array} \\right]$",
            "text/latex": "$\\left[ \\begin{array}{cccc}1&0&0&0\\\\0&1&0&0\\\\0&0&1&0\\\\0&0&0&1\\\\ \\end{array} \\right]$"
          },
          "metadata": {},
          "execution_count": 15
        }
      ]
    },
    {
      "cell_type": "markdown",
      "source": [
        "$\\left[ \\begin{array}{cccc}1&0&0&0\\\\0&1&0&0\\\\0&0&1&0\\\\0&0&0&1\\\\ \\end{array} \\right]$"
      ],
      "metadata": {
        "id": "4kJ-i_88T7Cu"
      }
    },
    {
      "cell_type": "code",
      "source": [
        "B&T((-7,1,3))"
      ],
      "metadata": {
        "id": "_OrjlVJ4UD7f",
        "outputId": "6231bfeb-091d-4daf-d946-062088e3439e",
        "colab": {
          "base_uri": "https://localhost:8080/",
          "height": 46
        }
      },
      "execution_count": 16,
      "outputs": [
        {
          "output_type": "execute_result",
          "data": {
            "text/plain": [
              "Matrix([Vector([1, 0, 0, 0]), Vector([0, 1, 0, 0]), Vector([-7, 0, 1, 0]), Vector([0, 0, 0, 1])])"
            ],
            "text/html": [
              "<p style=\"text-align:center;\">$\\left[ \\begin{array}{cccc}1&0&-7&0\\\\0&1&0&0\\\\0&0&1&0\\\\0&0&0&1\\\\ \\end{array} \\right]$</p>"
            ],
            "image/png": "$\\left[ \\begin{array}{cccc}1&0&-7&0\\\\0&1&0&0\\\\0&0&1&0\\\\0&0&0&1\\\\ \\end{array} \\right]$",
            "text/latex": "$\\left[ \\begin{array}{cccc}1&0&-7&0\\\\0&1&0&0\\\\0&0&1&0\\\\0&0&0&1\\\\ \\end{array} \\right]$"
          },
          "metadata": {},
          "execution_count": 16
        }
      ]
    },
    {
      "cell_type": "markdown",
      "source": [
        "$\\left[ \\begin{array}{cccc}1&0&-7&0\\\\0&1&0&0\\\\0&0&1&0\\\\0&0&0&1\\\\ \\end{array} \\right]$"
      ],
      "metadata": {
        "id": "EbZIbWGHT-qp"
      }
    },
    {
      "cell_type": "markdown",
      "source": [
        "b"
      ],
      "metadata": {
        "id": "q4Da4P3kUPw-"
      }
    },
    {
      "cell_type": "code",
      "source": [
        "B&T((1,1,4))"
      ],
      "metadata": {
        "id": "ZL0Tv5KAUSxw",
        "outputId": "1ded25cc-55e5-4db2-d696-f72a0d168aba",
        "colab": {
          "base_uri": "https://localhost:8080/",
          "height": 46
        }
      },
      "execution_count": 17,
      "outputs": [
        {
          "output_type": "execute_result",
          "data": {
            "text/plain": [
              "Matrix([Vector([1, 0, 0, 0]), Vector([0, 1, 0, 0]), Vector([-7, 0, 1, 0]), Vector([1, 0, 0, 1])])"
            ],
            "text/html": [
              "<p style=\"text-align:center;\">$\\left[ \\begin{array}{cccc}1&0&-7&1\\\\0&1&0&0\\\\0&0&1&0\\\\0&0&0&1\\\\ \\end{array} \\right]$</p>"
            ],
            "image/png": "$\\left[ \\begin{array}{cccc}1&0&-7&1\\\\0&1&0&0\\\\0&0&1&0\\\\0&0&0&1\\\\ \\end{array} \\right]$",
            "text/latex": "$\\left[ \\begin{array}{cccc}1&0&-7&1\\\\0&1&0&0\\\\0&0&1&0\\\\0&0&0&1\\\\ \\end{array} \\right]$"
          },
          "metadata": {},
          "execution_count": 17
        }
      ]
    },
    {
      "cell_type": "markdown",
      "source": [
        "$\\left[ \\begin{array}{cccc}1&0&0&1\\\\0&1&0&0\\\\0&0&1&0\\\\0&0&0&1\\\\ \\end{array} \\right]$"
      ],
      "metadata": {
        "id": "NGK-1bYhUWMK"
      }
    },
    {
      "cell_type": "markdown",
      "source": [
        "c"
      ],
      "metadata": {
        "id": "DS-jg68zUsb_"
      }
    },
    {
      "cell_type": "code",
      "source": [
        "B&T((3,2,1))\n"
      ],
      "metadata": {
        "id": "N9C_bevrUuDH",
        "outputId": "415e451b-33c3-4965-ce80-75d5786e8fde",
        "colab": {
          "base_uri": "https://localhost:8080/",
          "height": 46
        }
      },
      "execution_count": 18,
      "outputs": [
        {
          "output_type": "execute_result",
          "data": {
            "text/plain": [
              "Matrix([Vector([1, 3, 0, 0]), Vector([0, 1, 0, 0]), Vector([-7, 0, 1, 0]), Vector([1, 0, 0, 1])])"
            ],
            "text/html": [
              "<p style=\"text-align:center;\">$\\left[ \\begin{array}{cccc}1&0&-7&1\\\\3&1&0&0\\\\0&0&1&0\\\\0&0&0&1\\\\ \\end{array} \\right]$</p>"
            ],
            "image/png": "$\\left[ \\begin{array}{cccc}1&0&-7&1\\\\3&1&0&0\\\\0&0&1&0\\\\0&0&0&1\\\\ \\end{array} \\right]$",
            "text/latex": "$\\left[ \\begin{array}{cccc}1&0&-7&1\\\\3&1&0&0\\\\0&0&1&0\\\\0&0&0&1\\\\ \\end{array} \\right]$"
          },
          "metadata": {},
          "execution_count": 18
        }
      ]
    },
    {
      "cell_type": "markdown",
      "source": [
        "$\\left[ \\begin{array}{cccc}1&0&0&0\\\\3&1&0&0\\\\0&0&1&0\\\\0&0&0&1\\\\ \\end{array} \\right]$"
      ],
      "metadata": {
        "id": "YRXBg0UHUz1W"
      }
    },
    {
      "cell_type": "markdown",
      "source": [
        "d"
      ],
      "metadata": {
        "id": "xypcpoV3VMYj"
      }
    },
    {
      "cell_type": "code",
      "source": [
        "B&T((-10,3))"
      ],
      "metadata": {
        "id": "DnbBCbJfVOLK",
        "outputId": "58c1538c-d387-4753-e76e-1e987ce8c8db",
        "colab": {
          "base_uri": "https://localhost:8080/",
          "height": 46
        }
      },
      "execution_count": 19,
      "outputs": [
        {
          "output_type": "execute_result",
          "data": {
            "text/plain": [
              "Matrix([Vector([1, 3, 0, 0]), Vector([0, 1, 0, 0]), Vector([70, 0, -10, 0]), Vector([1, 0, 0, 1])])"
            ],
            "text/html": [
              "<p style=\"text-align:center;\">$\\left[ \\begin{array}{cccc}1&0&70&1\\\\3&1&0&0\\\\0&0&-10&0\\\\0&0&0&1\\\\ \\end{array} \\right]$</p>"
            ],
            "image/png": "$\\left[ \\begin{array}{cccc}1&0&70&1\\\\3&1&0&0\\\\0&0&-10&0\\\\0&0&0&1\\\\ \\end{array} \\right]$",
            "text/latex": "$\\left[ \\begin{array}{cccc}1&0&70&1\\\\3&1&0&0\\\\0&0&-10&0\\\\0&0&0&1\\\\ \\end{array} \\right]$"
          },
          "metadata": {},
          "execution_count": 19
        }
      ]
    },
    {
      "cell_type": "markdown",
      "source": [
        "$\\left[ \\begin{array}{cccc}1&0&0&0\\\\0&1&0&0\\\\0&0&-10&0\\\\0&0&0&1\\\\ \\end{array} \\right]$"
      ],
      "metadata": {
        "id": "R3X2qZezVTST"
      }
    },
    {
      "cell_type": "markdown",
      "source": [
        "3. Sea la matriz A = $\\left[ \\begin{array}{cccc}1&1&1&1\\\\0&1&1&1\\\\1&2&3&4\\\\4&-4&1&2\\\\ \\end{array} \\right]$\n",
        ", exprese las siguientes transformaciones elementales de\n",
        "\n",
        "A como productos de A por matrices elementales y escriba el resultado:\n",
        "\n",
        "(a) Multiplicar la primera columna por 3. (b) Restar la primera columna de la segunda."
      ],
      "metadata": {
        "id": "pwJzrogtFnkN"
      }
    },
    {
      "cell_type": "code",
      "source": [
        "#La llamaré matriz D\n",
        "D = Matrix ([[1,1,1,1],[0,1,1,1],[1,2,3,4],[4,-4,1,2]])\n",
        "D"
      ],
      "metadata": {
        "id": "_-YBEAKJWA4n",
        "outputId": "82027ec5-0d6c-47bf-a6d3-fda4e0853d9a",
        "colab": {
          "base_uri": "https://localhost:8080/",
          "height": 46
        }
      },
      "execution_count": 20,
      "outputs": [
        {
          "output_type": "execute_result",
          "data": {
            "text/plain": [
              "Matrix([Vector([1, 0, 1, 4]), Vector([1, 1, 2, -4]), Vector([1, 1, 3, 1]), Vector([1, 1, 4, 2])])"
            ],
            "text/html": [
              "<p style=\"text-align:center;\">$\\left[ \\begin{array}{cccc}1&1&1&1\\\\0&1&1&1\\\\1&2&3&4\\\\4&-4&1&2\\\\ \\end{array} \\right]$</p>"
            ],
            "image/png": "$\\left[ \\begin{array}{cccc}1&1&1&1\\\\0&1&1&1\\\\1&2&3&4\\\\4&-4&1&2\\\\ \\end{array} \\right]$",
            "text/latex": "$\\left[ \\begin{array}{cccc}1&1&1&1\\\\0&1&1&1\\\\1&2&3&4\\\\4&-4&1&2\\\\ \\end{array} \\right]$"
          },
          "metadata": {},
          "execution_count": 20
        }
      ]
    },
    {
      "cell_type": "markdown",
      "source": [
        "$\\left[ \\begin{array}{cccc}1&1&1&1\\\\0&1&1&1\\\\1&2&3&4\\\\4&-4&1&2\\\\ \\end{array} \\right]$"
      ],
      "metadata": {
        "id": "yrD8Os7iWDz6"
      }
    },
    {
      "cell_type": "markdown",
      "source": [
        "(a)"
      ],
      "metadata": {
        "id": "2VVb3EvvWTGs"
      }
    },
    {
      "cell_type": "code",
      "source": [
        "D&T((3,1))"
      ],
      "metadata": {
        "id": "TnFzxoxAWJ64",
        "outputId": "d2e33541-b806-493f-eb73-4f085c40c11e",
        "colab": {
          "base_uri": "https://localhost:8080/",
          "height": 46
        }
      },
      "execution_count": 21,
      "outputs": [
        {
          "output_type": "execute_result",
          "data": {
            "text/plain": [
              "Matrix([Vector([3, 0, 3, 12]), Vector([1, 1, 2, -4]), Vector([1, 1, 3, 1]), Vector([1, 1, 4, 2])])"
            ],
            "text/html": [
              "<p style=\"text-align:center;\">$\\left[ \\begin{array}{cccc}3&1&1&1\\\\0&1&1&1\\\\3&2&3&4\\\\12&-4&1&2\\\\ \\end{array} \\right]$</p>"
            ],
            "image/png": "$\\left[ \\begin{array}{cccc}3&1&1&1\\\\0&1&1&1\\\\3&2&3&4\\\\12&-4&1&2\\\\ \\end{array} \\right]$",
            "text/latex": "$\\left[ \\begin{array}{cccc}3&1&1&1\\\\0&1&1&1\\\\3&2&3&4\\\\12&-4&1&2\\\\ \\end{array} \\right]$"
          },
          "metadata": {},
          "execution_count": 21
        }
      ]
    },
    {
      "cell_type": "markdown",
      "source": [
        "$\\left[ \\begin{array}{cccc}3&1&1&1\\\\0&1&1&1\\\\3&2&3&4\\\\12&-4&1&2\\\\ \\end{array} \\right]$"
      ],
      "metadata": {
        "id": "IIS0Th1cWbwX"
      }
    },
    {
      "cell_type": "markdown",
      "source": [
        "(b)"
      ],
      "metadata": {
        "id": "kB16L4E_Wl4M"
      }
    },
    {
      "cell_type": "code",
      "source": [
        "D&T((-1,1,2))"
      ],
      "metadata": {
        "id": "NnfLPL2zWom6",
        "outputId": "ae725ff7-433a-40c9-fc57-f41e50345dfb",
        "colab": {
          "base_uri": "https://localhost:8080/",
          "height": 46
        }
      },
      "execution_count": 22,
      "outputs": [
        {
          "output_type": "execute_result",
          "data": {
            "text/plain": [
              "Matrix([Vector([3, 0, 3, 12]), Vector([-2, 1, -1, -16]), Vector([1, 1, 3, 1]), Vector([1, 1, 4, 2])])"
            ],
            "text/html": [
              "<p style=\"text-align:center;\">$\\left[ \\begin{array}{cccc}3&-2&1&1\\\\0&1&1&1\\\\3&-1&3&4\\\\12&-16&1&2\\\\ \\end{array} \\right]$</p>"
            ],
            "image/png": "$\\left[ \\begin{array}{cccc}3&-2&1&1\\\\0&1&1&1\\\\3&-1&3&4\\\\12&-16&1&2\\\\ \\end{array} \\right]$",
            "text/latex": "$\\left[ \\begin{array}{cccc}3&-2&1&1\\\\0&1&1&1\\\\3&-1&3&4\\\\12&-16&1&2\\\\ \\end{array} \\right]$"
          },
          "metadata": {},
          "execution_count": 22
        }
      ]
    },
    {
      "cell_type": "markdown",
      "source": [
        "$\\left[ \\begin{array}{cccc}3&-2&1&1\\\\0&1&1&1\\\\3&-1&3&4\\\\12&-16&1&2\\\\ \\end{array} \\right]$"
      ],
      "metadata": {
        "id": "X30_eRFnWu--"
      }
    },
    {
      "cell_type": "markdown",
      "source": [
        "4. Realiza el algoritmo de eliminación de Gauss-Jordan para la matriz del ejercicio 1, es decir continua las modificaciones de la matriz mediante operaciones elementales.\n",
        "Por cada paso del algoritmo escribe la celda de código correspondiente."
      ],
      "metadata": {
        "id": "NRMqK0VmB6px"
      }
    },
    {
      "cell_type": "markdown",
      "source": [
        "$\\left[ \\begin{array}{cccc}1&3&- \\frac{1}{6}&\\frac{5}{6}\\\\0&1&- \\frac{5}{6}&\\frac{1}{6}\\\\0&0&1&0\\\\0&0&0&1\\\\ \\end{array} \\right]$"
      ],
      "metadata": {
        "id": "SeghQG_ZYQET"
      }
    },
    {
      "cell_type": "code",
      "source": [
        "T((-3,2,1))&A"
      ],
      "metadata": {
        "id": "Nz47FKp-XWGm",
        "outputId": "450d8f3c-287f-4a2e-f5f9-ddbf0abaaa16",
        "colab": {
          "base_uri": "https://localhost:8080/",
          "height": 46
        }
      },
      "execution_count": 23,
      "outputs": [
        {
          "output_type": "execute_result",
          "data": {
            "text/plain": [
              "Matrix([Vector([1, 0, 0, 0]), Vector([0, 1, 0, 0]), Vector([7/3, -5/6, 1, 0]), Vector([1/3, 1/6, 0, 1])])"
            ],
            "text/html": [
              "<p style=\"text-align:center;\">$\\left[ \\begin{array}{cccc}1&0&\\frac{7}{3}&\\frac{1}{3}\\\\0&1&- \\frac{5}{6}&\\frac{1}{6}\\\\0&0&1&0\\\\0&0&0&1\\\\ \\end{array} \\right]$</p>"
            ],
            "image/png": "$\\left[ \\begin{array}{cccc}1&0&\\frac{7}{3}&\\frac{1}{3}\\\\0&1&- \\frac{5}{6}&\\frac{1}{6}\\\\0&0&1&0\\\\0&0&0&1\\\\ \\end{array} \\right]$",
            "text/latex": "$\\left[ \\begin{array}{cccc}1&0&\\frac{7}{3}&\\frac{1}{3}\\\\0&1&- \\frac{5}{6}&\\frac{1}{6}\\\\0&0&1&0\\\\0&0&0&1\\\\ \\end{array} \\right]$"
          },
          "metadata": {},
          "execution_count": 23
        }
      ]
    },
    {
      "cell_type": "markdown",
      "source": [
        "$\\left[ \\begin{array}{cccc}1&0&\\frac{7}{3}&\\frac{1}{3}\\\\0&1&- \\frac{5}{6}&\\frac{1}{6}\\\\0&0&1&0\\\\0&0&0&1\\\\ \\end{array} \\right]$"
      ],
      "metadata": {
        "id": "u9iqOl71YiCw"
      }
    },
    {
      "cell_type": "code",
      "source": [
        "T((fracc(-7,3),3,1))&A"
      ],
      "metadata": {
        "id": "b3KoERJ6YoWe",
        "outputId": "eff212e8-3066-46be-fcb6-751f94f07dbf",
        "colab": {
          "base_uri": "https://localhost:8080/",
          "height": 46
        }
      },
      "execution_count": 24,
      "outputs": [
        {
          "output_type": "execute_result",
          "data": {
            "text/plain": [
              "Matrix([Vector([1, 0, 0, 0]), Vector([0, 1, 0, 0]), Vector([0, -5/6, 1, 0]), Vector([1/3, 1/6, 0, 1])])"
            ],
            "text/html": [
              "<p style=\"text-align:center;\">$\\left[ \\begin{array}{cccc}1&0&0&\\frac{1}{3}\\\\0&1&- \\frac{5}{6}&\\frac{1}{6}\\\\0&0&1&0\\\\0&0&0&1\\\\ \\end{array} \\right]$</p>"
            ],
            "image/png": "$\\left[ \\begin{array}{cccc}1&0&0&\\frac{1}{3}\\\\0&1&- \\frac{5}{6}&\\frac{1}{6}\\\\0&0&1&0\\\\0&0&0&1\\\\ \\end{array} \\right]$",
            "text/latex": "$\\left[ \\begin{array}{cccc}1&0&0&\\frac{1}{3}\\\\0&1&- \\frac{5}{6}&\\frac{1}{6}\\\\0&0&1&0\\\\0&0&0&1\\\\ \\end{array} \\right]$"
          },
          "metadata": {},
          "execution_count": 24
        }
      ]
    },
    {
      "cell_type": "markdown",
      "source": [
        "$\\left[ \\begin{array}{cccc}1&0&0&\\frac{1}{3}\\\\0&1&- \\frac{5}{6}&\\frac{1}{6}\\\\0&0&1&0\\\\0&0&0&1\\\\ \\end{array} \\right]$"
      ],
      "metadata": {
        "id": "cl2NoG-TYxVb"
      }
    },
    {
      "cell_type": "code",
      "source": [
        "T((fracc(5,6),3,2))&A"
      ],
      "metadata": {
        "id": "cMXgi-JRYwuK",
        "outputId": "0461353f-b671-42d0-b002-8e0465b10b27",
        "colab": {
          "base_uri": "https://localhost:8080/",
          "height": 46
        }
      },
      "execution_count": 25,
      "outputs": [
        {
          "output_type": "execute_result",
          "data": {
            "text/plain": [
              "Matrix([Vector([1, 0, 0, 0]), Vector([0, 1, 0, 0]), Vector([0, 0, 1, 0]), Vector([1/3, 1/6, 0, 1])])"
            ],
            "text/html": [
              "<p style=\"text-align:center;\">$\\left[ \\begin{array}{cccc}1&0&0&\\frac{1}{3}\\\\0&1&0&\\frac{1}{6}\\\\0&0&1&0\\\\0&0&0&1\\\\ \\end{array} \\right]$</p>"
            ],
            "image/png": "$\\left[ \\begin{array}{cccc}1&0&0&\\frac{1}{3}\\\\0&1&0&\\frac{1}{6}\\\\0&0&1&0\\\\0&0&0&1\\\\ \\end{array} \\right]$",
            "text/latex": "$\\left[ \\begin{array}{cccc}1&0&0&\\frac{1}{3}\\\\0&1&0&\\frac{1}{6}\\\\0&0&1&0\\\\0&0&0&1\\\\ \\end{array} \\right]$"
          },
          "metadata": {},
          "execution_count": 25
        }
      ]
    },
    {
      "cell_type": "markdown",
      "source": [
        "$\\left[ \\begin{array}{cccc}1&0&0&\\frac{1}{3}\\\\0&1&0&\\frac{1}{6}\\\\0&0&1&0\\\\0&0&0&1\\\\ \\end{array} \\right]$"
      ],
      "metadata": {
        "id": "x00ixRzVY7eH"
      }
    },
    {
      "cell_type": "markdown",
      "source": [
        "5. Compara tus resultados del ejercicio 1 con el metodo Elim()"
      ],
      "metadata": {
        "id": "C-GfuE9_Cw_H"
      }
    },
    {
      "cell_type": "code",
      "source": [
        "a=Vector((3,1,2,4)); b=Vector((-2,-1,1,-4)); c= Vector((2,-1,2,1)); d= Vector((1,-3,4,2))\n",
        "O= Matrix([a,b,c,d])\n",
        "O"
      ],
      "metadata": {
        "id": "k2PB5OhAjqec",
        "outputId": "5f716344-933d-41f7-f59b-da215bd0e1cc",
        "colab": {
          "base_uri": "https://localhost:8080/",
          "height": 46
        }
      },
      "execution_count": 50,
      "outputs": [
        {
          "output_type": "execute_result",
          "data": {
            "text/plain": [
              "Matrix([Vector([3, 1, 2, 4]), Vector([-2, -1, 1, -4]), Vector([2, -1, 2, 1]), Vector([1, -3, 4, 2])])"
            ],
            "text/html": [
              "<p style=\"text-align:center;\">$\\left[ \\begin{array}{cccc}3&-2&2&1\\\\1&-1&-1&-3\\\\2&1&2&4\\\\4&-4&1&2\\\\ \\end{array} \\right]$</p>"
            ],
            "image/png": "$\\left[ \\begin{array}{cccc}3&-2&2&1\\\\1&-1&-1&-3\\\\2&1&2&4\\\\4&-4&1&2\\\\ \\end{array} \\right]$",
            "text/latex": "$\\left[ \\begin{array}{cccc}3&-2&2&1\\\\1&-1&-1&-3\\\\2&1&2&4\\\\4&-4&1&2\\\\ \\end{array} \\right]$"
          },
          "metadata": {},
          "execution_count": 50
        }
      ]
    },
    {
      "cell_type": "markdown",
      "source": [
        "$\\left[ \\begin{array}{cccc}3&-2&2&1\\\\1&-1&-1&-3\\\\2&1&2&4\\\\4&-4&1&2\\\\ \\end{array} \\right]$"
      ],
      "metadata": {
        "id": "eixcGP4mj2H5"
      }
    },
    {
      "cell_type": "code",
      "source": [
        "Elim(O,1)"
      ],
      "metadata": {
        "id": "wBptYPtmj4z9",
        "outputId": "12a51224-3ae2-42a2-dd87-7e75604508e6",
        "colab": {
          "base_uri": "https://localhost:8080/",
          "height": 173
        }
      },
      "execution_count": 51,
      "outputs": [
        {
          "output_type": "display_data",
          "data": {
            "text/plain": [
              "<IPython.core.display.Math object>"
            ],
            "text/latex": "$\\displaystyle \\left[ \\begin{array}{cccc}3&-2&2&1\\\\1&-1&-1&-3\\\\2&1&2&4\\\\4&-4&1&2\\\\ \\end{array} \\right]\\xrightarrow{\\underset{\\begin{subarray}{c} \\left[\\left(3\\right)\\mathbf{2}\\right]\\\\\\left[\\left(2\\right)\\mathbf{1}+\\mathbf{2} \\right]\\\\\\left[\\left(3\\right)\\mathbf{3}\\right]\\\\\\left[\\left(-2\\right)\\mathbf{1}+\\mathbf{3} \\right]\\\\\\left[\\left(3\\right)\\mathbf{4}\\right]\\\\\\left[\\left(-1\\right)\\mathbf{1}+\\mathbf{4} \\right]\\end{subarray}}{\\pmb{\\tau}}}\\left[ \\begin{array}{cccc}3&0&0&0\\\\1&-1&-5&-10\\\\2&7&2&10\\\\4&-4&-5&2\\\\ \\end{array} \\right]\\xrightarrow{\\underset{\\begin{subarray}{c} \\left[\\left(-5\\right)\\mathbf{2}+\\mathbf{3} \\right]\\\\\\left[\\left(-10\\right)\\mathbf{2}+\\mathbf{4} \\right]\\end{subarray}}{\\pmb{\\tau}}}\\left[ \\begin{array}{cccc}3&0&0&0\\\\1&-1&0&0\\\\2&7&-33&-60\\\\4&-4&15&42\\\\ \\end{array} \\right]\\xrightarrow{\\underset{\\begin{subarray}{c} \\left[\\left(11\\right)\\mathbf{4}\\right]\\\\\\left[\\left(-20\\right)\\mathbf{3}+\\mathbf{4} \\right]\\end{subarray}}{\\pmb{\\tau}}}\\left[ \\begin{array}{cccc}3&0&0&0\\\\1&-1&0&0\\\\2&7&-33&0\\\\4&-4&15&162\\\\ \\end{array} \\right]$"
          },
          "metadata": {}
        },
        {
          "output_type": "execute_result",
          "data": {
            "text/plain": [
              "Matrix([Vector([3, 1, 2, 4]), Vector([0, -1, 7, -4]), Vector([0, 0, -33, 15]), Vector([0, 0, 0, 162])])"
            ],
            "text/html": [
              "<p style=\"text-align:center;\">$\\left[ \\begin{array}{cccc}3&0&0&0\\\\1&-1&0&0\\\\2&7&-33&0\\\\4&-4&15&162\\\\ \\end{array} \\right]$</p>"
            ],
            "image/png": "$\\left[ \\begin{array}{cccc}3&0&0&0\\\\1&-1&0&0\\\\2&7&-33&0\\\\4&-4&15&162\\\\ \\end{array} \\right]$",
            "text/latex": "$\\left[ \\begin{array}{cccc}3&0&0&0\\\\1&-1&0&0\\\\2&7&-33&0\\\\4&-4&15&162\\\\ \\end{array} \\right]$"
          },
          "metadata": {},
          "execution_count": 51
        }
      ]
    },
    {
      "cell_type": "markdown",
      "source": [
        "$\\left[ \\begin{array}{cccc}3&0&0&0\\\\1&-1&0&0\\\\2&7&-33&0\\\\4&-4&15&162\\\\ \\end{array} \\right]$"
      ],
      "metadata": {
        "id": "IN1g-HwFkLMs"
      }
    },
    {
      "cell_type": "markdown",
      "source": [
        " 6. Compara tus resultados del ejercicio 4 con el metodo ElimGJ()"
      ],
      "metadata": {
        "id": "LQ2qXfhaIRis"
      }
    },
    {
      "cell_type": "code",
      "source": [
        "a=Vector((3,1,2,4)); b=Vector((-2,-1,1,-4)); c= Vector((2,-1,2,1)); d= Vector((1,-3,4,2))\n",
        "N= Matrix([a,b,c,d])\n",
        "N"
      ],
      "metadata": {
        "id": "CuMyxWWFjO4u",
        "outputId": "bff040c6-29eb-4f77-a793-e99abe87ae0e",
        "colab": {
          "base_uri": "https://localhost:8080/",
          "height": 46
        }
      },
      "execution_count": 48,
      "outputs": [
        {
          "output_type": "execute_result",
          "data": {
            "text/plain": [
              "Matrix([Vector([3, 1, 2, 4]), Vector([-2, -1, 1, -4]), Vector([2, -1, 2, 1]), Vector([1, -3, 4, 2])])"
            ],
            "text/html": [
              "<p style=\"text-align:center;\">$\\left[ \\begin{array}{cccc}3&-2&2&1\\\\1&-1&-1&-3\\\\2&1&2&4\\\\4&-4&1&2\\\\ \\end{array} \\right]$</p>"
            ],
            "image/png": "$\\left[ \\begin{array}{cccc}3&-2&2&1\\\\1&-1&-1&-3\\\\2&1&2&4\\\\4&-4&1&2\\\\ \\end{array} \\right]$",
            "text/latex": "$\\left[ \\begin{array}{cccc}3&-2&2&1\\\\1&-1&-1&-3\\\\2&1&2&4\\\\4&-4&1&2\\\\ \\end{array} \\right]$"
          },
          "metadata": {},
          "execution_count": 48
        }
      ]
    },
    {
      "cell_type": "markdown",
      "source": [
        "$\\left[ \\begin{array}{cccc}3&-2&2&1\\\\1&-1&-1&-3\\\\2&1&2&4\\\\4&-4&1&2\\\\ \\end{array} \\right]$"
      ],
      "metadata": {
        "id": "m58MXn8VjUyg"
      }
    },
    {
      "cell_type": "code",
      "source": [
        "ElimGJ(N,1)"
      ],
      "metadata": {
        "id": "mEQTYnfUjXcX",
        "outputId": "8a1f2eb6-1c78-4fd3-8256-478a90c36e59",
        "colab": {
          "base_uri": "https://localhost:8080/",
          "height": 300
        }
      },
      "execution_count": 49,
      "outputs": [
        {
          "output_type": "display_data",
          "data": {
            "text/plain": [
              "<IPython.core.display.Math object>"
            ],
            "text/latex": "$\\displaystyle \\left[ \\begin{array}{cccc}3&-2&2&1\\\\1&-1&-1&-3\\\\2&1&2&4\\\\4&-4&1&2\\\\ \\end{array} \\right]\\xrightarrow{\\underset{\\begin{subarray}{c} \\left[\\left(3\\right)\\mathbf{2}\\right]\\\\\\left[\\left(2\\right)\\mathbf{1}+\\mathbf{2} \\right]\\\\\\left[\\left(3\\right)\\mathbf{3}\\right]\\\\\\left[\\left(-2\\right)\\mathbf{1}+\\mathbf{3} \\right]\\\\\\left[\\left(3\\right)\\mathbf{4}\\right]\\\\\\left[\\left(-1\\right)\\mathbf{1}+\\mathbf{4} \\right]\\end{subarray}}{\\pmb{\\tau}}}\\left[ \\begin{array}{cccc}3&0&0&0\\\\1&-1&-5&-10\\\\2&7&2&10\\\\4&-4&-5&2\\\\ \\end{array} \\right]\\xrightarrow{\\underset{\\begin{subarray}{c} \\left[\\left(1\\right)\\mathbf{2}+\\mathbf{1} \\right]\\\\\\left[\\left(-5\\right)\\mathbf{2}+\\mathbf{3} \\right]\\\\\\left[\\left(-10\\right)\\mathbf{2}+\\mathbf{4} \\right]\\end{subarray}}{\\pmb{\\tau}}}\\left[ \\begin{array}{cccc}3&0&0&0\\\\0&-1&0&0\\\\9&7&-33&-60\\\\0&-4&15&42\\\\ \\end{array} \\right]\\xrightarrow{\\underset{\\begin{subarray}{c} \\left[\\left(11\\right)\\mathbf{1}\\right]\\\\\\left[\\left(3\\right)\\mathbf{3}+\\mathbf{1} \\right]\\\\\\left[\\left(33\\right)\\mathbf{2}\\right]\\\\\\left[\\left(7\\right)\\mathbf{3}+\\mathbf{2} \\right]\\\\\\left[\\left(11\\right)\\mathbf{4}\\right]\\\\\\left[\\left(-20\\right)\\mathbf{3}+\\mathbf{4} \\right]\\end{subarray}}{\\pmb{\\tau}}}\\left[ \\begin{array}{cccc}33&0&0&0\\\\0&-33&0&0\\\\0&0&-33&0\\\\45&-27&15&162\\\\ \\end{array} \\right]\\xrightarrow{\\underset{\\begin{subarray}{c} \\left[\\left(18\\right)\\mathbf{1}\\right]\\\\\\left[\\left(-5\\right)\\mathbf{4}+\\mathbf{1} \\right]\\\\\\left[\\left(6\\right)\\mathbf{2}\\right]\\\\\\left[\\left(1\\right)\\mathbf{4}+\\mathbf{2} \\right]\\\\\\left[\\left(54\\right)\\mathbf{3}\\right]\\\\\\left[\\left(-5\\right)\\mathbf{4}+\\mathbf{3} \\right]\\end{subarray}}{\\pmb{\\tau}}}\\left[ \\begin{array}{cccc}594&0&0&0\\\\0&-198&0&0\\\\0&0&-1782&0\\\\0&0&0&162\\\\ \\end{array} \\right]\\xrightarrow{\\underset{\\begin{subarray}{c} \\left[\\left(\\frac{1}{594}\\right)\\mathbf{1}\\right]\\\\\\left[\\left(- \\frac{1}{198}\\right)\\mathbf{2}\\right]\\\\\\left[\\left(- \\frac{1}{1782}\\right)\\mathbf{3}\\right]\\\\\\left[\\left(\\frac{1}{162}\\right)\\mathbf{4}\\right]\\end{subarray}}{\\pmb{\\tau}}}\\left[ \\begin{array}{cccc}1&0&0&0\\\\0&1&0&0\\\\0&0&1&0\\\\0&0&0&1\\\\ \\end{array} \\right]$"
          },
          "metadata": {}
        },
        {
          "output_type": "execute_result",
          "data": {
            "text/plain": [
              "Matrix([Vector([1, 0, 0, 0]), Vector([0, 1, 0, 0]), Vector([0, 0, 1, 0]), Vector([0, 0, 0, 1])])"
            ],
            "text/html": [
              "<p style=\"text-align:center;\">$\\left[ \\begin{array}{cccc}1&0&0&0\\\\0&1&0&0\\\\0&0&1&0\\\\0&0&0&1\\\\ \\end{array} \\right]$</p>"
            ],
            "image/png": "$\\left[ \\begin{array}{cccc}1&0&0&0\\\\0&1&0&0\\\\0&0&1&0\\\\0&0&0&1\\\\ \\end{array} \\right]$",
            "text/latex": "$\\left[ \\begin{array}{cccc}1&0&0&0\\\\0&1&0&0\\\\0&0&1&0\\\\0&0&0&1\\\\ \\end{array} \\right]$"
          },
          "metadata": {},
          "execution_count": 49
        }
      ]
    },
    {
      "cell_type": "markdown",
      "source": [
        "$\\left[ \\begin{array}{cccc}1&0&0&0\\\\0&1&0&0\\\\0&0&1&0\\\\0&0&0&1\\\\ \\end{array} \\right]$"
      ],
      "metadata": {
        "id": "xK5Ieh11jhnv"
      }
    },
    {
      "cell_type": "markdown",
      "source": [
        "7. Encuentra la inversa de la matriz del ejercicio 1."
      ],
      "metadata": {
        "id": "2F3XtwbpIhOO"
      }
    },
    {
      "cell_type": "code",
      "source": [
        "#Se extiende la matriz\n",
        "a= Vector((3,1,2,4,1,0,0,0)); b=Vector((-2,-1,1,-4,0,1,0,0)); c= Vector((2,-1,2,1,0,0,1,0)); d=Vector((1,-3,4,2,0,0,0,1))\n",
        "Z= Matrix([a,b,c,d])\n",
        "Z"
      ],
      "metadata": {
        "id": "_GoEVYC_aXQg",
        "outputId": "72a6d44c-4cd9-42cb-afc7-27f661b3681a",
        "colab": {
          "base_uri": "https://localhost:8080/",
          "height": 46
        }
      },
      "execution_count": 26,
      "outputs": [
        {
          "output_type": "execute_result",
          "data": {
            "text/plain": [
              "Matrix([Vector([3, 1, 2, 4, 1, 0, 0, 0]), Vector([-2, -1, 1, -4, 0, 1, 0, 0]), Vector([2, -1, 2, 1, 0, 0, 1, 0]), Vector([1, -3, 4, 2, 0, 0, 0, 1])])"
            ],
            "text/html": [
              "<p style=\"text-align:center;\">$\\left[ \\begin{array}{cccc}3&-2&2&1\\\\1&-1&-1&-3\\\\2&1&2&4\\\\4&-4&1&2\\\\1&0&0&0\\\\0&1&0&0\\\\0&0&1&0\\\\0&0&0&1\\\\ \\end{array} \\right]$</p>"
            ],
            "image/png": "$\\left[ \\begin{array}{cccc}3&-2&2&1\\\\1&-1&-1&-3\\\\2&1&2&4\\\\4&-4&1&2\\\\1&0&0&0\\\\0&1&0&0\\\\0&0&1&0\\\\0&0&0&1\\\\ \\end{array} \\right]$",
            "text/latex": "$\\left[ \\begin{array}{cccc}3&-2&2&1\\\\1&-1&-1&-3\\\\2&1&2&4\\\\4&-4&1&2\\\\1&0&0&0\\\\0&1&0&0\\\\0&0&1&0\\\\0&0&0&1\\\\ \\end{array} \\right]$"
          },
          "metadata": {},
          "execution_count": 26
        }
      ]
    },
    {
      "cell_type": "markdown",
      "source": [
        "$\\left[ \\begin{array}{cccc}3&-2&2&1\\\\1&-1&-1&-3\\\\2&1&2&4\\\\4&-4&1&2\\\\1&0&0&0\\\\0&1&0&0\\\\0&0&1&0\\\\0&0&0&1\\\\ \\end{array} \\right]$"
      ],
      "metadata": {
        "id": "iPrRUKi2abe9"
      }
    },
    {
      "cell_type": "code",
      "source": [
        "Z&T((2,4,2))"
      ],
      "metadata": {
        "id": "GkLo53-AadM5",
        "outputId": "cd6e64d3-c579-4291-818d-15f291747e60",
        "colab": {
          "base_uri": "https://localhost:8080/",
          "height": 46
        }
      },
      "execution_count": 27,
      "outputs": [
        {
          "output_type": "execute_result",
          "data": {
            "text/plain": [
              "Matrix([Vector([3, 1, 2, 4, 1, 0, 0, 0]), Vector([0, -7, 9, 0, 0, 1, 0, 2]), Vector([2, -1, 2, 1, 0, 0, 1, 0]), Vector([1, -3, 4, 2, 0, 0, 0, 1])])"
            ],
            "text/html": [
              "<p style=\"text-align:center;\">$\\left[ \\begin{array}{cccc}3&0&2&1\\\\1&-7&-1&-3\\\\2&9&2&4\\\\4&0&1&2\\\\1&0&0&0\\\\0&1&0&0\\\\0&0&1&0\\\\0&2&0&1\\\\ \\end{array} \\right]$</p>"
            ],
            "image/png": "$\\left[ \\begin{array}{cccc}3&0&2&1\\\\1&-7&-1&-3\\\\2&9&2&4\\\\4&0&1&2\\\\1&0&0&0\\\\0&1&0&0\\\\0&0&1&0\\\\0&2&0&1\\\\ \\end{array} \\right]$",
            "text/latex": "$\\left[ \\begin{array}{cccc}3&0&2&1\\\\1&-7&-1&-3\\\\2&9&2&4\\\\4&0&1&2\\\\1&0&0&0\\\\0&1&0&0\\\\0&0&1&0\\\\0&2&0&1\\\\ \\end{array} \\right]$"
          },
          "metadata": {},
          "execution_count": 27
        }
      ]
    },
    {
      "cell_type": "markdown",
      "source": [
        "$\\left[ \\begin{array}{cccc}3&0&2&1\\\\1&-7&-1&-3\\\\2&9&2&4\\\\4&0&1&2\\\\1&0&0&0\\\\0&1&0&0\\\\0&0&1&0\\\\0&2&0&1\\\\ \\end{array} \\right]$"
      ],
      "metadata": {
        "id": "kfSEtXfRajRy"
      }
    },
    {
      "cell_type": "code",
      "source": [
        "Z&T((-2,4,3))"
      ],
      "metadata": {
        "id": "HfYH5WJ5as6L",
        "outputId": "2c10814d-30e2-4174-80b6-8856d7e0883c",
        "colab": {
          "base_uri": "https://localhost:8080/",
          "height": 46
        }
      },
      "execution_count": 28,
      "outputs": [
        {
          "output_type": "execute_result",
          "data": {
            "text/plain": [
              "Matrix([Vector([3, 1, 2, 4, 1, 0, 0, 0]), Vector([0, -7, 9, 0, 0, 1, 0, 2]), Vector([0, 5, -6, -3, 0, 0, 1, -2]), Vector([1, -3, 4, 2, 0, 0, 0, 1])])"
            ],
            "text/html": [
              "<p style=\"text-align:center;\">$\\left[ \\begin{array}{cccc}3&0&0&1\\\\1&-7&5&-3\\\\2&9&-6&4\\\\4&0&-3&2\\\\1&0&0&0\\\\0&1&0&0\\\\0&0&1&0\\\\0&2&-2&1\\\\ \\end{array} \\right]$</p>"
            ],
            "image/png": "$\\left[ \\begin{array}{cccc}3&0&0&1\\\\1&-7&5&-3\\\\2&9&-6&4\\\\4&0&-3&2\\\\1&0&0&0\\\\0&1&0&0\\\\0&0&1&0\\\\0&2&-2&1\\\\ \\end{array} \\right]$",
            "text/latex": "$\\left[ \\begin{array}{cccc}3&0&0&1\\\\1&-7&5&-3\\\\2&9&-6&4\\\\4&0&-3&2\\\\1&0&0&0\\\\0&1&0&0\\\\0&0&1&0\\\\0&2&-2&1\\\\ \\end{array} \\right]$"
          },
          "metadata": {},
          "execution_count": 28
        }
      ]
    },
    {
      "cell_type": "markdown",
      "source": [
        "$\\left[ \\begin{array}{cccc}3&0&0&1\\\\1&-7&5&-3\\\\2&9&-6&4\\\\4&0&-3&2\\\\1&0&0&0\\\\0&1&0&0\\\\0&0&1&0\\\\0&2&-2&1\\\\ \\end{array} \\right]$"
      ],
      "metadata": {
        "id": "2euf-Ju7avXu"
      }
    },
    {
      "cell_type": "code",
      "source": [
        "Z&T((fracc(1,3),1))"
      ],
      "metadata": {
        "id": "thgdW0Czay6L",
        "outputId": "0b37a375-f189-4e79-f3f8-298b560e712d",
        "colab": {
          "base_uri": "https://localhost:8080/",
          "height": 46
        }
      },
      "execution_count": 29,
      "outputs": [
        {
          "output_type": "execute_result",
          "data": {
            "text/plain": [
              "Matrix([Vector([1, 1/3, 2/3, 4/3, 1/3, 0, 0, 0]), Vector([0, -7, 9, 0, 0, 1, 0, 2]), Vector([0, 5, -6, -3, 0, 0, 1, -2]), Vector([1, -3, 4, 2, 0, 0, 0, 1])])"
            ],
            "text/html": [
              "<p style=\"text-align:center;\">$\\left[ \\begin{array}{cccc}1&0&0&1\\\\\\frac{1}{3}&-7&5&-3\\\\\\frac{2}{3}&9&-6&4\\\\\\frac{4}{3}&0&-3&2\\\\\\frac{1}{3}&0&0&0\\\\0&1&0&0\\\\0&0&1&0\\\\0&2&-2&1\\\\ \\end{array} \\right]$</p>"
            ],
            "image/png": "$\\left[ \\begin{array}{cccc}1&0&0&1\\\\\\frac{1}{3}&-7&5&-3\\\\\\frac{2}{3}&9&-6&4\\\\\\frac{4}{3}&0&-3&2\\\\\\frac{1}{3}&0&0&0\\\\0&1&0&0\\\\0&0&1&0\\\\0&2&-2&1\\\\ \\end{array} \\right]$",
            "text/latex": "$\\left[ \\begin{array}{cccc}1&0&0&1\\\\\\frac{1}{3}&-7&5&-3\\\\\\frac{2}{3}&9&-6&4\\\\\\frac{4}{3}&0&-3&2\\\\\\frac{1}{3}&0&0&0\\\\0&1&0&0\\\\0&0&1&0\\\\0&2&-2&1\\\\ \\end{array} \\right]$"
          },
          "metadata": {},
          "execution_count": 29
        }
      ]
    },
    {
      "cell_type": "markdown",
      "source": [
        "$\\left[ \\begin{array}{cccc}1&0&0&1\\\\\\frac{1}{3}&-7&5&-3\\\\\\frac{2}{3}&9&-6&4\\\\\\frac{4}{3}&0&-3&2\\\\\\frac{1}{3}&0&0&0\\\\0&1&0&0\\\\0&0&1&0\\\\0&2&-2&1\\\\ \\end{array} \\right]$"
      ],
      "metadata": {
        "id": "jiJd8Y1na5SS"
      }
    },
    {
      "cell_type": "code",
      "source": [
        "Z&T((-1,1,4))"
      ],
      "metadata": {
        "id": "NogROkkibWH4",
        "outputId": "c01154ac-8c4f-47e4-eade-0865c406e6a4",
        "colab": {
          "base_uri": "https://localhost:8080/",
          "height": 64
        }
      },
      "execution_count": 30,
      "outputs": [
        {
          "output_type": "execute_result",
          "data": {
            "text/plain": [
              "Matrix([Vector([1, 1/3, 2/3, 4/3, 1/3, 0, 0, 0]), Vector([0, -7, 9, 0, 0, 1, 0, 2]), Vector([0, 5, -6, -3, 0, 0, 1, -2]), Vector([0, -10/3, 10/3, 2/3, -1/3, 0, 0, 1])])"
            ],
            "text/html": [
              "<p style=\"text-align:center;\">$\\left[ \\begin{array}{cccc}1&0&0&0\\\\\\frac{1}{3}&-7&5&- \\frac{10}{3}\\\\\\frac{2}{3}&9&-6&\\frac{10}{3}\\\\\\frac{4}{3}&0&-3&\\frac{2}{3}\\\\\\frac{1}{3}&0&0&- \\frac{1}{3}\\\\0&1&0&0\\\\0&0&1&0\\\\0&2&-2&1\\\\ \\end{array} \\right]$</p>"
            ],
            "image/png": "$\\left[ \\begin{array}{cccc}1&0&0&0\\\\\\frac{1}{3}&-7&5&- \\frac{10}{3}\\\\\\frac{2}{3}&9&-6&\\frac{10}{3}\\\\\\frac{4}{3}&0&-3&\\frac{2}{3}\\\\\\frac{1}{3}&0&0&- \\frac{1}{3}\\\\0&1&0&0\\\\0&0&1&0\\\\0&2&-2&1\\\\ \\end{array} \\right]$",
            "text/latex": "$\\left[ \\begin{array}{cccc}1&0&0&0\\\\\\frac{1}{3}&-7&5&- \\frac{10}{3}\\\\\\frac{2}{3}&9&-6&\\frac{10}{3}\\\\\\frac{4}{3}&0&-3&\\frac{2}{3}\\\\\\frac{1}{3}&0&0&- \\frac{1}{3}\\\\0&1&0&0\\\\0&0&1&0\\\\0&2&-2&1\\\\ \\end{array} \\right]$"
          },
          "metadata": {},
          "execution_count": 30
        }
      ]
    },
    {
      "cell_type": "markdown",
      "source": [
        "$\\left[ \\begin{array}{cccc}1&0&0&0\\\\\\frac{1}{3}&-7&5&- \\frac{10}{3}\\\\\\frac{2}{3}&9&-6&\\frac{10}{3}\\\\\\frac{4}{3}&0&-3&\\frac{2}{3}\\\\\\frac{1}{3}&0&0&- \\frac{1}{3}\\\\0&1&0&0\\\\0&0&1&0\\\\0&2&-2&1\\\\ \\end{array} \\right]$"
      ],
      "metadata": {
        "id": "eFqHShk5bbXj"
      }
    },
    {
      "cell_type": "code",
      "source": [
        "Z&T((fracc(-3,10),4))"
      ],
      "metadata": {
        "id": "jqoOBvMsbfJ3",
        "outputId": "5f0a6717-ec11-4cfd-e271-40b7718e5f96",
        "colab": {
          "base_uri": "https://localhost:8080/",
          "height": 64
        }
      },
      "execution_count": 31,
      "outputs": [
        {
          "output_type": "execute_result",
          "data": {
            "text/plain": [
              "Matrix([Vector([1, 1/3, 2/3, 4/3, 1/3, 0, 0, 0]), Vector([0, -7, 9, 0, 0, 1, 0, 2]), Vector([0, 5, -6, -3, 0, 0, 1, -2]), Vector([0, 1, -1, -1/5, 1/10, 0, 0, -3/10])])"
            ],
            "text/html": [
              "<p style=\"text-align:center;\">$\\left[ \\begin{array}{cccc}1&0&0&0\\\\\\frac{1}{3}&-7&5&1\\\\\\frac{2}{3}&9&-6&-1\\\\\\frac{4}{3}&0&-3&- \\frac{1}{5}\\\\\\frac{1}{3}&0&0&\\frac{1}{10}\\\\0&1&0&0\\\\0&0&1&0\\\\0&2&-2&- \\frac{3}{10}\\\\ \\end{array} \\right]$</p>"
            ],
            "image/png": "$\\left[ \\begin{array}{cccc}1&0&0&0\\\\\\frac{1}{3}&-7&5&1\\\\\\frac{2}{3}&9&-6&-1\\\\\\frac{4}{3}&0&-3&- \\frac{1}{5}\\\\\\frac{1}{3}&0&0&\\frac{1}{10}\\\\0&1&0&0\\\\0&0&1&0\\\\0&2&-2&- \\frac{3}{10}\\\\ \\end{array} \\right]$",
            "text/latex": "$\\left[ \\begin{array}{cccc}1&0&0&0\\\\\\frac{1}{3}&-7&5&1\\\\\\frac{2}{3}&9&-6&-1\\\\\\frac{4}{3}&0&-3&- \\frac{1}{5}\\\\\\frac{1}{3}&0&0&\\frac{1}{10}\\\\0&1&0&0\\\\0&0&1&0\\\\0&2&-2&- \\frac{3}{10}\\\\ \\end{array} \\right]$"
          },
          "metadata": {},
          "execution_count": 31
        }
      ]
    },
    {
      "cell_type": "markdown",
      "source": [
        "$\\left[ \\begin{array}{cccc}1&0&0&0\\\\\\frac{1}{3}&-7&5&1\\\\\\frac{2}{3}&9&-6&-1\\\\\\frac{4}{3}&0&-3&- \\frac{1}{5}\\\\\\frac{1}{3}&0&0&\\frac{1}{10}\\\\0&1&0&0\\\\0&0&1&0\\\\0&2&-2&- \\frac{3}{10}\\\\ \\end{array} \\right]$"
      ],
      "metadata": {
        "id": "611ZPDmKbmM7"
      }
    },
    {
      "cell_type": "code",
      "source": [
        "Z&T((-5,4,3))"
      ],
      "metadata": {
        "id": "Qkw0xH93boY9",
        "outputId": "ce2e1a24-7c5e-4710-c977-c29cd5a3a2be",
        "colab": {
          "base_uri": "https://localhost:8080/",
          "height": 64
        }
      },
      "execution_count": 32,
      "outputs": [
        {
          "output_type": "execute_result",
          "data": {
            "text/plain": [
              "Matrix([Vector([1, 1/3, 2/3, 4/3, 1/3, 0, 0, 0]), Vector([0, -7, 9, 0, 0, 1, 0, 2]), Vector([0, 0, -1, -2, -1/2, 0, 1, -1/2]), Vector([0, 1, -1, -1/5, 1/10, 0, 0, -3/10])])"
            ],
            "text/html": [
              "<p style=\"text-align:center;\">$\\left[ \\begin{array}{cccc}1&0&0&0\\\\\\frac{1}{3}&-7&0&1\\\\\\frac{2}{3}&9&-1&-1\\\\\\frac{4}{3}&0&-2&- \\frac{1}{5}\\\\\\frac{1}{3}&0&- \\frac{1}{2}&\\frac{1}{10}\\\\0&1&0&0\\\\0&0&1&0\\\\0&2&- \\frac{1}{2}&- \\frac{3}{10}\\\\ \\end{array} \\right]$</p>"
            ],
            "image/png": "$\\left[ \\begin{array}{cccc}1&0&0&0\\\\\\frac{1}{3}&-7&0&1\\\\\\frac{2}{3}&9&-1&-1\\\\\\frac{4}{3}&0&-2&- \\frac{1}{5}\\\\\\frac{1}{3}&0&- \\frac{1}{2}&\\frac{1}{10}\\\\0&1&0&0\\\\0&0&1&0\\\\0&2&- \\frac{1}{2}&- \\frac{3}{10}\\\\ \\end{array} \\right]$",
            "text/latex": "$\\left[ \\begin{array}{cccc}1&0&0&0\\\\\\frac{1}{3}&-7&0&1\\\\\\frac{2}{3}&9&-1&-1\\\\\\frac{4}{3}&0&-2&- \\frac{1}{5}\\\\\\frac{1}{3}&0&- \\frac{1}{2}&\\frac{1}{10}\\\\0&1&0&0\\\\0&0&1&0\\\\0&2&- \\frac{1}{2}&- \\frac{3}{10}\\\\ \\end{array} \\right]$"
          },
          "metadata": {},
          "execution_count": 32
        }
      ]
    },
    {
      "cell_type": "markdown",
      "source": [
        "$\\left[ \\begin{array}{cccc}1&0&0&0\\\\\\frac{1}{3}&-7&0&1\\\\\\frac{2}{3}&9&-1&-1\\\\\\frac{4}{3}&0&-2&- \\frac{1}{5}\\\\\\frac{1}{3}&0&- \\frac{1}{2}&\\frac{1}{10}\\\\0&1&0&0\\\\0&0&1&0\\\\0&2&- \\frac{1}{2}&- \\frac{3}{10}\\\\ \\end{array} \\right]$"
      ],
      "metadata": {
        "id": "l9DQ5Jhqbw45"
      }
    },
    {
      "cell_type": "code",
      "source": [
        "Z&T((fracc(-1,3),4,1))"
      ],
      "metadata": {
        "id": "ENSK3XHYb0F0",
        "outputId": "0cd37ede-2ad0-4dbe-a261-57ed7fdae4af",
        "colab": {
          "base_uri": "https://localhost:8080/",
          "height": 64
        }
      },
      "execution_count": 33,
      "outputs": [
        {
          "output_type": "execute_result",
          "data": {
            "text/plain": [
              "Matrix([Vector([1, 0, 1, 7/5, 3/10, 0, 0, 1/10]), Vector([0, -7, 9, 0, 0, 1, 0, 2]), Vector([0, 0, -1, -2, -1/2, 0, 1, -1/2]), Vector([0, 1, -1, -1/5, 1/10, 0, 0, -3/10])])"
            ],
            "text/html": [
              "<p style=\"text-align:center;\">$\\left[ \\begin{array}{cccc}1&0&0&0\\\\0&-7&0&1\\\\1&9&-1&-1\\\\\\frac{7}{5}&0&-2&- \\frac{1}{5}\\\\\\frac{3}{10}&0&- \\frac{1}{2}&\\frac{1}{10}\\\\0&1&0&0\\\\0&0&1&0\\\\\\frac{1}{10}&2&- \\frac{1}{2}&- \\frac{3}{10}\\\\ \\end{array} \\right]$</p>"
            ],
            "image/png": "$\\left[ \\begin{array}{cccc}1&0&0&0\\\\0&-7&0&1\\\\1&9&-1&-1\\\\\\frac{7}{5}&0&-2&- \\frac{1}{5}\\\\\\frac{3}{10}&0&- \\frac{1}{2}&\\frac{1}{10}\\\\0&1&0&0\\\\0&0&1&0\\\\\\frac{1}{10}&2&- \\frac{1}{2}&- \\frac{3}{10}\\\\ \\end{array} \\right]$",
            "text/latex": "$\\left[ \\begin{array}{cccc}1&0&0&0\\\\0&-7&0&1\\\\1&9&-1&-1\\\\\\frac{7}{5}&0&-2&- \\frac{1}{5}\\\\\\frac{3}{10}&0&- \\frac{1}{2}&\\frac{1}{10}\\\\0&1&0&0\\\\0&0&1&0\\\\\\frac{1}{10}&2&- \\frac{1}{2}&- \\frac{3}{10}\\\\ \\end{array} \\right]$"
          },
          "metadata": {},
          "execution_count": 33
        }
      ]
    },
    {
      "cell_type": "markdown",
      "source": [
        "$\\left[ \\begin{array}{cccc}1&0&0&0\\\\0&-7&0&1\\\\1&9&-1&-1\\\\\\frac{7}{5}&0&-2&- \\frac{1}{5}\\\\\\frac{3}{10}&0&- \\frac{1}{2}&\\frac{1}{10}\\\\0&1&0&0\\\\0&0&1&0\\\\\\frac{1}{10}&2&- \\frac{1}{2}&- \\frac{3}{10}\\\\ \\end{array} \\right]$"
      ],
      "metadata": {
        "id": "r8SK0aTDdCCy"
      }
    },
    {
      "cell_type": "code",
      "source": [
        "Z&T((fracc(-1,7),2))"
      ],
      "metadata": {
        "id": "tOXLOgvmdJRF",
        "outputId": "240d5a80-d2ba-45e0-b6ef-bd55229102e7",
        "colab": {
          "base_uri": "https://localhost:8080/",
          "height": 64
        }
      },
      "execution_count": 34,
      "outputs": [
        {
          "output_type": "execute_result",
          "data": {
            "text/plain": [
              "Matrix([Vector([1, 0, 1, 7/5, 3/10, 0, 0, 1/10]), Vector([0, 1, -9/7, 0, 0, -1/7, 0, -2/7]), Vector([0, 0, -1, -2, -1/2, 0, 1, -1/2]), Vector([0, 1, -1, -1/5, 1/10, 0, 0, -3/10])])"
            ],
            "text/html": [
              "<p style=\"text-align:center;\">$\\left[ \\begin{array}{cccc}1&0&0&0\\\\0&1&0&1\\\\1&- \\frac{9}{7}&-1&-1\\\\\\frac{7}{5}&0&-2&- \\frac{1}{5}\\\\\\frac{3}{10}&0&- \\frac{1}{2}&\\frac{1}{10}\\\\0&- \\frac{1}{7}&0&0\\\\0&0&1&0\\\\\\frac{1}{10}&- \\frac{2}{7}&- \\frac{1}{2}&- \\frac{3}{10}\\\\ \\end{array} \\right]$</p>"
            ],
            "image/png": "$\\left[ \\begin{array}{cccc}1&0&0&0\\\\0&1&0&1\\\\1&- \\frac{9}{7}&-1&-1\\\\\\frac{7}{5}&0&-2&- \\frac{1}{5}\\\\\\frac{3}{10}&0&- \\frac{1}{2}&\\frac{1}{10}\\\\0&- \\frac{1}{7}&0&0\\\\0&0&1&0\\\\\\frac{1}{10}&- \\frac{2}{7}&- \\frac{1}{2}&- \\frac{3}{10}\\\\ \\end{array} \\right]$",
            "text/latex": "$\\left[ \\begin{array}{cccc}1&0&0&0\\\\0&1&0&1\\\\1&- \\frac{9}{7}&-1&-1\\\\\\frac{7}{5}&0&-2&- \\frac{1}{5}\\\\\\frac{3}{10}&0&- \\frac{1}{2}&\\frac{1}{10}\\\\0&- \\frac{1}{7}&0&0\\\\0&0&1&0\\\\\\frac{1}{10}&- \\frac{2}{7}&- \\frac{1}{2}&- \\frac{3}{10}\\\\ \\end{array} \\right]$"
          },
          "metadata": {},
          "execution_count": 34
        }
      ]
    },
    {
      "cell_type": "markdown",
      "source": [
        "$\\left[ \\begin{array}{cccc}1&0&0&0\\\\0&1&0&1\\\\1&- \\frac{9}{7}&-1&-1\\\\\\frac{7}{5}&0&-2&- \\frac{1}{5}\\\\\\frac{3}{10}&0&- \\frac{1}{2}&\\frac{1}{10}\\\\0&- \\frac{1}{7}&0&0\\\\0&0&1&0\\\\\\frac{1}{10}&- \\frac{2}{7}&- \\frac{1}{2}&- \\frac{3}{10}\\\\ \\end{array} \\right]$"
      ],
      "metadata": {
        "id": "fvmajkb7dObg"
      }
    },
    {
      "cell_type": "code",
      "source": [
        "Z&T((-1,2,4))"
      ],
      "metadata": {
        "id": "ivv4WahDdT6F",
        "outputId": "5ffab3a4-3068-489e-cb02-36bac9063809",
        "colab": {
          "base_uri": "https://localhost:8080/",
          "height": 64
        }
      },
      "execution_count": 35,
      "outputs": [
        {
          "output_type": "execute_result",
          "data": {
            "text/plain": [
              "Matrix([Vector([1, 0, 1, 7/5, 3/10, 0, 0, 1/10]), Vector([0, 1, -9/7, 0, 0, -1/7, 0, -2/7]), Vector([0, 0, -1, -2, -1/2, 0, 1, -1/2]), Vector([0, 0, 2/7, -1/5, 1/10, 1/7, 0, -1/70])])"
            ],
            "text/html": [
              "<p style=\"text-align:center;\">$\\left[ \\begin{array}{cccc}1&0&0&0\\\\0&1&0&0\\\\1&- \\frac{9}{7}&-1&\\frac{2}{7}\\\\\\frac{7}{5}&0&-2&- \\frac{1}{5}\\\\\\frac{3}{10}&0&- \\frac{1}{2}&\\frac{1}{10}\\\\0&- \\frac{1}{7}&0&\\frac{1}{7}\\\\0&0&1&0\\\\\\frac{1}{10}&- \\frac{2}{7}&- \\frac{1}{2}&- \\frac{1}{70}\\\\ \\end{array} \\right]$</p>"
            ],
            "image/png": "$\\left[ \\begin{array}{cccc}1&0&0&0\\\\0&1&0&0\\\\1&- \\frac{9}{7}&-1&\\frac{2}{7}\\\\\\frac{7}{5}&0&-2&- \\frac{1}{5}\\\\\\frac{3}{10}&0&- \\frac{1}{2}&\\frac{1}{10}\\\\0&- \\frac{1}{7}&0&\\frac{1}{7}\\\\0&0&1&0\\\\\\frac{1}{10}&- \\frac{2}{7}&- \\frac{1}{2}&- \\frac{1}{70}\\\\ \\end{array} \\right]$",
            "text/latex": "$\\left[ \\begin{array}{cccc}1&0&0&0\\\\0&1&0&0\\\\1&- \\frac{9}{7}&-1&\\frac{2}{7}\\\\\\frac{7}{5}&0&-2&- \\frac{1}{5}\\\\\\frac{3}{10}&0&- \\frac{1}{2}&\\frac{1}{10}\\\\0&- \\frac{1}{7}&0&\\frac{1}{7}\\\\0&0&1&0\\\\\\frac{1}{10}&- \\frac{2}{7}&- \\frac{1}{2}&- \\frac{1}{70}\\\\ \\end{array} \\right]$"
          },
          "metadata": {},
          "execution_count": 35
        }
      ]
    },
    {
      "cell_type": "markdown",
      "source": [
        "$\\left[ \\begin{array}{cccc}1&0&0&0\\\\0&1&0&0\\\\1&- \\frac{9}{7}&-1&\\frac{2}{7}\\\\\\frac{7}{5}&0&-2&- \\frac{1}{5}\\\\\\frac{3}{10}&0&- \\frac{1}{2}&\\frac{1}{10}\\\\0&- \\frac{1}{7}&0&\\frac{1}{7}\\\\0&0&1&0\\\\\\frac{1}{10}&- \\frac{2}{7}&- \\frac{1}{2}&- \\frac{1}{70}\\\\ \\end{array} \\right]$"
      ],
      "metadata": {
        "id": "gZOQ3kGQdbQJ"
      }
    },
    {
      "cell_type": "code",
      "source": [
        "Z&T((fracc(-1,1),3))"
      ],
      "metadata": {
        "id": "o9GHgGb1dehF",
        "outputId": "a94a177e-143c-4aee-c206-e2932e222b2f",
        "colab": {
          "base_uri": "https://localhost:8080/",
          "height": 64
        }
      },
      "execution_count": 36,
      "outputs": [
        {
          "output_type": "execute_result",
          "data": {
            "text/plain": [
              "Matrix([Vector([1, 0, 1, 7/5, 3/10, 0, 0, 1/10]), Vector([0, 1, -9/7, 0, 0, -1/7, 0, -2/7]), Vector([0, 0, 1, 2, 1/2, 0, -1, 1/2]), Vector([0, 0, 2/7, -1/5, 1/10, 1/7, 0, -1/70])])"
            ],
            "text/html": [
              "<p style=\"text-align:center;\">$\\left[ \\begin{array}{cccc}1&0&0&0\\\\0&1&0&0\\\\1&- \\frac{9}{7}&1&\\frac{2}{7}\\\\\\frac{7}{5}&0&2&- \\frac{1}{5}\\\\\\frac{3}{10}&0&\\frac{1}{2}&\\frac{1}{10}\\\\0&- \\frac{1}{7}&0&\\frac{1}{7}\\\\0&0&-1&0\\\\\\frac{1}{10}&- \\frac{2}{7}&\\frac{1}{2}&- \\frac{1}{70}\\\\ \\end{array} \\right]$</p>"
            ],
            "image/png": "$\\left[ \\begin{array}{cccc}1&0&0&0\\\\0&1&0&0\\\\1&- \\frac{9}{7}&1&\\frac{2}{7}\\\\\\frac{7}{5}&0&2&- \\frac{1}{5}\\\\\\frac{3}{10}&0&\\frac{1}{2}&\\frac{1}{10}\\\\0&- \\frac{1}{7}&0&\\frac{1}{7}\\\\0&0&-1&0\\\\\\frac{1}{10}&- \\frac{2}{7}&\\frac{1}{2}&- \\frac{1}{70}\\\\ \\end{array} \\right]$",
            "text/latex": "$\\left[ \\begin{array}{cccc}1&0&0&0\\\\0&1&0&0\\\\1&- \\frac{9}{7}&1&\\frac{2}{7}\\\\\\frac{7}{5}&0&2&- \\frac{1}{5}\\\\\\frac{3}{10}&0&\\frac{1}{2}&\\frac{1}{10}\\\\0&- \\frac{1}{7}&0&\\frac{1}{7}\\\\0&0&-1&0\\\\\\frac{1}{10}&- \\frac{2}{7}&\\frac{1}{2}&- \\frac{1}{70}\\\\ \\end{array} \\right]$"
          },
          "metadata": {},
          "execution_count": 36
        }
      ]
    },
    {
      "cell_type": "markdown",
      "source": [
        "$\\left[ \\begin{array}{cccc}1&0&0&0\\\\0&1&0&0\\\\1&- \\frac{9}{7}&1&\\frac{2}{7}\\\\\\frac{7}{5}&0&2&- \\frac{1}{5}\\\\\\frac{3}{10}&0&\\frac{1}{2}&\\frac{1}{10}\\\\0&- \\frac{1}{7}&0&\\frac{1}{7}\\\\0&0&-1&0\\\\\\frac{1}{10}&- \\frac{2}{7}&\\frac{1}{2}&- \\frac{1}{70}\\\\ \\end{array} \\right]$"
      ],
      "metadata": {
        "id": "9H__2q1CdlA3"
      }
    },
    {
      "cell_type": "code",
      "source": [
        "Z&T((-1,3,1))"
      ],
      "metadata": {
        "id": "Jcy8NiEUdnso",
        "outputId": "cceb610b-0c48-484d-b8f3-af79d37b0135",
        "colab": {
          "base_uri": "https://localhost:8080/",
          "height": 64
        }
      },
      "execution_count": 37,
      "outputs": [
        {
          "output_type": "execute_result",
          "data": {
            "text/plain": [
              "Matrix([Vector([1, 0, 0, -3/5, -1/5, 0, 1, -2/5]), Vector([0, 1, -9/7, 0, 0, -1/7, 0, -2/7]), Vector([0, 0, 1, 2, 1/2, 0, -1, 1/2]), Vector([0, 0, 2/7, -1/5, 1/10, 1/7, 0, -1/70])])"
            ],
            "text/html": [
              "<p style=\"text-align:center;\">$\\left[ \\begin{array}{cccc}1&0&0&0\\\\0&1&0&0\\\\0&- \\frac{9}{7}&1&\\frac{2}{7}\\\\- \\frac{3}{5}&0&2&- \\frac{1}{5}\\\\- \\frac{1}{5}&0&\\frac{1}{2}&\\frac{1}{10}\\\\0&- \\frac{1}{7}&0&\\frac{1}{7}\\\\1&0&-1&0\\\\- \\frac{2}{5}&- \\frac{2}{7}&\\frac{1}{2}&- \\frac{1}{70}\\\\ \\end{array} \\right]$</p>"
            ],
            "image/png": "$\\left[ \\begin{array}{cccc}1&0&0&0\\\\0&1&0&0\\\\0&- \\frac{9}{7}&1&\\frac{2}{7}\\\\- \\frac{3}{5}&0&2&- \\frac{1}{5}\\\\- \\frac{1}{5}&0&\\frac{1}{2}&\\frac{1}{10}\\\\0&- \\frac{1}{7}&0&\\frac{1}{7}\\\\1&0&-1&0\\\\- \\frac{2}{5}&- \\frac{2}{7}&\\frac{1}{2}&- \\frac{1}{70}\\\\ \\end{array} \\right]$",
            "text/latex": "$\\left[ \\begin{array}{cccc}1&0&0&0\\\\0&1&0&0\\\\0&- \\frac{9}{7}&1&\\frac{2}{7}\\\\- \\frac{3}{5}&0&2&- \\frac{1}{5}\\\\- \\frac{1}{5}&0&\\frac{1}{2}&\\frac{1}{10}\\\\0&- \\frac{1}{7}&0&\\frac{1}{7}\\\\1&0&-1&0\\\\- \\frac{2}{5}&- \\frac{2}{7}&\\frac{1}{2}&- \\frac{1}{70}\\\\ \\end{array} \\right]$"
          },
          "metadata": {},
          "execution_count": 37
        }
      ]
    },
    {
      "cell_type": "markdown",
      "source": [
        "$\\left[ \\begin{array}{cccc}1&0&0&0\\\\0&1&0&0\\\\0&- \\frac{9}{7}&1&\\frac{2}{7}\\\\- \\frac{3}{5}&0&2&- \\frac{1}{5}\\\\- \\frac{1}{5}&0&\\frac{1}{2}&\\frac{1}{10}\\\\0&- \\frac{1}{7}&0&\\frac{1}{7}\\\\1&0&-1&0\\\\- \\frac{2}{5}&- \\frac{2}{7}&\\frac{1}{2}&- \\frac{1}{70}\\\\ \\end{array} \\right]$"
      ],
      "metadata": {
        "id": "X6RUrQujduYH"
      }
    },
    {
      "cell_type": "code",
      "source": [
        "Z&T((fracc(9,7),3,2))"
      ],
      "metadata": {
        "id": "QgQkQtfjdwzc",
        "outputId": "8e22fba6-7edf-44e6-b9f9-187d018dd15b",
        "colab": {
          "base_uri": "https://localhost:8080/",
          "height": 64
        }
      },
      "execution_count": 38,
      "outputs": [
        {
          "output_type": "execute_result",
          "data": {
            "text/plain": [
              "Matrix([Vector([1, 0, 0, -3/5, -1/5, 0, 1, -2/5]), Vector([0, 1, 0, 18/7, 9/14, -1/7, -9/7, 5/14]), Vector([0, 0, 1, 2, 1/2, 0, -1, 1/2]), Vector([0, 0, 2/7, -1/5, 1/10, 1/7, 0, -1/70])])"
            ],
            "text/html": [
              "<p style=\"text-align:center;\">$\\left[ \\begin{array}{cccc}1&0&0&0\\\\0&1&0&0\\\\0&0&1&\\frac{2}{7}\\\\- \\frac{3}{5}&\\frac{18}{7}&2&- \\frac{1}{5}\\\\- \\frac{1}{5}&\\frac{9}{14}&\\frac{1}{2}&\\frac{1}{10}\\\\0&- \\frac{1}{7}&0&\\frac{1}{7}\\\\1&- \\frac{9}{7}&-1&0\\\\- \\frac{2}{5}&\\frac{5}{14}&\\frac{1}{2}&- \\frac{1}{70}\\\\ \\end{array} \\right]$</p>"
            ],
            "image/png": "$\\left[ \\begin{array}{cccc}1&0&0&0\\\\0&1&0&0\\\\0&0&1&\\frac{2}{7}\\\\- \\frac{3}{5}&\\frac{18}{7}&2&- \\frac{1}{5}\\\\- \\frac{1}{5}&\\frac{9}{14}&\\frac{1}{2}&\\frac{1}{10}\\\\0&- \\frac{1}{7}&0&\\frac{1}{7}\\\\1&- \\frac{9}{7}&-1&0\\\\- \\frac{2}{5}&\\frac{5}{14}&\\frac{1}{2}&- \\frac{1}{70}\\\\ \\end{array} \\right]$",
            "text/latex": "$\\left[ \\begin{array}{cccc}1&0&0&0\\\\0&1&0&0\\\\0&0&1&\\frac{2}{7}\\\\- \\frac{3}{5}&\\frac{18}{7}&2&- \\frac{1}{5}\\\\- \\frac{1}{5}&\\frac{9}{14}&\\frac{1}{2}&\\frac{1}{10}\\\\0&- \\frac{1}{7}&0&\\frac{1}{7}\\\\1&- \\frac{9}{7}&-1&0\\\\- \\frac{2}{5}&\\frac{5}{14}&\\frac{1}{2}&- \\frac{1}{70}\\\\ \\end{array} \\right]$"
          },
          "metadata": {},
          "execution_count": 38
        }
      ]
    },
    {
      "cell_type": "markdown",
      "source": [
        "$\\left[ \\begin{array}{cccc}1&0&0&0\\\\0&1&0&0\\\\0&0&1&\\frac{2}{7}\\\\- \\frac{3}{5}&\\frac{18}{7}&2&- \\frac{1}{5}\\\\- \\frac{1}{5}&\\frac{9}{14}&\\frac{1}{2}&\\frac{1}{10}\\\\0&- \\frac{1}{7}&0&\\frac{1}{7}\\\\1&- \\frac{9}{7}&-1&0\\\\- \\frac{2}{5}&\\frac{5}{14}&\\frac{1}{2}&- \\frac{1}{70}\\\\ \\end{array} \\right]$"
      ],
      "metadata": {
        "id": "1ySJOMdHd3Fk"
      }
    },
    {
      "cell_type": "code",
      "source": [
        "Z&T((fracc(-2,7),3,4))"
      ],
      "metadata": {
        "id": "NpYDDzZYd5Tx",
        "outputId": "d38c0e29-53f4-47bb-a3f0-9f5dd9637198",
        "colab": {
          "base_uri": "https://localhost:8080/",
          "height": 64
        }
      },
      "execution_count": 39,
      "outputs": [
        {
          "output_type": "execute_result",
          "data": {
            "text/plain": [
              "Matrix([Vector([1, 0, 0, -3/5, -1/5, 0, 1, -2/5]), Vector([0, 1, 0, 18/7, 9/14, -1/7, -9/7, 5/14]), Vector([0, 0, 1, 2, 1/2, 0, -1, 1/2]), Vector([0, 0, 0, -27/35, -3/70, 1/7, 2/7, -11/70])])"
            ],
            "text/html": [
              "<p style=\"text-align:center;\">$\\left[ \\begin{array}{cccc}1&0&0&0\\\\0&1&0&0\\\\0&0&1&0\\\\- \\frac{3}{5}&\\frac{18}{7}&2&- \\frac{27}{35}\\\\- \\frac{1}{5}&\\frac{9}{14}&\\frac{1}{2}&- \\frac{3}{70}\\\\0&- \\frac{1}{7}&0&\\frac{1}{7}\\\\1&- \\frac{9}{7}&-1&\\frac{2}{7}\\\\- \\frac{2}{5}&\\frac{5}{14}&\\frac{1}{2}&- \\frac{11}{70}\\\\ \\end{array} \\right]$</p>"
            ],
            "image/png": "$\\left[ \\begin{array}{cccc}1&0&0&0\\\\0&1&0&0\\\\0&0&1&0\\\\- \\frac{3}{5}&\\frac{18}{7}&2&- \\frac{27}{35}\\\\- \\frac{1}{5}&\\frac{9}{14}&\\frac{1}{2}&- \\frac{3}{70}\\\\0&- \\frac{1}{7}&0&\\frac{1}{7}\\\\1&- \\frac{9}{7}&-1&\\frac{2}{7}\\\\- \\frac{2}{5}&\\frac{5}{14}&\\frac{1}{2}&- \\frac{11}{70}\\\\ \\end{array} \\right]$",
            "text/latex": "$\\left[ \\begin{array}{cccc}1&0&0&0\\\\0&1&0&0\\\\0&0&1&0\\\\- \\frac{3}{5}&\\frac{18}{7}&2&- \\frac{27}{35}\\\\- \\frac{1}{5}&\\frac{9}{14}&\\frac{1}{2}&- \\frac{3}{70}\\\\0&- \\frac{1}{7}&0&\\frac{1}{7}\\\\1&- \\frac{9}{7}&-1&\\frac{2}{7}\\\\- \\frac{2}{5}&\\frac{5}{14}&\\frac{1}{2}&- \\frac{11}{70}\\\\ \\end{array} \\right]$"
          },
          "metadata": {},
          "execution_count": 39
        }
      ]
    },
    {
      "cell_type": "markdown",
      "source": [
        "$\\left[ \\begin{array}{cccc}1&0&0&0\\\\0&1&0&0\\\\0&0&1&0\\\\- \\frac{3}{5}&\\frac{18}{7}&2&- \\frac{27}{35}\\\\- \\frac{1}{5}&\\frac{9}{14}&\\frac{1}{2}&- \\frac{3}{70}\\\\0&- \\frac{1}{7}&0&\\frac{1}{7}\\\\1&- \\frac{9}{7}&-1&\\frac{2}{7}\\\\- \\frac{2}{5}&\\frac{5}{14}&\\frac{1}{2}&- \\frac{11}{70}\\\\ \\end{array} \\right]$"
      ],
      "metadata": {
        "id": "nf--DyWFd_cQ"
      }
    },
    {
      "cell_type": "code",
      "source": [
        "Z&T((fracc(-35,27),4))"
      ],
      "metadata": {
        "id": "vX7Fv1dfeBEj",
        "outputId": "f60c4a79-d773-4582-ae55-cee2eecdd4dc",
        "colab": {
          "base_uri": "https://localhost:8080/",
          "height": 64
        }
      },
      "execution_count": 40,
      "outputs": [
        {
          "output_type": "execute_result",
          "data": {
            "text/plain": [
              "Matrix([Vector([1, 0, 0, -3/5, -1/5, 0, 1, -2/5]), Vector([0, 1, 0, 18/7, 9/14, -1/7, -9/7, 5/14]), Vector([0, 0, 1, 2, 1/2, 0, -1, 1/2]), Vector([0, 0, 0, 1, 1/18, -5/27, -10/27, 11/54])])"
            ],
            "text/html": [
              "<p style=\"text-align:center;\">$\\left[ \\begin{array}{cccc}1&0&0&0\\\\0&1&0&0\\\\0&0&1&0\\\\- \\frac{3}{5}&\\frac{18}{7}&2&1\\\\- \\frac{1}{5}&\\frac{9}{14}&\\frac{1}{2}&\\frac{1}{18}\\\\0&- \\frac{1}{7}&0&- \\frac{5}{27}\\\\1&- \\frac{9}{7}&-1&- \\frac{10}{27}\\\\- \\frac{2}{5}&\\frac{5}{14}&\\frac{1}{2}&\\frac{11}{54}\\\\ \\end{array} \\right]$</p>"
            ],
            "image/png": "$\\left[ \\begin{array}{cccc}1&0&0&0\\\\0&1&0&0\\\\0&0&1&0\\\\- \\frac{3}{5}&\\frac{18}{7}&2&1\\\\- \\frac{1}{5}&\\frac{9}{14}&\\frac{1}{2}&\\frac{1}{18}\\\\0&- \\frac{1}{7}&0&- \\frac{5}{27}\\\\1&- \\frac{9}{7}&-1&- \\frac{10}{27}\\\\- \\frac{2}{5}&\\frac{5}{14}&\\frac{1}{2}&\\frac{11}{54}\\\\ \\end{array} \\right]$",
            "text/latex": "$\\left[ \\begin{array}{cccc}1&0&0&0\\\\0&1&0&0\\\\0&0&1&0\\\\- \\frac{3}{5}&\\frac{18}{7}&2&1\\\\- \\frac{1}{5}&\\frac{9}{14}&\\frac{1}{2}&\\frac{1}{18}\\\\0&- \\frac{1}{7}&0&- \\frac{5}{27}\\\\1&- \\frac{9}{7}&-1&- \\frac{10}{27}\\\\- \\frac{2}{5}&\\frac{5}{14}&\\frac{1}{2}&\\frac{11}{54}\\\\ \\end{array} \\right]$"
          },
          "metadata": {},
          "execution_count": 40
        }
      ]
    },
    {
      "cell_type": "markdown",
      "source": [
        "$\\left[ \\begin{array}{cccc}1&0&0&0\\\\0&1&0&0\\\\0&0&1&0\\\\- \\frac{3}{5}&\\frac{18}{7}&2&1\\\\- \\frac{1}{5}&\\frac{9}{14}&\\frac{1}{2}&\\frac{1}{18}\\\\0&- \\frac{1}{7}&0&- \\frac{5}{27}\\\\1&- \\frac{9}{7}&-1&- \\frac{10}{27}\\\\- \\frac{2}{5}&\\frac{5}{14}&\\frac{1}{2}&\\frac{11}{54}\\\\ \\end{array} \\right]$"
      ],
      "metadata": {
        "id": "Aa0h4H36eGlh"
      }
    },
    {
      "cell_type": "code",
      "source": [
        "Z&T((fracc(3,5),4,1))\n",
        "Z&T((fracc(-18,7),4,2))\n",
        "Z&T((-2,4,3))"
      ],
      "metadata": {
        "id": "JJ2GqNJEeInP",
        "outputId": "9fbb4d84-de7e-4bcd-a791-983713becbe7",
        "colab": {
          "base_uri": "https://localhost:8080/",
          "height": 64
        }
      },
      "execution_count": 41,
      "outputs": [
        {
          "output_type": "execute_result",
          "data": {
            "text/plain": [
              "Matrix([Vector([1, 0, 0, 0, -1/6, -1/9, 7/9, -5/18]), Vector([0, 1, 0, 0, 1/2, 1/3, -1/3, -1/6]), Vector([0, 0, 1, 0, 7/18, 10/27, -7/27, 5/54]), Vector([0, 0, 0, 1, 1/18, -5/27, -10/27, 11/54])])"
            ],
            "text/html": [
              "<p style=\"text-align:center;\">$\\left[ \\begin{array}{cccc}1&0&0&0\\\\0&1&0&0\\\\0&0&1&0\\\\0&0&0&1\\\\- \\frac{1}{6}&\\frac{1}{2}&\\frac{7}{18}&\\frac{1}{18}\\\\- \\frac{1}{9}&\\frac{1}{3}&\\frac{10}{27}&- \\frac{5}{27}\\\\\\frac{7}{9}&- \\frac{1}{3}&- \\frac{7}{27}&- \\frac{10}{27}\\\\- \\frac{5}{18}&- \\frac{1}{6}&\\frac{5}{54}&\\frac{11}{54}\\\\ \\end{array} \\right]$</p>"
            ],
            "image/png": "$\\left[ \\begin{array}{cccc}1&0&0&0\\\\0&1&0&0\\\\0&0&1&0\\\\0&0&0&1\\\\- \\frac{1}{6}&\\frac{1}{2}&\\frac{7}{18}&\\frac{1}{18}\\\\- \\frac{1}{9}&\\frac{1}{3}&\\frac{10}{27}&- \\frac{5}{27}\\\\\\frac{7}{9}&- \\frac{1}{3}&- \\frac{7}{27}&- \\frac{10}{27}\\\\- \\frac{5}{18}&- \\frac{1}{6}&\\frac{5}{54}&\\frac{11}{54}\\\\ \\end{array} \\right]$",
            "text/latex": "$\\left[ \\begin{array}{cccc}1&0&0&0\\\\0&1&0&0\\\\0&0&1&0\\\\0&0&0&1\\\\- \\frac{1}{6}&\\frac{1}{2}&\\frac{7}{18}&\\frac{1}{18}\\\\- \\frac{1}{9}&\\frac{1}{3}&\\frac{10}{27}&- \\frac{5}{27}\\\\\\frac{7}{9}&- \\frac{1}{3}&- \\frac{7}{27}&- \\frac{10}{27}\\\\- \\frac{5}{18}&- \\frac{1}{6}&\\frac{5}{54}&\\frac{11}{54}\\\\ \\end{array} \\right]$"
          },
          "metadata": {},
          "execution_count": 41
        }
      ]
    },
    {
      "cell_type": "markdown",
      "source": [
        "$\\left[ \\begin{array}{cccc}1&0&0&0\\\\0&1&0&0\\\\0&0&1&0\\\\0&0&0&1\\\\- \\frac{1}{6}&\\frac{1}{2}&\\frac{7}{18}&\\frac{1}{18}\\\\- \\frac{1}{9}&\\frac{1}{3}&\\frac{10}{27}&- \\frac{5}{27}\\\\\\frac{7}{9}&- \\frac{1}{3}&- \\frac{7}{27}&- \\frac{10}{27}\\\\- \\frac{5}{18}&- \\frac{1}{6}&\\frac{5}{54}&\\frac{11}{54}\\\\ \\end{array} \\right]$"
      ],
      "metadata": {
        "id": "4GR1CArreOQM"
      }
    },
    {
      "cell_type": "markdown",
      "source": [
        "8. Resuelva el siguiente sistema de ecuaciones:\n",
        "\n",
        "$$ \\begin{array}{ccc}5x&+7y&-z&=6\\\\2x&+10y&-2z&=4\\\\x&+y&+z&=0\\\\ \\end{array} $$"
      ],
      "metadata": {
        "id": "tABrI61xarPE"
      }
    },
    {
      "cell_type": "code",
      "source": [
        "#Se construye la matriz\n",
        "E = Matrix([[5,7,-1],[2,10,-2],[1,1,1]])\n",
        "E"
      ],
      "metadata": {
        "id": "Jx9ijlJieYMx",
        "outputId": "e5a017b2-a1bd-461f-cd7e-2b6f5ca62c29",
        "colab": {
          "base_uri": "https://localhost:8080/",
          "height": 46
        }
      },
      "execution_count": 42,
      "outputs": [
        {
          "output_type": "execute_result",
          "data": {
            "text/plain": [
              "Matrix([Vector([5, 2, 1]), Vector([7, 10, 1]), Vector([-1, -2, 1])])"
            ],
            "text/html": [
              "<p style=\"text-align:center;\">$\\left[ \\begin{array}{ccc}5&7&-1\\\\2&10&-2\\\\1&1&1\\\\ \\end{array} \\right]$</p>"
            ],
            "image/png": "$\\left[ \\begin{array}{ccc}5&7&-1\\\\2&10&-2\\\\1&1&1\\\\ \\end{array} \\right]$",
            "text/latex": "$\\left[ \\begin{array}{ccc}5&7&-1\\\\2&10&-2\\\\1&1&1\\\\ \\end{array} \\right]$"
          },
          "metadata": {},
          "execution_count": 42
        }
      ]
    },
    {
      "cell_type": "markdown",
      "source": [
        "$\\left[ \\begin{array}{ccc}5&7&-1\\\\2&10&-2\\\\1&1&1\\\\ \\end{array} \\right]$"
      ],
      "metadata": {
        "id": "I2YH30X3emOa"
      }
    },
    {
      "cell_type": "code",
      "source": [
        "#Matriz aumentada\n",
        "S = Matrix([[5,7,-1,6],[2,10,-2,4],[1,1,1,0]])\n",
        "S"
      ],
      "metadata": {
        "id": "nxcnh67FesZj",
        "outputId": "463cec80-8ff6-4c12-fd23-aeb75877a639",
        "colab": {
          "base_uri": "https://localhost:8080/",
          "height": 46
        }
      },
      "execution_count": 43,
      "outputs": [
        {
          "output_type": "execute_result",
          "data": {
            "text/plain": [
              "Matrix([Vector([5, 2, 1]), Vector([7, 10, 1]), Vector([-1, -2, 1]), Vector([6, 4, 0])])"
            ],
            "text/html": [
              "<p style=\"text-align:center;\">$\\left[ \\begin{array}{cccc}5&7&-1&6\\\\2&10&-2&4\\\\1&1&1&0\\\\ \\end{array} \\right]$</p>"
            ],
            "image/png": "$\\left[ \\begin{array}{cccc}5&7&-1&6\\\\2&10&-2&4\\\\1&1&1&0\\\\ \\end{array} \\right]$",
            "text/latex": "$\\left[ \\begin{array}{cccc}5&7&-1&6\\\\2&10&-2&4\\\\1&1&1&0\\\\ \\end{array} \\right]$"
          },
          "metadata": {},
          "execution_count": 43
        }
      ]
    },
    {
      "cell_type": "markdown",
      "source": [
        "$\\left[ \\begin{array}{cccc}5&7&-1&6\\\\2&10&-2&4\\\\1&1&1&0\\\\ \\end{array} \\right]$"
      ],
      "metadata": {
        "id": "C3xF6iNXev5x"
      }
    },
    {
      "cell_type": "code",
      "source": [
        "T((fracc(-1,2),2))&S\n",
        "T((1,2,3))&S\n",
        "T((fracc(-1,5),2))&S\n",
        "T((4,2,3))&S\n",
        "T((fracc(1,5),1))&S"
      ],
      "metadata": {
        "id": "vuqnfCXjevYy",
        "outputId": "d63a288c-5a2f-466c-f232-af2bcdf4115b",
        "colab": {
          "base_uri": "https://localhost:8080/",
          "height": 46
        }
      },
      "execution_count": 44,
      "outputs": [
        {
          "output_type": "execute_result",
          "data": {
            "text/plain": [
              "Matrix([Vector([1, 1/5, 4/5]), Vector([7/5, 1, 0]), Vector([-1/5, -1/5, 6/5]), Vector([6/5, 2/5, -2/5])])"
            ],
            "text/html": [
              "<p style=\"text-align:center;\">$\\left[ \\begin{array}{cccc}1&\\frac{7}{5}&- \\frac{1}{5}&\\frac{6}{5}\\\\\\frac{1}{5}&1&- \\frac{1}{5}&\\frac{2}{5}\\\\\\frac{4}{5}&0&\\frac{6}{5}&- \\frac{2}{5}\\\\ \\end{array} \\right]$</p>"
            ],
            "image/png": "$\\left[ \\begin{array}{cccc}1&\\frac{7}{5}&- \\frac{1}{5}&\\frac{6}{5}\\\\\\frac{1}{5}&1&- \\frac{1}{5}&\\frac{2}{5}\\\\\\frac{4}{5}&0&\\frac{6}{5}&- \\frac{2}{5}\\\\ \\end{array} \\right]$",
            "text/latex": "$\\left[ \\begin{array}{cccc}1&\\frac{7}{5}&- \\frac{1}{5}&\\frac{6}{5}\\\\\\frac{1}{5}&1&- \\frac{1}{5}&\\frac{2}{5}\\\\\\frac{4}{5}&0&\\frac{6}{5}&- \\frac{2}{5}\\\\ \\end{array} \\right]$"
          },
          "metadata": {},
          "execution_count": 44
        }
      ]
    },
    {
      "cell_type": "markdown",
      "source": [
        "$\\left[ \\begin{array}{cccc}1&\\frac{7}{5}&- \\frac{1}{5}&\\frac{6}{5}\\\\\\frac{1}{5}&1&- \\frac{1}{5}&\\frac{2}{5}\\\\\\frac{4}{5}&0&\\frac{6}{5}&- \\frac{2}{5}\\\\ \\end{array} \\right]$"
      ],
      "metadata": {
        "id": "zh3Jy5Ere6JO"
      }
    },
    {
      "cell_type": "code",
      "source": [
        "T((fracc(5,6),3))&S\n",
        "T((fracc(1,5),3,2))&S\n",
        "T((fracc(-1,3),1,2))&S\n",
        "T((fracc(-2,3),1,3))&S"
      ],
      "metadata": {
        "id": "qw3vf4c4e8Rq",
        "outputId": "ef34353f-e0b1-45e6-aa69-0d0d42430f7b",
        "colab": {
          "base_uri": "https://localhost:8080/",
          "height": 46
        }
      },
      "execution_count": 45,
      "outputs": [
        {
          "output_type": "execute_result",
          "data": {
            "text/plain": [
              "Matrix([Vector([1, 0, 0]), Vector([7/5, 8/15, -14/15]), Vector([-1/5, 1/15, 17/15]), Vector([6/5, -1/15, -17/15])])"
            ],
            "text/html": [
              "<p style=\"text-align:center;\">$\\left[ \\begin{array}{cccc}1&\\frac{7}{5}&- \\frac{1}{5}&\\frac{6}{5}\\\\0&\\frac{8}{15}&\\frac{1}{15}&- \\frac{1}{15}\\\\0&- \\frac{14}{15}&\\frac{17}{15}&- \\frac{17}{15}\\\\ \\end{array} \\right]$</p>"
            ],
            "image/png": "$\\left[ \\begin{array}{cccc}1&\\frac{7}{5}&- \\frac{1}{5}&\\frac{6}{5}\\\\0&\\frac{8}{15}&\\frac{1}{15}&- \\frac{1}{15}\\\\0&- \\frac{14}{15}&\\frac{17}{15}&- \\frac{17}{15}\\\\ \\end{array} \\right]$",
            "text/latex": "$\\left[ \\begin{array}{cccc}1&\\frac{7}{5}&- \\frac{1}{5}&\\frac{6}{5}\\\\0&\\frac{8}{15}&\\frac{1}{15}&- \\frac{1}{15}\\\\0&- \\frac{14}{15}&\\frac{17}{15}&- \\frac{17}{15}\\\\ \\end{array} \\right]$"
          },
          "metadata": {},
          "execution_count": 45
        }
      ]
    },
    {
      "cell_type": "markdown",
      "source": [
        "$\\left[ \\begin{array}{cccc}1&\\frac{7}{5}&- \\frac{1}{5}&\\frac{6}{5}\\\\0&\\frac{8}{15}&\\frac{1}{15}&- \\frac{1}{15}\\\\0&- \\frac{14}{15}&\\frac{17}{15}&- \\frac{17}{15}\\\\ \\end{array} \\right]$"
      ],
      "metadata": {
        "id": "_Fe_P88jfDl_"
      }
    },
    {
      "cell_type": "code",
      "source": [
        "T((fracc(15,8),2))&S\n",
        "T((fracc(-7,5),2,1))&S\n",
        "T((fracc(14,15),2,3))&S\n",
        "T((fracc(4,5),3))&S"
      ],
      "metadata": {
        "id": "HSKXzOUNfQc-",
        "outputId": "b82924d9-d70b-4437-8722-e99eac3a370d",
        "colab": {
          "base_uri": "https://localhost:8080/",
          "height": 46
        }
      },
      "execution_count": 46,
      "outputs": [
        {
          "output_type": "execute_result",
          "data": {
            "text/plain": [
              "Matrix([Vector([1, 0, 0]), Vector([0, 1, 0]), Vector([-3/8, 1/8, 1]), Vector([11/8, -1/8, -1])])"
            ],
            "text/html": [
              "<p style=\"text-align:center;\">$\\left[ \\begin{array}{cccc}1&0&- \\frac{3}{8}&\\frac{11}{8}\\\\0&1&\\frac{1}{8}&- \\frac{1}{8}\\\\0&0&1&-1\\\\ \\end{array} \\right]$</p>"
            ],
            "image/png": "$\\left[ \\begin{array}{cccc}1&0&- \\frac{3}{8}&\\frac{11}{8}\\\\0&1&\\frac{1}{8}&- \\frac{1}{8}\\\\0&0&1&-1\\\\ \\end{array} \\right]$",
            "text/latex": "$\\left[ \\begin{array}{cccc}1&0&- \\frac{3}{8}&\\frac{11}{8}\\\\0&1&\\frac{1}{8}&- \\frac{1}{8}\\\\0&0&1&-1\\\\ \\end{array} \\right]$"
          },
          "metadata": {},
          "execution_count": 46
        }
      ]
    },
    {
      "cell_type": "markdown",
      "source": [
        "$\\left[ \\begin{array}{cccc}1&0&- \\frac{3}{8}&\\frac{11}{8}\\\\0&1&\\frac{1}{8}&- \\frac{1}{8}\\\\0&0&1&-1\\\\ \\end{array} \\right]$"
      ],
      "metadata": {
        "id": "ONKyi75DfWyv"
      }
    },
    {
      "cell_type": "code",
      "source": [
        "T((fracc(-1,8),3,2))&S\n",
        "T((fracc(3,8),3,1))&S"
      ],
      "metadata": {
        "id": "2zb0YztXfZMK",
        "outputId": "428f38bd-3423-40ef-d14b-63d7b7554013",
        "colab": {
          "base_uri": "https://localhost:8080/",
          "height": 46
        }
      },
      "execution_count": 47,
      "outputs": [
        {
          "output_type": "execute_result",
          "data": {
            "text/plain": [
              "Matrix([Vector([1, 0, 0]), Vector([0, 1, 0]), Vector([0, 0, 1]), Vector([1, 0, -1])])"
            ],
            "text/html": [
              "<p style=\"text-align:center;\">$\\left[ \\begin{array}{cccc}1&0&0&1\\\\0&1&0&0\\\\0&0&1&-1\\\\ \\end{array} \\right]$</p>"
            ],
            "image/png": "$\\left[ \\begin{array}{cccc}1&0&0&1\\\\0&1&0&0\\\\0&0&1&-1\\\\ \\end{array} \\right]$",
            "text/latex": "$\\left[ \\begin{array}{cccc}1&0&0&1\\\\0&1&0&0\\\\0&0&1&-1\\\\ \\end{array} \\right]$"
          },
          "metadata": {},
          "execution_count": 47
        }
      ]
    },
    {
      "cell_type": "markdown",
      "source": [
        "$\\left[ \\begin{array}{cccc}1&0&0&1\\\\0&1&0&0\\\\0&0&1&-1\\\\ \\end{array} \\right]$"
      ],
      "metadata": {
        "id": "PaI3cOwUff7n"
      }
    }
  ]
}