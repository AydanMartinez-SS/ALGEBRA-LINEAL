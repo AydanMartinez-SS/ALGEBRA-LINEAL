{
  "nbformat": 4,
  "nbformat_minor": 0,
  "metadata": {
    "colab": {
      "provenance": [],
      "include_colab_link": true
    },
    "kernelspec": {
      "name": "python3",
      "display_name": "Python 3"
    },
    "language_info": {
      "name": "python"
    }
  },
  "cells": [
    {
      "cell_type": "markdown",
      "metadata": {
        "id": "view-in-github",
        "colab_type": "text"
      },
      "source": [
        "<a href=\"https://colab.research.google.com/github/AydanMartinez-SS/ALGEBRA-LINEAL/blob/main/Examen1AL.ipynb\" target=\"_parent\"><img src=\"https://colab.research.google.com/assets/colab-badge.svg\" alt=\"Open In Colab\"/></a>"
      ]
    },
    {
      "cell_type": "markdown",
      "source": [
        "## Algebra Lineal\n",
        "\n",
        "### 1er examen parcial"
      ],
      "metadata": {
        "id": "m93nhBA98vRW"
      }
    },
    {
      "cell_type": "code",
      "source": [
        "pip install nacal"
      ],
      "metadata": {
        "id": "VVZTns4uK-o6",
        "outputId": "e1da8dab-d254-43f6-e251-0f865d33f9a5",
        "colab": {
          "base_uri": "https://localhost:8080/"
        }
      },
      "execution_count": 3,
      "outputs": [
        {
          "output_type": "stream",
          "name": "stdout",
          "text": [
            "Collecting nacal\n",
            "  Downloading nacal-0.1.30-py3-none-any.whl (33 kB)\n",
            "Requirement already satisfied: sympy>=1.1.0 in /usr/local/lib/python3.10/dist-packages (from nacal) (1.12)\n",
            "Requirement already satisfied: mpmath>=0.19 in /usr/local/lib/python3.10/dist-packages (from sympy>=1.1.0->nacal) (1.3.0)\n",
            "Installing collected packages: nacal\n",
            "Successfully installed nacal-0.1.30\n"
          ]
        }
      ]
    },
    {
      "cell_type": "markdown",
      "source": [
        "EN este notebook deberás realizar cada uno de los ejercicios utilizando Python dentro de los bloques de código, si alguna salida requiere la visualización mediante Latex escribe el bloque correspondiente."
      ],
      "metadata": {
        "id": "OWBcJp7z9U8G"
      }
    },
    {
      "cell_type": "markdown",
      "metadata": {
        "id": "kXLRi02u_bK6"
      },
      "source": [
        "1. Genere los vectores $a$ y $ {b}$:\n",
        "\n",
        "-   el vector ${a}$ está formado por la lista de números: 1, 4, 9, 2, -5, π\n",
        "-   el vector ${b}$ está formado por la lista de números: 1, 2, 1, 0, 0.01,  $\\sqrt 2$\n",
        "-   súmelos"
      ]
    },
    {
      "cell_type": "code",
      "execution_count": null,
      "metadata": {
        "id": "7GzeUtyj8qwb"
      },
      "outputs": [],
      "source": []
    },
    {
      "cell_type": "markdown",
      "metadata": {
        "id": "6FIT3apxOYdq"
      },
      "source": [
        "2. Proporcione ejemplos de matrices 3 por 3 no nulas de los siguientes\n",
        "tipos de matrices:\n",
        "\n",
        "-   Una matriz diagonal\n",
        "\n"
      ]
    },
    {
      "cell_type": "markdown",
      "metadata": {
        "id": "WMMsUBTtOYdq"
      },
      "source": [
        "-   Una matriz simétrica\n",
        "\n"
      ]
    },
    {
      "cell_type": "code",
      "execution_count": 14,
      "metadata": {
        "id": "a7YW_5VFOYdq",
        "outputId": "febfd77a-927c-4108-f1b4-5ba008e01bea",
        "colab": {
          "base_uri": "https://localhost:8080/",
          "height": 106
        }
      },
      "outputs": [
        {
          "output_type": "error",
          "ename": "SyntaxError",
          "evalue": "invalid syntax. Maybe you meant '==' or ':=' instead of '='? (<ipython-input-14-25ede7bf5de9>, line 2)",
          "traceback": [
            "\u001b[0;36m  File \u001b[0;32m\"<ipython-input-14-25ede7bf5de9>\"\u001b[0;36m, line \u001b[0;32m2\u001b[0m\n\u001b[0;31m    b = vector   (0,1,0)\u001b[0m\n\u001b[0m    ^\u001b[0m\n\u001b[0;31mSyntaxError\u001b[0m\u001b[0;31m:\u001b[0m invalid syntax. Maybe you meant '==' or ':=' instead of '='?\n"
          ]
        }
      ],
      "source": [
        "a = vector [[(1,0,0),\n",
        "b = vector   (0,1,0)\n",
        "c = vector   (0,0,1)]]\n",
        "print= AB = (a, b,c)\n",
        "AB"
      ]
    },
    {
      "cell_type": "markdown",
      "metadata": {
        "id": "roLWrzwXj1X6"
      },
      "source": [
        "3. Cree la matriz\n",
        "$${A}=\\begin{bmatrix}1&0&0&-1\\\\2&0&7&0\\\\-4&3&3&0\\\\0&3&4&1\\\\7&1&2&1\\end{bmatrix}$$\n",
        "\n"
      ]
    },
    {
      "cell_type": "markdown",
      "metadata": {
        "id": "96CPH5a_j1X9"
      },
      "source": [
        "Calcule el siguiente vector: 3 veces la primera columna de $A$\n",
        "mas la segunda columna de $A$ menos 2 veces la tercera columna\n",
        "menos 3 veces la última columna de $A$\n",
        "\n"
      ]
    },
    {
      "cell_type": "code",
      "execution_count": 9,
      "metadata": {
        "id": "DLRtU4HDOYdq",
        "outputId": "abce5607-2071-4acb-c429-4b3601f7103c",
        "colab": {
          "base_uri": "https://localhost:8080/",
          "height": 280
        }
      },
      "outputs": [
        {
          "output_type": "stream",
          "name": "stderr",
          "text": [
            "<>:1: SyntaxWarning: list indices must be integers or slices, not tuple; perhaps you missed a comma?\n",
            "<>:1: SyntaxWarning: list indices must be integers or slices, not tuple; perhaps you missed a comma?\n",
            "<ipython-input-9-9ae3574a7929>:1: SyntaxWarning: list indices must be integers or slices, not tuple; perhaps you missed a comma?\n",
            "  a = matrix([[1,0,0,-1]\n"
          ]
        },
        {
          "output_type": "error",
          "ename": "NameError",
          "evalue": "name 'matrix' is not defined",
          "traceback": [
            "\u001b[0;31m---------------------------------------------------------------------------\u001b[0m",
            "\u001b[0;31mNameError\u001b[0m                                 Traceback (most recent call last)",
            "\u001b[0;32m<ipython-input-9-9ae3574a7929>\u001b[0m in \u001b[0;36m<cell line: 1>\u001b[0;34m()\u001b[0m\n\u001b[0;32m----> 1\u001b[0;31m a = matrix([[1,0,0,-1]\n\u001b[0m\u001b[1;32m      2\u001b[0m              \u001b[0;34m[\u001b[0m\u001b[0;36m2\u001b[0m\u001b[0;34m,\u001b[0m\u001b[0;36m0\u001b[0m\u001b[0;34m,\u001b[0m\u001b[0;36m7\u001b[0m\u001b[0;34m,\u001b[0m\u001b[0;36m00\u001b[0m\u001b[0;34m]\u001b[0m\u001b[0;34m\u001b[0m\u001b[0;34m\u001b[0m\u001b[0m\n\u001b[1;32m      3\u001b[0m              \u001b[0;34m[\u001b[0m\u001b[0;34m-\u001b[0m\u001b[0;36m4\u001b[0m\u001b[0;34m,\u001b[0m\u001b[0;36m3\u001b[0m\u001b[0;34m,\u001b[0m\u001b[0;36m3\u001b[0m\u001b[0;34m,\u001b[0m\u001b[0;36m0\u001b[0m\u001b[0;34m]\u001b[0m\u001b[0;34m\u001b[0m\u001b[0;34m\u001b[0m\u001b[0m\n\u001b[1;32m      4\u001b[0m              [7,1,2,1]])\n\u001b[1;32m      5\u001b[0m \u001b[0mprint\u001b[0m \u001b[0;34m=\u001b[0m\u001b[0;34m(\u001b[0m\u001b[0ma\u001b[0m\u001b[0;34m)\u001b[0m\u001b[0;34m\u001b[0m\u001b[0;34m\u001b[0m\u001b[0m\n",
            "\u001b[0;31mNameError\u001b[0m: name 'matrix' is not defined"
          ]
        }
      ],
      "source": [
        "a = matrix([[1,0,0,-1]\n",
        "             [2,0,7,00]\n",
        "             [-4,3,3,0]\n",
        "             [7,1,2,1))"
      ]
    },
    {
      "cell_type": "markdown",
      "metadata": {
        "ein.tags": "worksheet-0",
        "id": "kjhE4PPdWKYI"
      },
      "source": [
        "4. Matriz por vector (combinaciones lineales de las columnas de una matriz)\n",
        "\n",
        "Considere los vectores ${x}=(1, 1, -2)$, ${y}=(1, -2, 1)$\n",
        "\n",
        "y\n",
        "${z}=(-2, 1, 1)$ y verifique que\n",
        "$2{x}+2{y}+2{z}={0}$\n",
        "\n",
        "que resultado da : $4x+4y+4z$\n",
        "\n",
        "y que resultado da:  $-3x-3y-3z$"
      ]
    },
    {
      "cell_type": "markdown",
      "metadata": {
        "ein.tags": "worksheet-0",
        "id": "_38hNp-wcDuB"
      },
      "source": [
        "5. Escribe una matriz C del mismo orden que A y verifica que\n",
        "$$\n",
        "({A}{C})^T={C}^T{A}^T\n",
        "$$"
      ]
    },
    {
      "cell_type": "code",
      "source": [],
      "metadata": {
        "id": "frH6ZOYnmErd"
      },
      "execution_count": null,
      "outputs": []
    },
    {
      "cell_type": "markdown",
      "metadata": {
        "ein.tags": "worksheet-0",
        "id": "Hin_mRv6cDtt"
      },
      "source": [
        "6. Verifique que\n",
        "$\n",
        "{A}{I}={A}\n",
        "$\n",
        "y que\n",
        "$\n",
        "{I}{A}={A}\n",
        "$"
      ]
    },
    {
      "cell_type": "code",
      "execution_count": null,
      "metadata": {
        "autoscroll": false,
        "ein.hycell": false,
        "ein.tags": "worksheet-0",
        "id": "8dfGpxIdcDtt"
      },
      "outputs": [],
      "source": []
    },
    {
      "cell_type": "markdown",
      "source": [
        "7. Producto punto\n",
        "Considere los vectores ${x}=(1, 1, -2)$, ${y}=(1, -2, 1)$\n",
        "calcula el producto punto"
      ],
      "metadata": {
        "id": "aHZ16S1peAeY"
      }
    },
    {
      "cell_type": "code",
      "source": [],
      "metadata": {
        "id": "QPfhac1geMQK"
      },
      "execution_count": null,
      "outputs": []
    }
  ]
}